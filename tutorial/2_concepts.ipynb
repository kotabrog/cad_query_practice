{
 "cells": [
  {
   "cell_type": "code",
   "execution_count": 1,
   "metadata": {},
   "outputs": [
    {
     "data": {
      "application/javascript": "\n\nfunction render(data, parent_element, ratio){\n    \n    // Initial setup\n    const renderWindow = vtk.Rendering.Core.vtkRenderWindow.newInstance();\n    const renderer = vtk.Rendering.Core.vtkRenderer.newInstance({ background: [1, 1, 1 ] });\n    renderWindow.addRenderer(renderer);\n        \n    // iterate over all children children\n    for (var el of data){ \n        var trans = el.position;\n        var rot = el.orientation;\n        var rgba = el.color;\n        var shape = el.shape;\n        \n        // load the inline data\n        var reader = vtk.IO.XML.vtkXMLPolyDataReader.newInstance();\n        const textEncoder = new TextEncoder();\n        reader.parseAsArrayBuffer(textEncoder.encode(shape));\n\n        // setup actor,mapper and add\n        const mapper = vtk.Rendering.Core.vtkMapper.newInstance();\n        mapper.setInputConnection(reader.getOutputPort());\n        mapper.setResolveCoincidentTopologyToPolygonOffset();\n        mapper.setResolveCoincidentTopologyPolygonOffsetParameters(0.9,20);\n\n        const actor = vtk.Rendering.Core.vtkActor.newInstance();\n        actor.setMapper(mapper);\n\n        // set color and position\n        actor.getProperty().setColor(rgba.slice(0,3));\n        actor.getProperty().setOpacity(rgba[3]);\n        \n        actor.rotateZ(rot[2]*180/Math.PI);\n        actor.rotateY(rot[1]*180/Math.PI);\n        actor.rotateX(rot[0]*180/Math.PI);\n        \n        actor.setPosition(trans);\n\n        renderer.addActor(actor);\n\n    };\n    \n    renderer.resetCamera();\n    \n    const openglRenderWindow = vtk.Rendering.OpenGL.vtkRenderWindow.newInstance();\n    renderWindow.addView(openglRenderWindow);\n\n    // Add output to the \"parent element\"\n    var container;\n    var dims;\n    \n    if(typeof(parent_element.appendChild) !== \"undefined\"){\n        container = document.createElement(\"div\");\n        parent_element.appendChild(container);\n        dims = parent_element.getBoundingClientRect();\n    }else{\n        container = parent_element.append(\"<div/>\").children(\"div:last-child\").get(0);\n        dims = parent_element.get(0).getBoundingClientRect();\n    };\n\n    openglRenderWindow.setContainer(container);\n    \n    // handle size\n    if (ratio){\n        openglRenderWindow.setSize(dims.width, dims.width*ratio);\n    }else{\n        openglRenderWindow.setSize(dims.width, dims.height);\n    };\n    \n    // Interaction setup\n    const interact_style = vtk.Interaction.Style.vtkInteractorStyleManipulator.newInstance();\n\n    const manips = {\n        rot: vtk.Interaction.Manipulators.vtkMouseCameraTrackballRotateManipulator.newInstance(),\n        pan: vtk.Interaction.Manipulators.vtkMouseCameraTrackballPanManipulator.newInstance(),\n        zoom1: vtk.Interaction.Manipulators.vtkMouseCameraTrackballZoomManipulator.newInstance(),\n        zoom2: vtk.Interaction.Manipulators.vtkMouseCameraTrackballZoomManipulator.newInstance(),\n        roll: vtk.Interaction.Manipulators.vtkMouseCameraTrackballRollManipulator.newInstance(),\n    };\n\n    manips.zoom1.setControl(true);\n    manips.zoom2.setScrollEnabled(true);\n    manips.roll.setShift(true);\n    manips.pan.setButton(2);\n\n    for (var k in manips){\n        interact_style.addMouseManipulator(manips[k]);\n    };\n\n    const interactor = vtk.Rendering.Core.vtkRenderWindowInteractor.newInstance();\n    interactor.setView(openglRenderWindow);\n    interactor.initialize();\n    interactor.bindEvents(container);\n    interactor.setInteractorStyle(interact_style);\n\n    // Orientation marker\n\n    const axes = vtk.Rendering.Core.vtkAnnotatedCubeActor.newInstance();\n    axes.setXPlusFaceProperty({text: '+X'});\n    axes.setXMinusFaceProperty({text: '-X'});\n    axes.setYPlusFaceProperty({text: '+Y'});\n    axes.setYMinusFaceProperty({text: '-Y'});\n    axes.setZPlusFaceProperty({text: '+Z'});\n    axes.setZMinusFaceProperty({text: '-Z'});\n\n    const orientationWidget = vtk.Interaction.Widgets.vtkOrientationMarkerWidget.newInstance({\n        actor: axes,\n        interactor: interactor });\n    orientationWidget.setEnabled(true);\n    orientationWidget.setViewportCorner(vtk.Interaction.Widgets.vtkOrientationMarkerWidget.Corners.BOTTOM_LEFT);\n    orientationWidget.setViewportSize(0.2);\n\n};\n\n\nnew Promise(\n  function(resolve, reject)\n  {\n    if (typeof(require) !== \"undefined\" ){\n        require.config({\n         \"paths\": {\"vtk\": \"https://unpkg.com/vtk\"},\n        });\n        require([\"vtk\"], resolve, reject);\n    } else if ( typeof(vtk) === \"undefined\" ){\n        var script = document.createElement(\"script\");\n    \tscript.onload = resolve;\n    \tscript.onerror = reject;\n    \tscript.src = \"https://unpkg.com/vtk.js\";\n    \tdocument.head.appendChild(script);\n    } else { resolve() };\n }\n).then(() => {\n    var parent_element = element;\n    var data = [{\"shape\": \"<?xml version=\\\"1.0\\\"?>\\n<VTKFile type=\\\"PolyData\\\" version=\\\"0.1\\\" byte_order=\\\"LittleEndian\\\" header_type=\\\"UInt32\\\" compressor=\\\"vtkZLibDataCompressor\\\">\\n  <PolyData>\\n    <Piece NumberOfPoints=\\\"1396\\\"                 NumberOfVerts=\\\"12\\\"                   NumberOfLines=\\\"798\\\"                  NumberOfStrips=\\\"0\\\"                    NumberOfPolys=\\\"516\\\"                 >\\n      <PointData Normals=\\\"Normals\\\">\\n        <DataArray type=\\\"Float32\\\" Name=\\\"Normals\\\" NumberOfComponents=\\\"3\\\" format=\\\"appended\\\" RangeMin=\\\"0\\\"                    RangeMax=\\\"1.0000000576\\\"         offset=\\\"0\\\"                   />\\n      </PointData>\\n      <CellData Normals=\\\"Normals\\\">\\n        <DataArray type=\\\"Int64\\\" IdType=\\\"1\\\" Name=\\\"SUBSHAPE_IDS\\\" format=\\\"appended\\\" RangeMin=\\\"5\\\"                    RangeMax=\\\"49\\\"                   offset=\\\"2344\\\"                />\\n        <DataArray type=\\\"Int64\\\" IdType=\\\"1\\\" Name=\\\"MESH_TYPES\\\" format=\\\"appended\\\" RangeMin=\\\"2\\\"                    RangeMax=\\\"8\\\"                    offset=\\\"2552\\\"                />\\n        <DataArray type=\\\"Float32\\\" Name=\\\"Normals\\\" NumberOfComponents=\\\"3\\\" format=\\\"appended\\\" RangeMin=\\\"0.99999997063\\\"        RangeMax=\\\"1.0000000311\\\"         offset=\\\"2672\\\"                />\\n      </CellData>\\n      <Points>\\n        <DataArray type=\\\"Float32\\\" Name=\\\"Points\\\" NumberOfComponents=\\\"3\\\" format=\\\"appended\\\" RangeMin=\\\"1.6224158378\\\"         RangeMax=\\\"1.802776332\\\"          offset=\\\"4292\\\"                />\\n      </Points>\\n      <Verts>\\n        <DataArray type=\\\"Int64\\\" Name=\\\"connectivity\\\" format=\\\"appended\\\" RangeMin=\\\"\\\"                     RangeMax=\\\"\\\"                     offset=\\\"6304\\\"                />\\n        <DataArray type=\\\"Int64\\\" Name=\\\"offsets\\\" format=\\\"appended\\\" RangeMin=\\\"\\\"                     RangeMax=\\\"\\\"                     offset=\\\"6376\\\"                />\\n      </Verts>\\n      <Lines>\\n        <DataArray type=\\\"Int64\\\" Name=\\\"connectivity\\\" format=\\\"appended\\\" RangeMin=\\\"\\\"                     RangeMax=\\\"\\\"                     offset=\\\"6448\\\"                />\\n        <DataArray type=\\\"Int64\\\" Name=\\\"offsets\\\" format=\\\"appended\\\" RangeMin=\\\"\\\"                     RangeMax=\\\"\\\"                     offset=\\\"8480\\\"                />\\n      </Lines>\\n      <Strips>\\n        <DataArray type=\\\"Int64\\\" Name=\\\"connectivity\\\" format=\\\"appended\\\" RangeMin=\\\"\\\"                     RangeMax=\\\"\\\"                     offset=\\\"10088\\\"               />\\n        <DataArray type=\\\"Int64\\\" Name=\\\"offsets\\\" format=\\\"appended\\\" RangeMin=\\\"\\\"                     RangeMax=\\\"\\\"                     offset=\\\"10104\\\"               />\\n      </Strips>\\n      <Polys>\\n        <DataArray type=\\\"Int64\\\" Name=\\\"connectivity\\\" format=\\\"appended\\\" RangeMin=\\\"\\\"                     RangeMax=\\\"\\\"                     offset=\\\"10120\\\"               />\\n        <DataArray type=\\\"Int64\\\" Name=\\\"offsets\\\" format=\\\"appended\\\" RangeMin=\\\"\\\"                     RangeMax=\\\"\\\"                     offset=\\\"12816\\\"               />\\n      </Polys>\\n    </Piece>\\n  </PolyData>\\n  <AppendedData encoding=\\\"base64\\\">\\n   _AQAAAACAAABwQQAAzAYAAA==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eJzt2DcKgmEUBVEbMSvmgAGzKIruf3MiTvG6v/yKN7c5a7jTrP3Xwg72cIQTnOECN3jAE16wgW3sYh+HyR0nd4rz5C6Tu07uFvfJPSb3jNfk3vGJb6xXOFBVxZVqcKeqijfV4EM1+Krwoxq0R6iq/UF/K/1vVNW+oGUs/V+1rPYCjX4B/qidOw==AQAAAACAAABwKQAARgAAAA==eJzt1DEKACAMA0ApiP7/xQ5OgjgoguB1ubVDkkj94pKZJLm0PvIH+YL6QJJn2lGSnGsfSX3gnvIyWkiSJEmS5Pc23HMd3Q==AQAAAACAAAAoPgAAqwQAAA==eJztl19olXUYxw8VOL0oaYJEGIiQg6LZDgyXnvfXysgRClLUYPmn8mKNJsRSGrOdH4GoQYMSFpiS7arp1XbCZHje300xpWAsgmZ0p6yLuvFCKLPo/T17nvntPHtjq1kungMbn/Ps+/7Z+35/v+f7FAreFWY/xsbGxsbGxsbGxsbGxsbGxsbGxsbGxsbGxsbGxsbGxsbGxsbGxkuAQ/w180M8+wfQ+jmOW0r1hR67WOdfrPv5r+5zofew1LmQw/PR3G76PM0/udZCj70V55nP+W/FsYul+Tfv+W8f21V38fyTP5WphnzX8GC1e7vm30evV9fW9yv+ZmVj+uCmg4ovdexJPx7vVTwycCS9c+yA4snjp9JnVvUobtpyLj0xtU/x2b6J9MzyLsXdxem04/RexRt33kgL6S7FA9fqQsfWdsUtnfWhuG2H4gvlNeG+yTbFzzavDz1TrYqrhzaExztbFD/V2RLOHdqg+LWp1tDRvF7x6sm28GV5jeLSth3hoc56xS9sbQ/HrtUpXpbuCmt33khq+fnTe8PbxWnF2fMO2XMn/mR5V/i8b0IxapaNHQjvDxwhblvVE747fkrxyfHecP+Le5S+YdPBcHJlo9Ksq+8P+0evl2o1WM/8G8KKi5vpvW8vhzuGB0u1jJr4qRu+e2PhT5nI2NiHdVeHzmbwaeTfLl0YaRgpE/e2D45e/aKf+OnLg01S/+HKL6NbnniLuPuVX5tE8/Nzj1T6Hu4jfmO8sSia9tbdlQfefZP45RMvFUXz2LeHK0f37Sduee9oUTSXv/qo8uH3rxOPNQwVRXPm8GeV5Eo38fgHY0XRvHPvRGXFsVdnrjX9dVE0t8Oz/T+wPNtYAJ5TP593kfce886Z54c8fZ6v8vToSfRqnh69jZ7P0+MawbWTp8e1hmswT//j6rZHC7x+75kaapZjUcO94Hz8wj2iGhnq0l+qNRrpQWmsg0Z6FtVBIz2O6qCRnkh10Eg/pTpopOdSHTRYl95NGmDp9TPXusmSDcjLnB+IoV6AumQS0nAOoToyaCTzkJ5zDtWRQSPZSTFnMDoP5y6qI3N+Iw3osS6ZkDScA6mODBrJnKTnnEl1ZM6rpAE91iXrKubMTMdyTqY6Mmgkk5OeczjVkUEj2V5xzPuQlxxkpNl65m0n+Qo1WM987iSPAUefO8lvwNHnTvIecPS5g6woHH3uOFsiR887zp8eOPrfcXb1wNH/jrOuB47+d5yNPXD0vOMs7YGjzx1nbw8cPe84q3vg6HPH2d4DR887ngU8cPS849nBA0efO5g7hKPPHcwpwj7zvONZBjn6PIE5SNhnnk94VkKOPk9gzhKOPk9gLhP2mecTmOOEfeb5BOY+4ej5BOZEYZ95PoG5Ujh6vgRzqLDPPF+CuVXYZ57fDHOusC/cnIeFPWgCnCfU1vm6SsP3qTT8fykNPwel4eemNPyclYbfi9Jgnd+pYvaAYvaMYvaYYvakYvaw7PMO9vk567xGpI846SN5dV6DinnNKuY1Tsz7QPpXdd5DpM866LNz1nmPUsx7nfR9Jz0dGTW8lxLz/qmY9+FqrR7rvJ9TnuE9vFrLqPkD3mbYEQ==AQAAAACAAABwQQAA0gUAAA==eJztWU1oXUUYvblGotJWULtQCehCWgUlUkXx5c23aBUVpSh2oS4sdVE3JRYNVPyrFuqiLrSCrhTqriJUF4KYd+ekKw2WbgQFN62KtTuFiC4EcWZyz3snr/eZrvpu6QRCDi/3Z+Y7Z75zZl5RFCjS76Kt/C1M8USxWP8/XRP/hp/9vN7kXpN74zWrcCn3Tq1gk2daw7sax7PG2Jo+t4Zr0uePPr/s921awU+ePeOXPlzBp+Z+9J/smkj4nQ0n/ZH5MuH1J477ye8vS/i3Y1/4f968POH3jx/1r7w8lfD8FR/5x/yVCS8eOuyve3hdwocef8vfNX11wge/3ueX774m4UfeftbvPrwx4f3Fdv/6zPUJn5zp+H/XTye859bN/sDmmxO+4a+N/uCrtyS84eNJ//RVtyW8PHe22nLijoT/PrBU3bS4JeHOe59W1/5yb8IfHHu3+vlOl/C27/ZWDxzdmvDWI9uq0/c/lPC6X2+sOpPbE35t7vfet6efSHjHM5/1/vzhqYQn35jvTZ3ZmfDMc9O9B6d2J1zu+Hzhj3v2JLx3aXrh9hdfSPibn6a/2vTlS+RC9dPH4Zr7eE24t8N7wzM7fGZ41yzfFcYwyzGEsc1ybGHMsxxzmEuXcwlz7HKOYe5dzj3UpMuahFp1WatQwy5rGGrbZW1DzR1rHrhw5CJw5MhR4M6Ru8CpI6eBa0eugwYcNRC04aiNoBlHzQQtOWopaMxRY0F7jtoLmnTUZNCqo1aDhh01HLTtqO2geUfNN6zfprXcx/W9Js80eZfJGEzGZjJmk7mYzNFk7iY1MamVSQ1NamtScxMuTDgy4c6EUxOuTTRgog0TzZhoyURjJtoz0aSJVk00bKJtE82brAXW/5xeKmuK9y7w3noN8l09vqtesxxbj2Or1zjnUnEudU/g3CvOve4hrFXFWtU9h7WtWNu6R5ELTy7qnkbuPLmreyC59uS67pnUhqc26h5LLXlqqe7J1J6n9uoeTq16arXu+dS2p7Zrj2D90eRBvCZ6HO+NmM+MmO+KmGOImGOLmGOOmHOJmHOMmHOPmDWJmLWKmDWMmLWNmDWPmFxETI4iJncRk9OIyXXE1EDE1EbE1EzE1FLE1FjE1F7E1GTE1GrE1HDE1HbE1LxkiZFYOIo9DeL1EK+HeD3E6yFeD/F6iNdDvB7i9RCvh3g9xOshXg/xeojXQ7we4vUQr4d4PcTrIV4P8XqI10O8HuL1EK+HeD3E6yFeD/F6iNeTi3PynngQxJsgngXxMojHQbwP4okQr4R4KMRbIZ4L8WKIR0O8G+LpEK+HZABINoBkBkiWgGQMSPaAZBJIVoFkGEi2gWQeSBaCZCRIdoJkqpFcDGXv/jqiB5WDZ3Jtdrg26WXlYGxc47Nc4/TEcjBH9oouewW9tRzUij2ny55Djy4HNWfvcuxd9PpywB17oGMPZGYoBxpgL3Xspcwe5UBL7MmOPZkZphxokr3dsbczC5UDbdMjHD2Cmaps5oJ8De+5TPHEak5tiF8UF2g/1fBMiIdCvBXiuRAvhng0xLshng7xekgGgGQDSGaAZAlIxoBkD0gmgWQVSIaBZBtI5oFkIUhGgmQnSKaCZK2E8z4r77PyPivvs/I+K++zLtJ9Vl4vLVsvw2vnPHJd3iPnPXLeI+c98sW0R+73sZwNWpENms4rsr8UrfEXcrGKl3xW07qzmuwv7fCXUfsdy2c1rTmr6XMxxJ2tdc424vphDQw/Z1VflbFBxgyZC2SOkLlDagKpFaSGkNpCag7hAsIRe92ldqY6Knv0+cr7qdbsp4bXEdY4r7BiRFbRe3NuGW9uyT1w7D3QciZpRybJZ+DtOAPXDJ95GRsv/T1UPqMbyxkdhrOWnJemz/NZXP6u5xLcm1jTOU8+c7vwZ27ZF8b23c3/fV+T99Tj2VNDfCF7dDEWj85e0KLvX+p1Yfl8Y6znG/36n+f3I1bkfNvGs/d8ZluM78z2P7ZPuCQ=AQAAAACAAABgAAAAJAAAAA==eJwtxbcBACAMAKBYY/n/XwdhIeIrrm7uHp5OL28fXz8JUABDAQAAAACAAABgAAAAJAAAAA==eJwtxbcBACAMACB7bP/f6yAs5PQVVzd3D4enl7ePrx8LwABPAQAAAACAAADgMQAA4AUAAA==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AQAAAACAAADwGAAAowQAAA==eJw12FFHIIoChdE53U6SJEmSJEmSJEmSJEmSJEmSJElGkiRJkiRJkiRJkiRJkiRJkiRJkiTJSJIkSZIkSe7DrLNf1m/YX8CvvwtkEIMZwlCGMZwRjGQUoxnDWMYxnglMZBKTmcJUpjGdGcxkFrOZw1zmMZ8FLGQRi1nCUpaxnBWsZBWrWcNa1rGeDWxkE3+zmS1sZRvb2cFOdrGbPexlH/s5wEEOcZgjHOUYxznBSU5xmjOc5RznucBFLnGZK1zlGte5wU1ucZs73OUe93nAQx7xmCc85RnPecFLXvEPr3nDW97xng985BOf+cJXvvGdH/zkF7/5w1///CWAgQxiMEMYyjCGM4KRjGI0YxjLOMYzgYlMYjJTmMo0pjODmcxiNnOYyzzms4CFLGIxS1jKMpazgpWsYjVrWMs61rOBjWzibzazha1sYzs72MkudrOHvexjPwc4yCEOc4SjHOM4JzjJKU5zhrOc4zwXuMglLnOFq1zjOje4yS1uc4e73OM+D3jIIx7zhKc84zkveMkr/uE1b3jLO97zgY984jNf+Mo3vvODn/ziN3/4KwAMZBCDGcJQhjGcEYxkFKMZw1jGMZ4JTGQSk5nCVKYxnRnMZBazmcNc5jGfBSxkEYtZwlKWsZwVrGQVq1nDWtaxng1sZBN/s5ktbGUb29nBTnaxmz3sZR/7OcBBDnGYIxzlGMc5wUlOcZoznOUc57nARS5xmStc5RrXucFNbnGbO9zlHvd5wEMe8ZgnPOUZz3nBS17xD695w1ve8Z4PfOQTn/nCV77xnR/85Be/+cNf//tLAAMZxGCGMJRhDGcEIxnFaMYwlnGMZwITmcRkpjCVaUxnBjOZxWzmMJd5zGcBC1nEYpawlGUsZwUrWcVq1rCWdaxnAxvZxN9sZgtb2cZ2drCTXexmD3vZx34OcJBDHOYIRznGcU5wklOc5gxnOcd5LnCRS1zmCle5xnVucJNb3OYOd7nHfR7wkEc85glPecZzXvCSV/zDa97wlne85wMf+cRnvvCVb3znBz/5xW/+8L/DH8BABjGYIQxlGMMZwUhGMZoxjGUc45nARCYxmSlMZRrTmcFMZjGbOcxlHvNZwEIWsZglLGUZy1nBSlaxmjWsZR3r2cBGNvE3m9nCVraxnR3sZBe72cNe9rGfAxzkEIc5wlGOcZwTnOQUpznDWc5xngtc5BKXucJVrnGdG9zkFre5w13ucZ8HPOQRj3nCU57xnBe85BX/8Jo3vOUd7/nARz7xmS985Rvf+cFPfvGbP/z1718CGMggBjOEoQxjOCMYyShGM4axjGM8E5jIJCYzhalMYzozmMksZjOHucxjPgtYyCIWs4SlLGM5K1jJKlazhrWsYz0b2Mgm/mYzW9jKNrazg53sYjd72Ms+9nOAgxziMEc4yjGOc4KTnOI0ZzjLOc5zgYtc4jJXuMo1rnODm9ziNne4yz3u84CHPOIxT3jKM57zgpe84h9e84a3vOM9H/jIJz7zha984zs/+MkvfvOH/4X+AAYyiMEMYSjDGM4IRjKK0YxhLOMYzwQmMonJTGEq05jODGYyi9nMYS7/DyxiiOw=AAAAAACAAAAAAAAAAAAAAACAAAAAAAAAAQAAAACAAABgMAAA0gcAAA==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AQAAAACAAAAgEAAAPwMAAA==eJw111PDEAYAQNFs27Ztu5Zt27Zt17Zqy7Zt27Ztew/f2X05v+EGDRRQCIZmOEZkFEZnLMZlAiZmMqZkGqZnJmZlDuZmPhZkERZnKf7B8qzEqqzB2qzHhmzC5mzFtuzAzuzGnuzD/hzEoRzB0RzHiZzC6fybszib87iQS7icq7iWG7iZ27iTe7ifh3iUJ3ia53iRV3idt3iXD/iYz/iSb/ien/iVP/ibQQIHGJyhGJYRGJnRGJNxGJ+JmJQpmJrpmJFZmJ25mJcFWJjFWJJlWI4VWYXVWYt12YCN2Ywt2Ybt2Yld2YO92Y8DOYTDOYpjOYGTOY1/cSb/5Vwu4GIu40qu4Xpu4lbu4G7u40Ee4XGe4lle4GVe403e4X0+4lO+4Gu+40d+4Xf+YuAgAQZjSIZheEZiVMZgbMZjQiZhcqZiWmZgZmZjTuZhfhZiUZZgaZZlBVZmNdZkHdZnIzZlC7ZmO3ZkF3ZnL/blAA7mMI7kGI7nJE7ln5zBfziH87mIS7mCq7mOG7mF27mLe3mAh3mMJ3mG53mJV3mDt3mPD/mEz/mKb/mBn/mNPxkoKBiCoRmOERmF0RmLcZmAiZmMKZmG6ZmJWZmDuZmPBVmExVmKf7A8K7Eqa7A267Ehm7A5W7EtO7Azu7En+7A/B3EoR3A0x3Eip3A6/+YszuY8LuQSLucqruUGbuY27uQe7uchHuUJnuY5XuQVXuct3uUDPuYzvuQbvucnfuUP/maQYAEGZyiGZQRGZjTGZBzGZyImZQqmZjpmZBZmZy7mZQEWZjGWZBmWY0VWYXXWYl02YGM2Y0u2YXt2Ylf2YG/240AO4XCO4lhO4GRO41+cyX85lwu4mMu4kmu4npu4lTu4m/t4kEd4nKd4lhd4mdd4k3d4n4/4lC/4mu/4kV/4nb8YOHiAwRiSYRiekRiVMRib8ZiQSZicqZiWGZiZ2ZiTeZifhViUJViaZVmBlVmNNVmH9dmITdmCrdmOHdmF3dmLfTmAgzmMIzmG4zmJU/knZ/AfzuF8LuJSruBqruNGbuF27uJeHuBhHuNJnuF5XuJV3uBt3uNDPuFzvuJbfuBnfuNP/j/8QRmCoRmO/wGxOARK\\n  </AppendedData>\\n</VTKFile>\\n\", \"color\": [1, 0.8, 0, 1], \"position\": [0, 0, 0], \"orientation\": [0, 0, 0]}];\n    render(data, parent_element, 0.5);\n});\n",
      "text/plain": [
       "<cadquery.cq.Workplane at 0x7f1f98d62fa0>"
      ]
     },
     "execution_count": 1,
     "metadata": {},
     "output_type": "execute_result"
    }
   ],
   "source": [
    "import cadquery as cq\n",
    "from cadquery import Workplane\n",
    "\n",
    "part = Workplane(\"XY\").box(1, 2, 3).faces(\">Z\").vertices().circle(0.5).cutThruAll()\n",
    "part"
   ]
  },
  {
   "cell_type": "code",
   "execution_count": 2,
   "metadata": {},
   "outputs": [
    {
     "data": {
      "text/plain": [
       "(<cadquery.occ_impl.shapes.Wire at 0x7f208aaee640>,\n",
       " <cadquery.occ_impl.shapes.Face at 0x7f208aaee400>)"
      ]
     },
     "execution_count": 2,
     "metadata": {},
     "output_type": "execute_result"
    }
   ],
   "source": [
    "from cadquery import Wire, Face, Vector\n",
    "\n",
    "circle_wire = Wire.makeCircle(10, Vector(0, 0, 0), Vector(0, 0, 1))\n",
    "circular_face = Face.makeFromWires(circle_wire, [])\n",
    "circle_wire, circular_face"
   ]
  },
  {
   "cell_type": "code",
   "execution_count": 3,
   "metadata": {},
   "outputs": [
    {
     "data": {
      "application/javascript": "\n\nfunction render(data, parent_element, ratio){\n    \n    // Initial setup\n    const renderWindow = vtk.Rendering.Core.vtkRenderWindow.newInstance();\n    const renderer = vtk.Rendering.Core.vtkRenderer.newInstance({ background: [1, 1, 1 ] });\n    renderWindow.addRenderer(renderer);\n        \n    // iterate over all children children\n    for (var el of data){ \n        var trans = el.position;\n        var rot = el.orientation;\n        var rgba = el.color;\n        var shape = el.shape;\n        \n        // load the inline data\n        var reader = vtk.IO.XML.vtkXMLPolyDataReader.newInstance();\n        const textEncoder = new TextEncoder();\n        reader.parseAsArrayBuffer(textEncoder.encode(shape));\n\n        // setup actor,mapper and add\n        const mapper = vtk.Rendering.Core.vtkMapper.newInstance();\n        mapper.setInputConnection(reader.getOutputPort());\n        mapper.setResolveCoincidentTopologyToPolygonOffset();\n        mapper.setResolveCoincidentTopologyPolygonOffsetParameters(0.9,20);\n\n        const actor = vtk.Rendering.Core.vtkActor.newInstance();\n        actor.setMapper(mapper);\n\n        // set color and position\n        actor.getProperty().setColor(rgba.slice(0,3));\n        actor.getProperty().setOpacity(rgba[3]);\n        \n        actor.rotateZ(rot[2]*180/Math.PI);\n        actor.rotateY(rot[1]*180/Math.PI);\n        actor.rotateX(rot[0]*180/Math.PI);\n        \n        actor.setPosition(trans);\n\n        renderer.addActor(actor);\n\n    };\n    \n    renderer.resetCamera();\n    \n    const openglRenderWindow = vtk.Rendering.OpenGL.vtkRenderWindow.newInstance();\n    renderWindow.addView(openglRenderWindow);\n\n    // Add output to the \"parent element\"\n    var container;\n    var dims;\n    \n    if(typeof(parent_element.appendChild) !== \"undefined\"){\n        container = document.createElement(\"div\");\n        parent_element.appendChild(container);\n        dims = parent_element.getBoundingClientRect();\n    }else{\n        container = parent_element.append(\"<div/>\").children(\"div:last-child\").get(0);\n        dims = parent_element.get(0).getBoundingClientRect();\n    };\n\n    openglRenderWindow.setContainer(container);\n    \n    // handle size\n    if (ratio){\n        openglRenderWindow.setSize(dims.width, dims.width*ratio);\n    }else{\n        openglRenderWindow.setSize(dims.width, dims.height);\n    };\n    \n    // Interaction setup\n    const interact_style = vtk.Interaction.Style.vtkInteractorStyleManipulator.newInstance();\n\n    const manips = {\n        rot: vtk.Interaction.Manipulators.vtkMouseCameraTrackballRotateManipulator.newInstance(),\n        pan: vtk.Interaction.Manipulators.vtkMouseCameraTrackballPanManipulator.newInstance(),\n        zoom1: vtk.Interaction.Manipulators.vtkMouseCameraTrackballZoomManipulator.newInstance(),\n        zoom2: vtk.Interaction.Manipulators.vtkMouseCameraTrackballZoomManipulator.newInstance(),\n        roll: vtk.Interaction.Manipulators.vtkMouseCameraTrackballRollManipulator.newInstance(),\n    };\n\n    manips.zoom1.setControl(true);\n    manips.zoom2.setScrollEnabled(true);\n    manips.roll.setShift(true);\n    manips.pan.setButton(2);\n\n    for (var k in manips){\n        interact_style.addMouseManipulator(manips[k]);\n    };\n\n    const interactor = vtk.Rendering.Core.vtkRenderWindowInteractor.newInstance();\n    interactor.setView(openglRenderWindow);\n    interactor.initialize();\n    interactor.bindEvents(container);\n    interactor.setInteractorStyle(interact_style);\n\n    // Orientation marker\n\n    const axes = vtk.Rendering.Core.vtkAnnotatedCubeActor.newInstance();\n    axes.setXPlusFaceProperty({text: '+X'});\n    axes.setXMinusFaceProperty({text: '-X'});\n    axes.setYPlusFaceProperty({text: '+Y'});\n    axes.setYMinusFaceProperty({text: '-Y'});\n    axes.setZPlusFaceProperty({text: '+Z'});\n    axes.setZMinusFaceProperty({text: '-Z'});\n\n    const orientationWidget = vtk.Interaction.Widgets.vtkOrientationMarkerWidget.newInstance({\n        actor: axes,\n        interactor: interactor });\n    orientationWidget.setEnabled(true);\n    orientationWidget.setViewportCorner(vtk.Interaction.Widgets.vtkOrientationMarkerWidget.Corners.BOTTOM_LEFT);\n    orientationWidget.setViewportSize(0.2);\n\n};\n\n\nnew Promise(\n  function(resolve, reject)\n  {\n    if (typeof(require) !== \"undefined\" ){\n        require.config({\n         \"paths\": {\"vtk\": \"https://unpkg.com/vtk\"},\n        });\n        require([\"vtk\"], resolve, reject);\n    } else if ( typeof(vtk) === \"undefined\" ){\n        var script = document.createElement(\"script\");\n    \tscript.onload = resolve;\n    \tscript.onerror = reject;\n    \tscript.src = \"https://unpkg.com/vtk.js\";\n    \tdocument.head.appendChild(script);\n    } else { resolve() };\n }\n).then(() => {\n    var parent_element = element;\n    var data = [{\"shape\": \"<?xml version=\\\"1.0\\\"?>\\n<VTKFile type=\\\"PolyData\\\" version=\\\"0.1\\\" byte_order=\\\"LittleEndian\\\" header_type=\\\"UInt32\\\" compressor=\\\"vtkZLibDataCompressor\\\">\\n  <PolyData>\\n    <Piece NumberOfPoints=\\\"128\\\"                  NumberOfVerts=\\\"1\\\"                    NumberOfLines=\\\"126\\\"                  NumberOfStrips=\\\"0\\\"                    NumberOfPolys=\\\"0\\\"                   >\\n      <PointData Normals=\\\"Normals\\\">\\n        <DataArray type=\\\"Float32\\\" Name=\\\"Normals\\\" NumberOfComponents=\\\"3\\\" format=\\\"appended\\\" RangeMin=\\\"1\\\"                    RangeMax=\\\"1\\\"                    offset=\\\"0\\\"                   />\\n      </PointData>\\n      <CellData>\\n        <DataArray type=\\\"Int64\\\" IdType=\\\"1\\\" Name=\\\"SUBSHAPE_IDS\\\" format=\\\"appended\\\" RangeMin=\\\"2\\\"                    RangeMax=\\\"3\\\"                    offset=\\\"60\\\"                  />\\n        <DataArray type=\\\"Int64\\\" IdType=\\\"1\\\" Name=\\\"MESH_TYPES\\\" format=\\\"appended\\\" RangeMin=\\\"2\\\"                    RangeMax=\\\"3\\\"                    offset=\\\"112\\\"                 />\\n      </CellData>\\n      <Points>\\n        <DataArray type=\\\"Float32\\\" Name=\\\"Points\\\" NumberOfComponents=\\\"3\\\" format=\\\"appended\\\" RangeMin=\\\"9.999999559\\\"          RangeMax=\\\"10.0000004\\\"           offset=\\\"164\\\"                 />\\n      </Points>\\n      <Verts>\\n        <DataArray type=\\\"Int64\\\" Name=\\\"connectivity\\\" format=\\\"appended\\\" RangeMin=\\\"\\\"                     RangeMax=\\\"\\\"                     offset=\\\"1064\\\"                />\\n        <DataArray type=\\\"Int64\\\" Name=\\\"offsets\\\" format=\\\"appended\\\" RangeMin=\\\"\\\"                     RangeMax=\\\"\\\"                     offset=\\\"1104\\\"                />\\n      </Verts>\\n      <Lines>\\n        <DataArray type=\\\"Int64\\\" Name=\\\"connectivity\\\" format=\\\"appended\\\" RangeMin=\\\"\\\"                     RangeMax=\\\"\\\"                     offset=\\\"1144\\\"                />\\n        <DataArray type=\\\"Int64\\\" Name=\\\"offsets\\\" format=\\\"appended\\\" RangeMin=\\\"\\\"                     RangeMax=\\\"\\\"                     offset=\\\"1472\\\"                />\\n      </Lines>\\n      <Strips>\\n        <DataArray type=\\\"Int64\\\" Name=\\\"connectivity\\\" format=\\\"appended\\\" RangeMin=\\\"\\\"                     RangeMax=\\\"\\\"                     offset=\\\"1824\\\"                />\\n        <DataArray type=\\\"Int64\\\" Name=\\\"offsets\\\" format=\\\"appended\\\" RangeMin=\\\"\\\"                     RangeMax=\\\"\\\"                     offset=\\\"1840\\\"                />\\n      </Strips>\\n      <Polys>\\n        <DataArray type=\\\"Int64\\\" Name=\\\"connectivity\\\" format=\\\"appended\\\" RangeMin=\\\"\\\"                     RangeMax=\\\"\\\"                     offset=\\\"1856\\\"                />\\n        <DataArray type=\\\"Int64\\\" Name=\\\"offsets\\\" format=\\\"appended\\\" RangeMin=\\\"\\\"                     RangeMax=\\\"\\\"                     offset=\\\"1872\\\"                />\\n      </Polys>\\n    </Piece>\\n  </PolyData>\\n  <AppendedData encoding=\\\"base64\\\">\\n   _AQAAAACAAAAABgAAGgAAAA==eJxjYICBBnuGUfYoe5Q9yh5ljxg2APkkX4E=AQAAAACAAAD4AwAAFAAAAA==eJxjZoAAplF6lB6lRwwNAAQOAQA=AQAAAACAAAD4AwAAFAAAAA==eJxjYoAA5lF6lB6lRwwNAPoeAX0=AQAAAACAAAAABgAAkAIAAA==eJxNlE1IlGEQxzeoKDEpVlPc3I0OZUQFEXaJfedBBCuoTkHRJQjMkzcxiCI2CoKoJSIEIyHpk6igk+HuPB6SKKlQkIrqsoFEVBQe+hCbneavs6cfy/u+z8z8f8+kUmtDav63wA3juZBqm8tXuXd7LjyrnEyqXGjLhk1PS8rvJ9aEc4OzysdWZMKTLy1U5fZKU3g4tFP55cHV4UrlkPLdnnRo7e9TfrBhZRidOq88U6gNxZp+5ednl4Vf724qj2xbHLa0P1Zuapij2zui8uF1M7Tx0bjywOXPxLfeKF/s+Uiv0p+U945MUPrrN+VdZ8boxtbfyp0vhunP9CLt8+i1+9TbtdR6HqSuSzXKY3+LtP5InfLQQIE6p1YpH3/dTVe/1yu/ndxDmXuNyqcPbKbGJc3Kk911VDubUV7e8SEZLrYo/2i9nmRHs8ot+5Kk70JOef/uU/mOn/NcAsszZTwj75bxrnyzjG/KWYyzpAZGDVIbozapmVGz9MLoRXpk9Ci9M3qXmTBmIrNizEpmyJihzJYxW5k5Y+aSBSMLyYiRkWTHyE4yjchUso7IWhyIcEDciHBDnIlwRlyKcEkci3BM3ItwT5yMcFJcjXBVHI5wWNyOcFucj/Unmu+4/0vu+bL7Ttl9v+zOZVcPuzrZ1c+uL3b9spsDu/mwmxu7ebKbM7v5s8uFXV7scowu3+hyj86H6DxRNn+UzStl803ZPFQ2P5XNW2XzWdk8B+fBdi/wboJ37R7hLMJZdu9QG6E2u6fohdCL3Wv0Tujd9kC0WRFmZXsDsyXM1vYMsiBkYXsJ2RGysz2GrAOytr0HNwLcsD0JlwJcsr2qbPtW2fYwXA1w1fa2su3z0v/eF/b8P2w939s=AQAAAACAAAAIAAAACwAAAA==eJxjYIAAAAAIAAE=AQAAAACAAAAIAAAACwAAAA==eJxjZIAAAAAQAAI=AQAAAACAAADgBwAA5AAAAA==eJxdxcNCGAAAANBsLZtbtm1uy7Ztu369Q53eu7zAgG9BHMwhHMphHM4RHMlRHM0xHMtxHM8J/IsTOYmTOYVTOY3TOYMzOYuzOYdzOY/zuYALuYh/8x8u5hIu5TIu5wqu5Cqu5hqu5Tqu5wZu5CZu5hZu5TZu5w7u5C7u5h7u5T7u5wEe5CEe5hEe5TH+y//4P4/zBE/yFE/zDM/yHM/zAi/yEi/zCq/yGq/zBm/yFm/zDu/yHu/zAR/yER/zCZ/yGZ/zBV/yFV/zDd/yHd/zAz/yEz/zC7/yG7/zB3/+/AW3wT8BAQAAAACAAADwAwAA9AAAAA==eJwtxUEoIAAAADBJkiRJkiRJkiRJkiRdkiRJkiRJkiRJkiRJki5JkiRJkiRJkiRJkiRJkiRJkiRJkiQPD9tngQF/ghzsEIc6zOGOcKSjHO0YxzrO8U5wopOc7BSnOs3pznCms5ztHOc6z/ku8D8XusjFLnGpy1zuCle6ytWuca3rXO8GN7rJzW5xq9vc7g53usvd7nGv+9zvAQ96yMP+7xGPeszjnvCkpzztGc96zvNe8KKXvOwVr3rN697wpre87R3ves/7PvChj3zsE5/6zOe+8KWvfO0b3/rO937wo5/87Be/+s3v/vCnv/ztH/8CYM0+gw==AAAAAACAAAAAAAAAAAAAAACAAAAAAAAAAAAAAACAAAAAAAAAAAAAAACAAAAAAAAA\\n  </AppendedData>\\n</VTKFile>\\n\", \"color\": [1, 0.8, 0, 1], \"position\": [0, 0, 0], \"orientation\": [0, 0, 0]}];\n    render(data, parent_element, 0.5);\n});\n",
      "text/plain": [
       "<cadquery.occ_impl.shapes.Wire at 0x7f208aaee640>"
      ]
     },
     "execution_count": 3,
     "metadata": {},
     "output_type": "execute_result"
    }
   ],
   "source": [
    "circle_wire"
   ]
  },
  {
   "cell_type": "code",
   "execution_count": 4,
   "metadata": {},
   "outputs": [
    {
     "data": {
      "application/javascript": "\n\nfunction render(data, parent_element, ratio){\n    \n    // Initial setup\n    const renderWindow = vtk.Rendering.Core.vtkRenderWindow.newInstance();\n    const renderer = vtk.Rendering.Core.vtkRenderer.newInstance({ background: [1, 1, 1 ] });\n    renderWindow.addRenderer(renderer);\n        \n    // iterate over all children children\n    for (var el of data){ \n        var trans = el.position;\n        var rot = el.orientation;\n        var rgba = el.color;\n        var shape = el.shape;\n        \n        // load the inline data\n        var reader = vtk.IO.XML.vtkXMLPolyDataReader.newInstance();\n        const textEncoder = new TextEncoder();\n        reader.parseAsArrayBuffer(textEncoder.encode(shape));\n\n        // setup actor,mapper and add\n        const mapper = vtk.Rendering.Core.vtkMapper.newInstance();\n        mapper.setInputConnection(reader.getOutputPort());\n        mapper.setResolveCoincidentTopologyToPolygonOffset();\n        mapper.setResolveCoincidentTopologyPolygonOffsetParameters(0.9,20);\n\n        const actor = vtk.Rendering.Core.vtkActor.newInstance();\n        actor.setMapper(mapper);\n\n        // set color and position\n        actor.getProperty().setColor(rgba.slice(0,3));\n        actor.getProperty().setOpacity(rgba[3]);\n        \n        actor.rotateZ(rot[2]*180/Math.PI);\n        actor.rotateY(rot[1]*180/Math.PI);\n        actor.rotateX(rot[0]*180/Math.PI);\n        \n        actor.setPosition(trans);\n\n        renderer.addActor(actor);\n\n    };\n    \n    renderer.resetCamera();\n    \n    const openglRenderWindow = vtk.Rendering.OpenGL.vtkRenderWindow.newInstance();\n    renderWindow.addView(openglRenderWindow);\n\n    // Add output to the \"parent element\"\n    var container;\n    var dims;\n    \n    if(typeof(parent_element.appendChild) !== \"undefined\"){\n        container = document.createElement(\"div\");\n        parent_element.appendChild(container);\n        dims = parent_element.getBoundingClientRect();\n    }else{\n        container = parent_element.append(\"<div/>\").children(\"div:last-child\").get(0);\n        dims = parent_element.get(0).getBoundingClientRect();\n    };\n\n    openglRenderWindow.setContainer(container);\n    \n    // handle size\n    if (ratio){\n        openglRenderWindow.setSize(dims.width, dims.width*ratio);\n    }else{\n        openglRenderWindow.setSize(dims.width, dims.height);\n    };\n    \n    // Interaction setup\n    const interact_style = vtk.Interaction.Style.vtkInteractorStyleManipulator.newInstance();\n\n    const manips = {\n        rot: vtk.Interaction.Manipulators.vtkMouseCameraTrackballRotateManipulator.newInstance(),\n        pan: vtk.Interaction.Manipulators.vtkMouseCameraTrackballPanManipulator.newInstance(),\n        zoom1: vtk.Interaction.Manipulators.vtkMouseCameraTrackballZoomManipulator.newInstance(),\n        zoom2: vtk.Interaction.Manipulators.vtkMouseCameraTrackballZoomManipulator.newInstance(),\n        roll: vtk.Interaction.Manipulators.vtkMouseCameraTrackballRollManipulator.newInstance(),\n    };\n\n    manips.zoom1.setControl(true);\n    manips.zoom2.setScrollEnabled(true);\n    manips.roll.setShift(true);\n    manips.pan.setButton(2);\n\n    for (var k in manips){\n        interact_style.addMouseManipulator(manips[k]);\n    };\n\n    const interactor = vtk.Rendering.Core.vtkRenderWindowInteractor.newInstance();\n    interactor.setView(openglRenderWindow);\n    interactor.initialize();\n    interactor.bindEvents(container);\n    interactor.setInteractorStyle(interact_style);\n\n    // Orientation marker\n\n    const axes = vtk.Rendering.Core.vtkAnnotatedCubeActor.newInstance();\n    axes.setXPlusFaceProperty({text: '+X'});\n    axes.setXMinusFaceProperty({text: '-X'});\n    axes.setYPlusFaceProperty({text: '+Y'});\n    axes.setYMinusFaceProperty({text: '-Y'});\n    axes.setZPlusFaceProperty({text: '+Z'});\n    axes.setZMinusFaceProperty({text: '-Z'});\n\n    const orientationWidget = vtk.Interaction.Widgets.vtkOrientationMarkerWidget.newInstance({\n        actor: axes,\n        interactor: interactor });\n    orientationWidget.setEnabled(true);\n    orientationWidget.setViewportCorner(vtk.Interaction.Widgets.vtkOrientationMarkerWidget.Corners.BOTTOM_LEFT);\n    orientationWidget.setViewportSize(0.2);\n\n};\n\n\nnew Promise(\n  function(resolve, reject)\n  {\n    if (typeof(require) !== \"undefined\" ){\n        require.config({\n         \"paths\": {\"vtk\": \"https://unpkg.com/vtk\"},\n        });\n        require([\"vtk\"], resolve, reject);\n    } else if ( typeof(vtk) === \"undefined\" ){\n        var script = document.createElement(\"script\");\n    \tscript.onload = resolve;\n    \tscript.onerror = reject;\n    \tscript.src = \"https://unpkg.com/vtk.js\";\n    \tdocument.head.appendChild(script);\n    } else { resolve() };\n }\n).then(() => {\n    var parent_element = element;\n    var data = [{\"shape\": \"<?xml version=\\\"1.0\\\"?>\\n<VTKFile type=\\\"PolyData\\\" version=\\\"0.1\\\" byte_order=\\\"LittleEndian\\\" header_type=\\\"UInt32\\\" compressor=\\\"vtkZLibDataCompressor\\\">\\n  <PolyData>\\n    <Piece NumberOfPoints=\\\"381\\\"                  NumberOfVerts=\\\"1\\\"                    NumberOfLines=\\\"252\\\"                  NumberOfStrips=\\\"0\\\"                    NumberOfPolys=\\\"124\\\"                 >\\n      <PointData Normals=\\\"Normals\\\">\\n        <DataArray type=\\\"Float32\\\" Name=\\\"Normals\\\" NumberOfComponents=\\\"3\\\" format=\\\"appended\\\" RangeMin=\\\"0\\\"                    RangeMax=\\\"1\\\"                    offset=\\\"0\\\"                   />\\n      </PointData>\\n      <CellData Normals=\\\"Normals\\\">\\n        <DataArray type=\\\"Int64\\\" IdType=\\\"1\\\" Name=\\\"SUBSHAPE_IDS\\\" format=\\\"appended\\\" RangeMin=\\\"-1\\\"                   RangeMax=\\\"4\\\"                    offset=\\\"68\\\"                  />\\n        <DataArray type=\\\"Int64\\\" IdType=\\\"1\\\" Name=\\\"MESH_TYPES\\\" format=\\\"appended\\\" RangeMin=\\\"2\\\"                    RangeMax=\\\"7\\\"                    offset=\\\"136\\\"                 />\\n        <DataArray type=\\\"Float32\\\" Name=\\\"Normals\\\" NumberOfComponents=\\\"3\\\" format=\\\"appended\\\" RangeMin=\\\"1\\\"                    RangeMax=\\\"1\\\"                    offset=\\\"208\\\"                 />\\n      </CellData>\\n      <Points>\\n        <DataArray type=\\\"Float32\\\" Name=\\\"Points\\\" NumberOfComponents=\\\"3\\\" format=\\\"appended\\\" RangeMin=\\\"9.999999559\\\"          RangeMax=\\\"10.0000004\\\"           offset=\\\"376\\\"                 />\\n      </Points>\\n      <Verts>\\n        <DataArray type=\\\"Int64\\\" Name=\\\"connectivity\\\" format=\\\"appended\\\" RangeMin=\\\"\\\"                     RangeMax=\\\"\\\"                     offset=\\\"1324\\\"                />\\n        <DataArray type=\\\"Int64\\\" Name=\\\"offsets\\\" format=\\\"appended\\\" RangeMin=\\\"\\\"                     RangeMax=\\\"\\\"                     offset=\\\"1364\\\"                />\\n      </Verts>\\n      <Lines>\\n        <DataArray type=\\\"Int64\\\" Name=\\\"connectivity\\\" format=\\\"appended\\\" RangeMin=\\\"\\\"                     RangeMax=\\\"\\\"                     offset=\\\"1404\\\"                />\\n        <DataArray type=\\\"Int64\\\" Name=\\\"offsets\\\" format=\\\"appended\\\" RangeMin=\\\"\\\"                     RangeMax=\\\"\\\"                     offset=\\\"2044\\\"                />\\n      </Lines>\\n      <Strips>\\n        <DataArray type=\\\"Int64\\\" Name=\\\"connectivity\\\" format=\\\"appended\\\" RangeMin=\\\"\\\"                     RangeMax=\\\"\\\"                     offset=\\\"2628\\\"                />\\n        <DataArray type=\\\"Int64\\\" Name=\\\"offsets\\\" format=\\\"appended\\\" RangeMin=\\\"\\\"                     RangeMax=\\\"\\\"                     offset=\\\"2644\\\"                />\\n      </Strips>\\n      <Polys>\\n        <DataArray type=\\\"Int64\\\" Name=\\\"connectivity\\\" format=\\\"appended\\\" RangeMin=\\\"\\\"                     RangeMax=\\\"\\\"                     offset=\\\"2660\\\"                />\\n        <DataArray type=\\\"Int64\\\" Name=\\\"offsets\\\" format=\\\"appended\\\" RangeMin=\\\"\\\"                     RangeMax=\\\"\\\"                     offset=\\\"3372\\\"                />\\n      </Polys>\\n    </Piece>\\n  </PolyData>\\n  <AppendedData encoding=\\\"base64\\\">\\n   _AQAAAACAAADcEQAAIQAAAA==eJztxjEBAAAIA6A1s5rR10PhIgEAAH7YcXf3ey8o5l4DAQAAAACAAADICwAAIAAAAA==eJztxbENAAAEADAJ/7/M4ArRLq1YafvNDQCcN1reyhg=AQAAAACAAADICwAAIgAAAA==eJztxbEJAAAIAzARwf8/dvCLkizpemPbtuNe27Efl5MHVw==AQAAAACAAACsEQAAbAAAAA==eJzt0kEKgDAMRNG5mVfL0V0I4mZsYiIo/ELhUZIwgUqx6TwYY4wxxhjj/3psXhw37c78qQx3zuRZudPr8lTrdXl3eVy2an3GnZmZ3mq2qQxTmd3M6l4ZS+s/5mqe7BWN3il/IcNr3gFFODpXAQAAAACAAADcEQAAtQIAAA==eJztlM9LVFEUxyeoKDEpRlOcZiZalBEWRNgm5p2LCFZQrYKiTRCYK3diEEZMFARRQ0QIRkLST6KCVobzznWRREmFglRUmwkioqJw0Q+xM8fztfsvBG9WH4b33j3n+/3ebyq11qUWfv+4YSLvUm1zhSr3bsu7J5X+qMrFtpzb9Lis/HZyjTszNKt8dEXGPfqcpSq3V5rc/eEdys8PrHaXKgeVb/ekXctAn/K9DSvd2PRZ5ZlirSvVDCg/Pb3M/XxzXXl062K3uf2hclPDHN3c7pUPrZuhjQ8mlAcvfiK+8Ur5fM97epH+oLxndJLSX74q7zw1Tte2/FLufDZCvz8u0j2PXLlLvV1Lbech6rpQozz+p0TrD9cpDw8WqXN6lfKxl910+Vu98uup3ZS506h8cn8rNS5pVp7qrqPa2Yzy8o530Ugpq/y95WqUG8spZ/dGUd+5vPK+XScKHT8WuAyWZ2I8I+/GeFe+GeObchbjLJmBMYPMxphNZmbMLLswdpEdGTvK7ozdRROGJqIVQyvRkKGhaMvQVjRnaC5eMLwQjxgeiXcM78RTD0/Faw+vJQMeGZBseGRDMuORGcmSR5YkYx4Zk+x5ZE8y6ZFJyapHViXDHhmWbHtkWzLv64833wr+LwfPx8F34uD7cXAuB/NwMCcH83OwFwf7cqADB/pwoBsHenKgMwf6c+ALB35x4KMP/PWB7z7Igw9yomz5UbZcKVvelC2HypZPZcutsuVZ2XIOLoDtXuDdCO/aPcJZhLPs3mE2wmx2T7ELYRe719idsLv1gDetCFpZb0BbgrbWM/CC4IX1ErwjeGc9Bq8dvLbeQzYcsmE9iSw5ZMl6Vdn6Vtl6GFl1yKr1trL1eXl+96Tz5zdOOt80STo/lXR+0vlJ5yedn3R+0vlJ5yed//93/l/KB56KAQAAAACAAAAIAAAACwAAAA==eJxjYIAAAAAIAAE=AQAAAACAAAAIAAAACwAAAA==eJxjZIAAAAAQAAI=AQAAAACAAADADwAAzAEAAA==eJxdxUO0GAYAALDatm3bXLnatm2bq72ttm3btm3b7uuh/5RcEjjQH0E4KAfj4ByCQ3IoDs1hOCyH4/AcgSNyJI7MUTgqR+PoHINjciyOzXE4Lsfj+JyAE3IiTsxJOCkn4+ScglNyKk7NaTgtp+P0nIEzcibOzFk4K2fj7JyDc3Iuzs15OC/n4/xcgAtyIS7Mf3ERLsrFuDiX4JL8N5fi0lyGy3I5Ls8VuCJX4spchatyNa7ONbgm1+LaXIfrcj2uzw24ITfixtyEm3Izbs4tuCW34tbchttyO27PHbgjd+LO3IW7cjfuzj24J/fi3tyH+3I/7h/wgIAH8iAezEN4KP/Dw3g4j+CRPIpH8xgey+N4PE/giTyJ/+X/+H+ezFN4Kk/j6TyDZ/Isns1zeC7P4/m8gBfyIl7MS3gpL+PlvIJX8ipezWt4La/j9byBN/Im3sxbeCtv4+28g3fyLt7Ne3gv7+P9fIAP8iE+zEf4KB/j43yCT/IpPs1n+Cyf4/N8gS/yJb7MV/gqX+PrfINv8i2+zXf4Lt/j+/yAH/IjfsxP+Ck/4+f8gl/yK37Nb/gtv+P3/IE/8if+zF/4K3/j7/yDf/KvgH8D/WP7BQ==AQAAAACAAADgBwAApAEAAA==eJwtxUFEGAAAAMCWJEmSJEmSJEmSJEmSJEmSJEmSJEmSJMkkSZIkSZIkSZIkSZIkSZIkSZIkSZIkSWZmj+4+FxjwI8jBDnGowxzuCEc6ytGOcazjHO8EJzrJyU5xqtOc7gxnOsvZznGu85zvAhe6yMUucanLXO4KV7rK1a5xretc7wY3usnNbnGr29zuDne6y93uca/7/Nv9HvCghzzsEY96zOOe8KSnPO0Zz3rO817wope87BWves3r3vCmt7ztHe96z/s+8KGPfOwTn/rM577wpa987Rvf+s73fvCjn/zsF7/6ze/+8Ke//O0//ut/Dvj1U6CDHOwQhzrM4Y5wpKMc7RjHOs7xTnCik5zsFKc6zenOcKaznO0c5zrP+S5woYtc7BKXuszlrnClq1ztGte6zvVucKOb3OwWt7rN7e5wp7vc7R73us+/3e8BD3rIwx7xqMc87glPesrTnvGs5zzvBS96ycte8arXvO4Nb3rL297xrve87wMf+sjHPvGpz3zuC1/6yte+8a3vfO8HP/rJz37xq9/87g9/+svf/g/tbnyKAAAAAACAAAAAAAAAAAAAAACAAAAAAAAAAQAAAACAAACgCwAABAIAAA==eJx1k+lTUnEYRrUFFyqE1EjLTFQs09K8ghUZYu6VleWSWlyXFi0tl4D8323GeZ4vZ0a/nHnOu/3uMM5XV539zYmvxHnk1/DOb8S32OO+d/DuW0D9vTgpTonT4gTq9M4z8M6z4hLuLsA7f4B3/gjvvCgWxHHxpbiCu0vwzstiHt8xCz+Ge3ncm4AvoJ7HXv8+o+IL9OXE5+j7LK6J62IR37sC7/wJ3nkVfhV3irj/BX4N9RHxifgU3vmZmEWdfg7fl0VfDj6POftR1LPYW4TPYS6LvlDcRN4Qt87p24Z3XyAOixnxK/o9/w3efd/h3TcgDoqP4Z2HxEeo0w/h3bu4/wPeeQc+xFw/7gTwD1H/hX0/4UPU91Hfgw9R7xUfiH3wfXhfL7Lf/wd3fsOHqN8T72NvD+r2h9h3AB+insZ8AN+D+hH2eO8x/j9CeO/NwGcwd4x53+sUu8RusYS5v2IKfWn4TtTvih3ou4M6fTvqbain4P3eMrzfF8AH+L425BJ8CvuqxH/iCbzzqTX63XdLvI17F9BfDe/vrMBXMNeKO95/EXs8nxRvii3wrdiTRJ/rEfSV4X3/ErzzZfgy5prFG3hHHeZq4J1rxSjq9fBJfEcUOQIfwb6EeF1sFOPITfBN+M44chI+gX3X8K4r8M5XxZjYgL0x3IvCx1GPoc/3/gO1plxJAQAAAACAAADgAwAA8gAAAA==eJwtxUlEAAAAALAOpZRSSimllFJKKaWUUkoppZRSSimllFKKiIiIiIiIiIiIiIiIiIiIiIiIiIiIiKhH22fBAf9CHe5IRzvW8U50slOd7kxnO9f5LnSxS13uSle71vVudLNb3e5Od7vX/R70sEc97klPe9bzXvCil7zsFa96zeve8Ka3vO0d73rP+z7woY987BOf+sznvvClr3ztG9/6zvd+8KOf/OwXv/rN7/7wp7/87R//Oijw/xCHOcJRjnGcE5zkFKc5w1nOcZ4LXOQSl7nCVa5xnRvc5Ba3ucNd7nGfBzzkEY95wlOe8Zz/APU7M/o=\\n  </AppendedData>\\n</VTKFile>\\n\", \"color\": [1, 0.8, 0, 1], \"position\": [0, 0, 0], \"orientation\": [0, 0, 0]}];\n    render(data, parent_element, 0.5);\n});\n",
      "text/plain": [
       "<cadquery.occ_impl.shapes.Face at 0x7f208aaee400>"
      ]
     },
     "execution_count": 4,
     "metadata": {},
     "output_type": "execute_result"
    }
   ],
   "source": [
    "circular_face"
   ]
  },
  {
   "cell_type": "code",
   "execution_count": 5,
   "metadata": {},
   "outputs": [
    {
     "name": "stdout",
     "output_type": "stream",
     "text": [
      "<class 'cadquery.cq.Workplane'>\n"
     ]
    }
   ],
   "source": [
    "box = Workplane().box(10, 5, 5)\n",
    "print(type(box))"
   ]
  },
  {
   "cell_type": "code",
   "execution_count": 6,
   "metadata": {},
   "outputs": [
    {
     "name": "stdout",
     "output_type": "stream",
     "text": [
      "<class 'cadquery.occ_impl.shapes.Solid'>\n"
     ]
    }
   ],
   "source": [
    "box = Workplane().box(10, 5, 5).val()\n",
    "print(type(box))"
   ]
  },
  {
   "cell_type": "code",
   "execution_count": 7,
   "metadata": {},
   "outputs": [
    {
     "name": "stdout",
     "output_type": "stream",
     "text": [
      "<class 'cadquery.occ_impl.shapes.Wire'>\n"
     ]
    }
   ],
   "source": [
    "part = Workplane().box(10,5,5).circle(3).val()\n",
    "print(type(part))"
   ]
  },
  {
   "cell_type": "code",
   "execution_count": 8,
   "metadata": {},
   "outputs": [
    {
     "name": "stdout",
     "output_type": "stream",
     "text": [
      "<class 'cadquery.occ_impl.shapes.Compound'>\n"
     ]
    }
   ],
   "source": [
    "part = Workplane().box(10,5,5).circle(3).findSolid()\n",
    "print(type(part))"
   ]
  },
  {
   "cell_type": "code",
   "execution_count": 9,
   "metadata": {},
   "outputs": [
    {
     "data": {
      "application/javascript": "\n\nfunction render(data, parent_element, ratio){\n    \n    // Initial setup\n    const renderWindow = vtk.Rendering.Core.vtkRenderWindow.newInstance();\n    const renderer = vtk.Rendering.Core.vtkRenderer.newInstance({ background: [1, 1, 1 ] });\n    renderWindow.addRenderer(renderer);\n        \n    // iterate over all children children\n    for (var el of data){ \n        var trans = el.position;\n        var rot = el.orientation;\n        var rgba = el.color;\n        var shape = el.shape;\n        \n        // load the inline data\n        var reader = vtk.IO.XML.vtkXMLPolyDataReader.newInstance();\n        const textEncoder = new TextEncoder();\n        reader.parseAsArrayBuffer(textEncoder.encode(shape));\n\n        // setup actor,mapper and add\n        const mapper = vtk.Rendering.Core.vtkMapper.newInstance();\n        mapper.setInputConnection(reader.getOutputPort());\n        mapper.setResolveCoincidentTopologyToPolygonOffset();\n        mapper.setResolveCoincidentTopologyPolygonOffsetParameters(0.9,20);\n\n        const actor = vtk.Rendering.Core.vtkActor.newInstance();\n        actor.setMapper(mapper);\n\n        // set color and position\n        actor.getProperty().setColor(rgba.slice(0,3));\n        actor.getProperty().setOpacity(rgba[3]);\n        \n        actor.rotateZ(rot[2]*180/Math.PI);\n        actor.rotateY(rot[1]*180/Math.PI);\n        actor.rotateX(rot[0]*180/Math.PI);\n        \n        actor.setPosition(trans);\n\n        renderer.addActor(actor);\n\n    };\n    \n    renderer.resetCamera();\n    \n    const openglRenderWindow = vtk.Rendering.OpenGL.vtkRenderWindow.newInstance();\n    renderWindow.addView(openglRenderWindow);\n\n    // Add output to the \"parent element\"\n    var container;\n    var dims;\n    \n    if(typeof(parent_element.appendChild) !== \"undefined\"){\n        container = document.createElement(\"div\");\n        parent_element.appendChild(container);\n        dims = parent_element.getBoundingClientRect();\n    }else{\n        container = parent_element.append(\"<div/>\").children(\"div:last-child\").get(0);\n        dims = parent_element.get(0).getBoundingClientRect();\n    };\n\n    openglRenderWindow.setContainer(container);\n    \n    // handle size\n    if (ratio){\n        openglRenderWindow.setSize(dims.width, dims.width*ratio);\n    }else{\n        openglRenderWindow.setSize(dims.width, dims.height);\n    };\n    \n    // Interaction setup\n    const interact_style = vtk.Interaction.Style.vtkInteractorStyleManipulator.newInstance();\n\n    const manips = {\n        rot: vtk.Interaction.Manipulators.vtkMouseCameraTrackballRotateManipulator.newInstance(),\n        pan: vtk.Interaction.Manipulators.vtkMouseCameraTrackballPanManipulator.newInstance(),\n        zoom1: vtk.Interaction.Manipulators.vtkMouseCameraTrackballZoomManipulator.newInstance(),\n        zoom2: vtk.Interaction.Manipulators.vtkMouseCameraTrackballZoomManipulator.newInstance(),\n        roll: vtk.Interaction.Manipulators.vtkMouseCameraTrackballRollManipulator.newInstance(),\n    };\n\n    manips.zoom1.setControl(true);\n    manips.zoom2.setScrollEnabled(true);\n    manips.roll.setShift(true);\n    manips.pan.setButton(2);\n\n    for (var k in manips){\n        interact_style.addMouseManipulator(manips[k]);\n    };\n\n    const interactor = vtk.Rendering.Core.vtkRenderWindowInteractor.newInstance();\n    interactor.setView(openglRenderWindow);\n    interactor.initialize();\n    interactor.bindEvents(container);\n    interactor.setInteractorStyle(interact_style);\n\n    // Orientation marker\n\n    const axes = vtk.Rendering.Core.vtkAnnotatedCubeActor.newInstance();\n    axes.setXPlusFaceProperty({text: '+X'});\n    axes.setXMinusFaceProperty({text: '-X'});\n    axes.setYPlusFaceProperty({text: '+Y'});\n    axes.setYMinusFaceProperty({text: '-Y'});\n    axes.setZPlusFaceProperty({text: '+Z'});\n    axes.setZMinusFaceProperty({text: '-Z'});\n\n    const orientationWidget = vtk.Interaction.Widgets.vtkOrientationMarkerWidget.newInstance({\n        actor: axes,\n        interactor: interactor });\n    orientationWidget.setEnabled(true);\n    orientationWidget.setViewportCorner(vtk.Interaction.Widgets.vtkOrientationMarkerWidget.Corners.BOTTOM_LEFT);\n    orientationWidget.setViewportSize(0.2);\n\n};\n\n\nnew Promise(\n  function(resolve, reject)\n  {\n    if (typeof(require) !== \"undefined\" ){\n        require.config({\n         \"paths\": {\"vtk\": \"https://unpkg.com/vtk\"},\n        });\n        require([\"vtk\"], resolve, reject);\n    } else if ( typeof(vtk) === \"undefined\" ){\n        var script = document.createElement(\"script\");\n    \tscript.onload = resolve;\n    \tscript.onerror = reject;\n    \tscript.src = \"https://unpkg.com/vtk.js\";\n    \tdocument.head.appendChild(script);\n    } else { resolve() };\n }\n).then(() => {\n    var parent_element = element;\n    var data = [{\"shape\": \"<?xml version=\\\"1.0\\\"?>\\n<VTKFile type=\\\"PolyData\\\" version=\\\"0.1\\\" byte_order=\\\"LittleEndian\\\" header_type=\\\"UInt32\\\" compressor=\\\"vtkZLibDataCompressor\\\">\\n  <PolyData>\\n    <Piece NumberOfPoints=\\\"1380\\\"                 NumberOfVerts=\\\"10\\\"                   NumberOfLines=\\\"795\\\"                  NumberOfStrips=\\\"0\\\"                    NumberOfPolys=\\\"516\\\"                 >\\n      <PointData Normals=\\\"Normals\\\">\\n        <DataArray type=\\\"Float32\\\" Name=\\\"Normals\\\" NumberOfComponents=\\\"3\\\" format=\\\"appended\\\" RangeMin=\\\"0\\\"                    RangeMax=\\\"1.0000000542\\\"         offset=\\\"0\\\"                   />\\n      </PointData>\\n      <CellData Normals=\\\"Normals\\\">\\n        <DataArray type=\\\"Int64\\\" IdType=\\\"1\\\" Name=\\\"SUBSHAPE_IDS\\\" format=\\\"appended\\\" RangeMin=\\\"5\\\"                    RangeMax=\\\"45\\\"                   offset=\\\"2032\\\"                />\\n        <DataArray type=\\\"Int64\\\" IdType=\\\"1\\\" Name=\\\"MESH_TYPES\\\" format=\\\"appended\\\" RangeMin=\\\"2\\\"                    RangeMax=\\\"8\\\"                    offset=\\\"2228\\\"                />\\n        <DataArray type=\\\"Float32\\\" Name=\\\"Normals\\\" NumberOfComponents=\\\"3\\\" format=\\\"appended\\\" RangeMin=\\\"0.99999997055\\\"        RangeMax=\\\"1.0000000265\\\"         offset=\\\"2336\\\"                />\\n      </CellData>\\n      <Points>\\n        <DataArray type=\\\"Float32\\\" Name=\\\"Points\\\" NumberOfComponents=\\\"3\\\" format=\\\"appended\\\" RangeMin=\\\"0\\\"                    RangeMax=\\\"21.567128699\\\"         offset=\\\"3616\\\"                />\\n      </Points>\\n      <Verts>\\n        <DataArray type=\\\"Int64\\\" Name=\\\"connectivity\\\" format=\\\"appended\\\" RangeMin=\\\"\\\"                     RangeMax=\\\"\\\"                     offset=\\\"5448\\\"                />\\n        <DataArray type=\\\"Int64\\\" Name=\\\"offsets\\\" format=\\\"appended\\\" RangeMin=\\\"\\\"                     RangeMax=\\\"\\\"                     offset=\\\"5520\\\"                />\\n      </Verts>\\n      <Lines>\\n        <DataArray type=\\\"Int64\\\" Name=\\\"connectivity\\\" format=\\\"appended\\\" RangeMin=\\\"\\\"                     RangeMax=\\\"\\\"                     offset=\\\"5592\\\"                />\\n        <DataArray type=\\\"Int64\\\" Name=\\\"offsets\\\" format=\\\"appended\\\" RangeMin=\\\"\\\"                     RangeMax=\\\"\\\"                     offset=\\\"7588\\\"                />\\n      </Lines>\\n      <Strips>\\n        <DataArray type=\\\"Int64\\\" Name=\\\"connectivity\\\" format=\\\"appended\\\" RangeMin=\\\"\\\"                     RangeMax=\\\"\\\"                     offset=\\\"9192\\\"                />\\n        <DataArray type=\\\"Int64\\\" Name=\\\"offsets\\\" format=\\\"appended\\\" RangeMin=\\\"\\\"                     RangeMax=\\\"\\\"                     offset=\\\"9208\\\"                />\\n      </Strips>\\n      <Polys>\\n        <DataArray type=\\\"Int64\\\" Name=\\\"connectivity\\\" format=\\\"appended\\\" RangeMin=\\\"\\\"                     RangeMax=\\\"\\\"                     offset=\\\"9224\\\"                />\\n        <DataArray type=\\\"Int64\\\" Name=\\\"offsets\\\" format=\\\"appended\\\" RangeMin=\\\"\\\"                     RangeMax=\\\"\\\"                     offset=\\\"11968\\\"               />\\n      </Polys>\\n    </Piece>\\n  </PolyData>\\n  <AppendedData encoding=\\\"base64\\\">\\n   _AQAAAACAAACwQAAA4QUAAA==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AQAAAACAAABIKQAAgAAAAA==eJzt2DsOgmAUBWEb4wsk4iNghKhEY0T3vz0Lp7+VwfDPab41nJlPvlvgCnMscYc1NnjBHme4xAzXuMEt7rHCI55UNRnPeMUbPvGlqsk4DSwCD6qq2AZ2gffAh6qqqo7et6omY9Qfhv43qvo/Rn3BfqCqqjp+h/4vqvo7P96HuaU=AQAAAACAAABIKQAAPQAAAA==eJztzjEKACAMADERxP7/xQ5uHaWgYG7Jer3tepGDJIuMRz5IkiSzkbz9Q5IkSfLcSZIkSZIkv3cBEQYdwQ==AQAAAACAAADsPQAArQMAAA==eJzt101IFVEUAOCBiMCIbCH94yKRggoqIkLf3KAWFoaLFpX9EChFf6YRkWF6JWkhhBAWFAlFFIRgm2hRvrmLIBeFREEElRD9kOSioEUUZOddzp0Oc+ZN76WWj85A8HWa996dO+ece/I8rbzwEovFYrFYLBaLxWKxWCwWi8VisVgsFovFYrFYLBaLxWLxX7KJWOOfuH8j16RY+/9iHYnrAnQ+z1so1hKfNHHxv3WWmLuiZ0lsXemrH9tUeepRZeYv1Per2lRT0cVUxvumtKrvN36kkuI7F7SoN49X+BkPdDcrf6jOT4q3NxxXQ72dzPt7j6ojxdes329uUEtn3EuMH9i2X+3ufsLcPlinvnUPM0+7vUvtGB1lHpi+VXW9LVJRV72oUbMaS5hnllep2T2lzH2flVpbv8R61fo1qtWsTIxfKl2umm9WMJ8/W6Z65m+wfn5unvpUXJ0Y/7q6WFV0bGF+1jJVVTbVMi969cXf+HQPc335kD94fS+zfv3AD94dZF628JZ/p6uR+czwBb/jyjHmw30t/qGSE8zrPmzyT4+ctK69PMefW3YqMb595GGq5m4r88vF1anOvjZmz4s/G+GeNLk/NHxnmnx/aFhD4NZADesM3Dqp4RkD94ywDwHZh9g47GFA9jM07HlA9j80vKOAvK/Q8E4D8n5DQw4Ykg+hIWcMyZ/QkGPG5Rg15KFxeUgNOWxIPoeGnDcu56mhLoyrC2qoKeNqCurOkLqLjUPNGlezUNeG1HVsHHqCcT0B+oYhfSM2Dj3HuJ5DDX3JuL4EfcyQPhYbhx5oXA+khj5pXJ+khh5rXI+lhj5sXB+mhh5uSD+Puj9ijZ9NR42/lSa/a+O4toCsM2ONzxKQ57JxfHZm3J+A7JWN494y47tgxvcVkHdn4/iumTEfTNSYS8yYb4bkno1jrjJjbjNjLRhSFzaOtcOMtcaMtcmMtWy/n1hj7TNjr2DG3sKMvYgZexcz9jdm7I3M2Evt+ok19l5m7NXMnr3C2UejNZ4FNk6NZwcznjXMeB4x41nGjGcfM56VzHi2MuNZbI3ndWIcz3pmnA2YcZZgxnmDGWcVZpxtmHH+YcbZiRlnLWaczZhxlguixtmPGWdFZpwtXV9Srkdli+PsyoyzLjPOw8w4S6ejxnnbGufz/qT4r+uP/h+dr3UW5/Jb2T47lrWN5bP5ri1f57LOXNafyz2T0TqLC2U947FmPQH3ZHO+9xfK90y0c1nneD2L9zv/BAdBPYk=AQAAAACAAACwQAAATAUAAA==eJzt2U1sVFUUB/CRICaAGDdqCBI2JhKaVDHqAo2XSBRi/CLBLlQkpspCbGpSjcSqb2ZoKXWAFoq2tuKfFqVUW0qxn0w7JOiCKAZiYxduxECCGxPEmgDBmHsn5/hvncFa2TiclzQ9fZ15cz/OO79378RicixaHvvb4c/J+cm/J5/jnyMuFoObeM4fch45Puufrp3r//naPJXrXqlPufqc6+fKfT85nnHPNO4J8WNjGbe/uC3E8b0Z99uXe0O88/mMu7/k0xB3zci48jP7Qnxjw4hrLdsf4t9vHnGj5zpCnK4cdjeVfR7i4dG0W/dTZ4hL56fdD48fCPHiJw67pgPdIU6VD7mBWT0hXpAYdGtXHwpxeXLA9dd/kX396/3u4tHeEI+X9LkXz/aFuKao1937R3+I95w/5I7OHAzxDV097qVL2bj2uYPunVNDLtv3bvdW3+EQP9rU5UY3pkO8YnGnm7dkOMQ/dn/mBo5l4zl3d7gNa0ZCPNTR7k4ez8anF+5zLUszId687ROXSmZjXGxzG45k47tKW91tP2fjZd/AVVzOxl/d87HGJ5o/0tesu75F37vxtQ/1mgtONepnPbLmA23D+Le7tG2LnmzQNqe/36F9GXy5XvsYi9Vp399o26ZjcuHprTpWL8xN6Ri++V2tju2c9i065mO1NToXdZWbdY5Ov12tc1exvUrndOzgJp3rljNJzYGHlyQ1N1YkE5ozs3+Jay6dfyWuObb6cqS592prpDn57rOR5mrvnZHmcPHsSHM7Fos05/35jvW79fUlJ1r0OnOXNev1j7U36efWzW/U9qytf1/bWTRvl7b/XP1O7Rdu36H9vaOnTsdh/VPbdXxWXtiq49bamdLxXFX2no7zrAdqdfx337pF5+Xr62p0vh68VK3z2DyzWuc3sbBK571q1SbNh6LqpObJr6MJzZ+V9yU0rxo64ppvxUvjmoelxyPNz4rKSPO24aFI8/nsLZHmeWpGpPkvsb8v5DX+fpH3+vtIrunvL/ksf99JG/z9KG3z96m02d+/0hd/X0sf/f0uffd1QMbE1wcZK183ZAx9PZGx9XVGxtzXH5kLX5dkjny9krnzdUzm1Nc3mWtf9yQHfD2U3PB1UnLG10/JJV9XJcd8vZXc83VYctLXZ8lVX7clh309l9yeaJw/8nmVzwk5cvnI18eE+C9TQKaATAGZAjIFZArIFJApIFNApoBMAZkCMgVkCsgUkCkgU0CmgEwBmQIyBWQKyBSQKSBTQKaATAGZAjIFZArIFJApIFNApoBMAZkCMgVkCsgUkCkgU0CmgEwBmQIyBWQKyBSQKSBTQKaATAGZAjIFZArIFJApIFNApoBMAZkCMgVkCsgUkCkgU0CmgEwBmQIyBWQKyBSQKSBTQKaATAGZAjIFZArIFJApIFNApoBMAZkCMgVkCsgUkCkgU0CmgEwBmQIyBWQKyBSQKSBTQKaATAGZAjIFZArIFJApIFNApoBMAZkCMgVkCsgUkCkgU0CmgEwBmQIyBWQKyBSQKSBTQKaATAGZAjIFy/+/66PptHMqHto6y9ZZts6ydZats2ydNZ111uS//4uVV8Pb6bh4NdeP+c+boWaoGWqGmqGFbqjtJcqeg+0l2l6i7SXaXmLh7yVazZfcsJpvNd9qvtX8wq/5uY6p7lvl28fK937+v31fI2tM22uyvaaY7TXZXtM1tdfkj1zfbfDfub7H4Nfw78nX+bf22N6XPBfZOsjWQbYOsnXQtbUOsnWHPJ/YusPWHbbusHVHYa477NlengHs2d6e7e3Z3p7tC/HZ/k/sO5hMAQAAAACAAABQAAAAIgAAAA==eJwtxbcBACAIADAsiP7/sAPJkog2PL28nT4uXz9/BXgALg==AQAAAACAAABQAAAAIgAAAA==eJwtxbcBACAIADA76v8HM5As6a0MTy9vH4evn78TBzAAOA==AQAAAACAAACwMQAAxQUAAA==eJxdxUUAEEQCAEC6u7u7u7u7QUIaURppURqUNGiU7gZRSrpLQJDukgYFFVAB73H7ceYzsSL8X+xwnHDccLxw/HCCcMJwonDicJJw0nCycPJwinDKcKpw6nCacFpOx+k5A2fkTJyZs3BWzsbZOQfn5Fycm/NwXs7H+bkAF+RCXJiLcFEuxsW5BJfkUlyay3BZLsfluQJX5EpcmatwVa7G1bkG1+RaXJvrcF2ux/W5ATfkRtyYm3BTbsbvcHNuwS25Fb/LrbkNt+V23J47cEfuxO9xZ36fP+Au3JW7cXfuwT25F/fmD7kP9+V+3J8H8EAexB/xYP6YP+EhPJSH8XAewSN5FI/mMfwpf8ZjeRyP5wk8kSfx5/wFf8lf8WSewlN5Gk/nGTyTZ/HX4W/Cs8NzwnPD88LzwwvCC8OLwot5CS/lZbycV/BKXsWreQ2v5XW8nr/lDfwdf88beRNv5i28lX/gbbydd/BO3sW7eQ/v5X28nw/wQT7Eh/kIH+Vj/CMf5xN8kn/iU3yaf+YzfJbP8Xm+wBf5El/mK3yVr/F1vsE3+Rbf5jv8C9/le3yfH/BDfsSP+Qk/5V/5N37Gz/l3/oP/5Bf8kl/xX/w3/8Ov+Q2/5X85QsT/HpEjcWSOwlE5GkfnGByTY3FsjsNxOR7H5wSckBNxYk7CSTkZJ+cUnJJTcWpOw2k5HafnDJwxnCmcOZwlnDWcLZw9nCOcM5wrnDucJ5w3nC+cP1wgXDBcKFw4XCRcNFwsXDxcIlwyXCpcmstwWS7H5bkCV+RKXJmrcFWuxtW5BtfkWlyb63Bdrsf1uQE35EbcmJtwU27G73BzbsEtuRW/y625DbfldtyeO3BH7sTvcWd+nz/gLtyVu3F37sE9uRf35g+5D/flftyfB/BAHsQf8WD+mD/hITyUh/FwHsEjeRSP5jH8KX/GY3kcj+cJPJEn8ef8BX/JX/FknsJTeRpP5xk8k2fx1/wNz+Y5PJfn8XxewAt5ES/mJbyUl/FyXsEreRWv5jW8ltfxev6WN/B3/D1v5E28mbeEt4Z/CG8Lbw/vCO8M7wrvDu8J7w3vC+8PHwgfDB8KHw4fCR8NHwv/GD4ePhE+Gf4pfCp8Ovxz+Ez4bPgcn+cLfJEv8WW+wlf5Gl/nG3yTb/FtvsO/8F2+x/f5AT/kR/yYn/BT/pV/42f8nH/nP/hPfsEv+RX/xX/zP/ya3/Bb/pcjRPrvETkSR+YoHJWjcXSOwTE5FsfmOByX43F8TsAJOREn5iSclJNxck7BKTkVp+Y0nJbTcXrOwBk5E2fmLJyVs3F2zsE5ORfn5jycl/Nxfi7ABbkQF+YiXJSLcXEuwSW5FJfmMlyWy3F5rsAVuRJX5ipclatxda7BNbkW1+Y6XJfrcX1uwA25ETcONwk35Wb8DjfnFtySW/G73JrbcFtux+25A3fkTvwed+b3+QPuwl25G3fnHtyTe3Fv/pD7cF/ux/15AA/kQfwRD+aP+RMewkN5GA/nETySR/FoHsOf8mc8lsfxeJ7AE3kSf85f8Jf8FU/mKTyVp/F0nsEzeRZ/zd/wbJ7Dc3kez+cFvJAX8WJewkt5GS/nFbySV/FqXsNreR2v5295A3/H3/NG3sSbeQtv5R94G2/nHbyTd/Fu3sN7eR/v5wN8kA/xYT7CR/kY/8jH+QSf5J/4FJ8O/xw+w2f5HJ/nC3yRL/FlvsJX+Rpf5xt8k2/xbb7Dv/Bdvsf3+QE/5Ef8mJ/wU/6Vf+Nn/Jx/5z/4T37BL/kV/8V/8z/8mt/wW/6XI0T+7xE5EkfmKByVo3F0jsExORbH5jgcl+NxfE7ACTkRJ+YknJSTcXJOwSk5FafmNJyW03F6zsAZORNn5iyclbNxds7BOTkX5+Y8nJfzcX4uwAW5EBfmIlyUi3FxLsEluRSX5jJclstxea7AFbkSV+YqXJWrcXWuwTW5FtfmOlyX63F9bsANw/8D6374Rw==AQAAAACAAADYGAAAnwQAAA==eJw12FFHIIoChdE53U6SJEmSJEmSJEmSJEmSJEmSkSRJkiRJkiRJkiRJkiRJkiRJkmQkSZIkSZIkSZIkSe7DrLNf1m/YX8CvvwtkEIMZwlCGMZwRjGQUoxnDWMYxnglMZBKTmcJUpjGdGcxkFrOZw1zmMZ8FLGQRi1nCUpaxnBWsZBWrWcPfrGUd69nARjaxmS1sZRvb2cFOdrGbPexlH/s5wEEOcZgjHOUYxznBSU5xmjOc5RznucBFLnGZK1zlGte5wU1ucZs73OUe9/mHBzzkEY95wlOe8ZwXvOQVr3nDW97xng985BOf+cJXvvGdH/zkF7/5w1///CWAgQxiMEMYyjCGM4KRjGI0YxjLOMYzgYlMYjJTmMo0pjODmcxiNnOYyzzms4CFLGIxS1jKMpazgpWsYjVr+Ju1rGM9G9jIJjazha1sYzs72MkudrOHvexjPwc4yCEOc4SjHOM4JzjJKU5zhrOc4zwXuMglLnOFq1zjOje4yS1uc4e73OM+//CAhzziMU94yjOe84KXvOI1b3jLO97zgY984jNf+Mo3vvODn/ziN3/4KwAMZBCDGcJQhjGcEYxkFKMZw1jGMZ4JTGQSk5nCVKYxnRnMZBazmcNc5jGfBSxkEYtZwlKWsZwVrGQVq1nD36xlHevZwEY2sZktbGUb29nBTnaxmz3sZR/7OcBBDnGYIxzlGMc5wUlOcZoznOUc57nARS5xmStc5RrXucFNbnGbO9zlHvf5hwc85BGPecJTnvGcF7zkFa95w1ve8Z4PfOQTn/nCV77xnR/85Be/+cNf//tLAAMZxGCGMJRhDGcEIxnFaMYwlnGMZwITmcRkpjCVaUxnBjOZxWzmMJd5zGcBC1nEYpawlGUsZwUrWcVq1vA3a1nHejawkU1sZgtb2cZ2drCTXexmD3vZx34OcJBDHOYIRznGcU5wklOc5gxnOcd5LnCRS1zmCle5xnVucJNb3OYOd7nHff7hAQ95xGOe8JRnPOcFL3nFa97wlne85wMf+cRnvvCVb3znBz/5xW/+8L/DH8BABjGYIQxlGMMZwUhGMZoxjGUc45nARCYxmSlMZRrTmcFMZjGbOcxlHvNZwEIWsZglLGUZy1nBSlaxmjX8zVrWsZ4NbGQTm9nCVraxnR3sZBe72cNe9rGfAxzkEIc5wlGOcZwTnOQUpznDWc5xngtc5BKXucJVrnGdG9zkFre5w13ucZ9/eMBDHvGYJzzlGc95wUte8Zo3vOUd7/nARz7xmS985Rvf+cFPfvGbP/z1718CGMggBjOEoQxjOCMYyShGM4axjGM8E5jIJCYzhalMYzozmMksZjOHucxjPgtYyCIWs4SlLGM5K1jJKlazhr9ZyzrWs4GNbGIzW9jKNrazg53sYjd72Ms+9nOAgxziMEc4yjGOc4KTnOI0ZzjLOc5zgYtc4jJXuMo1rnODm9ziNne4yz3u8w8PeMgjHvOEpzzjOS94ySte84a3vOM9H/jIJz7zha984zs/+MkvfvOH/4X+AAYyiMEMYSjDGM4IRjKK0YxhLOMYzwQmMonJTGEq05jODGYyi/8HW7GILA==AAAAAACAAAAAAAAAAAAAAACAAAAAAAAAAQAAAACAAABgMAAA9wcAAA==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AQAAAACAAAAgEAAAPwMAAA==eJw111PDEAYAQNFs27Ztu5Zt27Zt17Zqy7Zt27Ztew/f2X05v+EGDRRQCIZmOEZkFEZnLMZlAiZmMqZkGqZnJmZlDuZmPhZkERZnKf7B8qzEqqzB2qzHhmzC5mzFtuzAzuzGnuzD/hzEoRzB0RzHiZzC6fybszib87iQS7icq7iWG7iZ27iTe7ifh3iUJ3ia53iRV3idt3iXD/iYz/iSb/ien/iVP/ibQQIHGJyhGJYRGJnRGJNxGJ+JmJQpmJrpmJFZmJ25mJcFWJjFWJJlWI4VWYXVWYt12YCN2Ywt2Ybt2Yld2YO92Y8DOYTDOYpjOYGTOY1/cSb/5Vwu4GIu40qu4Xpu4lbu4G7u40Ee4XGe4lle4GVe403e4X0+4lO+4Gu+40d+4Xf+YuAgAQZjSIZheEZiVMZgbMZjQiZhcqZiWmZgZmZjTuZhfhZiUZZgaZZlBVZmNdZkHdZnIzZlC7ZmO3ZkF3ZnL/blAA7mMI7kGI7nJE7ln5zBfziH87mIS7mCq7mOG7mF27mLe3mAh3mMJ3mG53mJV3mDt3mPD/mEz/mKb/mBn/mNPxkoKBiCoRmOERmF0RmLcZmAiZmMKZmG6ZmJWZmDuZmPBVmExVmKf7A8K7Eqa7A267Ehm7A5W7EtO7Azu7En+7A/B3EoR3A0x3Eip3A6/+YszuY8LuQSLucqruUGbuY27uQe7uchHuUJnuY5XuQVXuct3uUDPuYzvuQbvucnfuUP/maQYAEGZyiGZQRGZjTGZBzGZyImZQqmZjpmZBZmZy7mZQEWZjGWZBmWY0VWYXXWYl02YGM2Y0u2YXt2Ylf2YG/240AO4XCO4lhO4GRO41+cyX85lwu4mMu4kmu4npu4lTu4m/t4kEd4nKd4lhd4mdd4k3d4n4/4lC/4mu/4kV/4nb8YOHiAwRiSYRiekRiVMRib8ZiQSZicqZiWGZiZ2ZiTeZifhViUJViaZVmBlVmNNVmH9dmITdmCrdmOHdmF3dmLfTmAgzmMIzmG4zmJU/knZ/AfzuF8LuJSruBqruNGbuF27uJeHuBhHuNJnuF5XuJV3uBt3uNDPuFzvuJbfuBnfuNP/j/8QRmCoRmO/wGxOARK\\n  </AppendedData>\\n</VTKFile>\\n\", \"color\": [1, 0.8, 0, 1], \"position\": [0, 0, 0], \"orientation\": [0, 0, 0]}];\n    render(data, parent_element, 0.5);\n});\n",
      "text/plain": [
       "<cadquery.cq.Workplane at 0x7f1f98cc76d0>"
      ]
     },
     "execution_count": 9,
     "metadata": {},
     "output_type": "execute_result"
    }
   ],
   "source": [
    "from cadquery import Solid\n",
    "\n",
    "solid_box = Solid.makeBox(10, 10, 10)\n",
    "part = Workplane(obj=solid_box)\n",
    "part = part.faces(\">Z\").circle(1).extrude(10)\n",
    "part"
   ]
  },
  {
   "cell_type": "code",
   "execution_count": 10,
   "metadata": {},
   "outputs": [
    {
     "data": {
      "application/javascript": "\n\nfunction render(data, parent_element, ratio){\n    \n    // Initial setup\n    const renderWindow = vtk.Rendering.Core.vtkRenderWindow.newInstance();\n    const renderer = vtk.Rendering.Core.vtkRenderer.newInstance({ background: [1, 1, 1 ] });\n    renderWindow.addRenderer(renderer);\n        \n    // iterate over all children children\n    for (var el of data){ \n        var trans = el.position;\n        var rot = el.orientation;\n        var rgba = el.color;\n        var shape = el.shape;\n        \n        // load the inline data\n        var reader = vtk.IO.XML.vtkXMLPolyDataReader.newInstance();\n        const textEncoder = new TextEncoder();\n        reader.parseAsArrayBuffer(textEncoder.encode(shape));\n\n        // setup actor,mapper and add\n        const mapper = vtk.Rendering.Core.vtkMapper.newInstance();\n        mapper.setInputConnection(reader.getOutputPort());\n        mapper.setResolveCoincidentTopologyToPolygonOffset();\n        mapper.setResolveCoincidentTopologyPolygonOffsetParameters(0.9,20);\n\n        const actor = vtk.Rendering.Core.vtkActor.newInstance();\n        actor.setMapper(mapper);\n\n        // set color and position\n        actor.getProperty().setColor(rgba.slice(0,3));\n        actor.getProperty().setOpacity(rgba[3]);\n        \n        actor.rotateZ(rot[2]*180/Math.PI);\n        actor.rotateY(rot[1]*180/Math.PI);\n        actor.rotateX(rot[0]*180/Math.PI);\n        \n        actor.setPosition(trans);\n\n        renderer.addActor(actor);\n\n    };\n    \n    renderer.resetCamera();\n    \n    const openglRenderWindow = vtk.Rendering.OpenGL.vtkRenderWindow.newInstance();\n    renderWindow.addView(openglRenderWindow);\n\n    // Add output to the \"parent element\"\n    var container;\n    var dims;\n    \n    if(typeof(parent_element.appendChild) !== \"undefined\"){\n        container = document.createElement(\"div\");\n        parent_element.appendChild(container);\n        dims = parent_element.getBoundingClientRect();\n    }else{\n        container = parent_element.append(\"<div/>\").children(\"div:last-child\").get(0);\n        dims = parent_element.get(0).getBoundingClientRect();\n    };\n\n    openglRenderWindow.setContainer(container);\n    \n    // handle size\n    if (ratio){\n        openglRenderWindow.setSize(dims.width, dims.width*ratio);\n    }else{\n        openglRenderWindow.setSize(dims.width, dims.height);\n    };\n    \n    // Interaction setup\n    const interact_style = vtk.Interaction.Style.vtkInteractorStyleManipulator.newInstance();\n\n    const manips = {\n        rot: vtk.Interaction.Manipulators.vtkMouseCameraTrackballRotateManipulator.newInstance(),\n        pan: vtk.Interaction.Manipulators.vtkMouseCameraTrackballPanManipulator.newInstance(),\n        zoom1: vtk.Interaction.Manipulators.vtkMouseCameraTrackballZoomManipulator.newInstance(),\n        zoom2: vtk.Interaction.Manipulators.vtkMouseCameraTrackballZoomManipulator.newInstance(),\n        roll: vtk.Interaction.Manipulators.vtkMouseCameraTrackballRollManipulator.newInstance(),\n    };\n\n    manips.zoom1.setControl(true);\n    manips.zoom2.setScrollEnabled(true);\n    manips.roll.setShift(true);\n    manips.pan.setButton(2);\n\n    for (var k in manips){\n        interact_style.addMouseManipulator(manips[k]);\n    };\n\n    const interactor = vtk.Rendering.Core.vtkRenderWindowInteractor.newInstance();\n    interactor.setView(openglRenderWindow);\n    interactor.initialize();\n    interactor.bindEvents(container);\n    interactor.setInteractorStyle(interact_style);\n\n    // Orientation marker\n\n    const axes = vtk.Rendering.Core.vtkAnnotatedCubeActor.newInstance();\n    axes.setXPlusFaceProperty({text: '+X'});\n    axes.setXMinusFaceProperty({text: '-X'});\n    axes.setYPlusFaceProperty({text: '+Y'});\n    axes.setYMinusFaceProperty({text: '-Y'});\n    axes.setZPlusFaceProperty({text: '+Z'});\n    axes.setZMinusFaceProperty({text: '-Z'});\n\n    const orientationWidget = vtk.Interaction.Widgets.vtkOrientationMarkerWidget.newInstance({\n        actor: axes,\n        interactor: interactor });\n    orientationWidget.setEnabled(true);\n    orientationWidget.setViewportCorner(vtk.Interaction.Widgets.vtkOrientationMarkerWidget.Corners.BOTTOM_LEFT);\n    orientationWidget.setViewportSize(0.2);\n\n};\n\n\nnew Promise(\n  function(resolve, reject)\n  {\n    if (typeof(require) !== \"undefined\" ){\n        require.config({\n         \"paths\": {\"vtk\": \"https://unpkg.com/vtk\"},\n        });\n        require([\"vtk\"], resolve, reject);\n    } else if ( typeof(vtk) === \"undefined\" ){\n        var script = document.createElement(\"script\");\n    \tscript.onload = resolve;\n    \tscript.onerror = reject;\n    \tscript.src = \"https://unpkg.com/vtk.js\";\n    \tdocument.head.appendChild(script);\n    } else { resolve() };\n }\n).then(() => {\n    var parent_element = element;\n    var data = [{\"shape\": \"<?xml version=\\\"1.0\\\"?>\\n<VTKFile type=\\\"PolyData\\\" version=\\\"0.1\\\" byte_order=\\\"LittleEndian\\\" header_type=\\\"UInt32\\\" compressor=\\\"vtkZLibDataCompressor\\\">\\n  <PolyData>\\n    <Piece NumberOfPoints=\\\"1380\\\"                 NumberOfVerts=\\\"10\\\"                   NumberOfLines=\\\"795\\\"                  NumberOfStrips=\\\"0\\\"                    NumberOfPolys=\\\"520\\\"                 >\\n      <PointData Normals=\\\"Normals\\\">\\n        <DataArray type=\\\"Float32\\\" Name=\\\"Normals\\\" NumberOfComponents=\\\"3\\\" format=\\\"appended\\\" RangeMin=\\\"0\\\"                    RangeMax=\\\"1.0000000556\\\"         offset=\\\"0\\\"                   />\\n      </PointData>\\n      <CellData Normals=\\\"Normals\\\">\\n        <DataArray type=\\\"Int64\\\" IdType=\\\"1\\\" Name=\\\"SUBSHAPE_IDS\\\" format=\\\"appended\\\" RangeMin=\\\"5\\\"                    RangeMax=\\\"45\\\"                   offset=\\\"2064\\\"                />\\n        <DataArray type=\\\"Int64\\\" IdType=\\\"1\\\" Name=\\\"MESH_TYPES\\\" format=\\\"appended\\\" RangeMin=\\\"2\\\"                    RangeMax=\\\"8\\\"                    offset=\\\"2252\\\"                />\\n        <DataArray type=\\\"Float32\\\" Name=\\\"Normals\\\" NumberOfComponents=\\\"3\\\" format=\\\"appended\\\" RangeMin=\\\"0.99999996789\\\"        RangeMax=\\\"1.0000000335\\\"         offset=\\\"2360\\\"                />\\n      </CellData>\\n      <Points>\\n        <DataArray type=\\\"Float32\\\" Name=\\\"Points\\\" NumberOfComponents=\\\"3\\\" format=\\\"appended\\\" RangeMin=\\\"5.099019508\\\"          RangeMax=\\\"8.6602540378\\\"         offset=\\\"3680\\\"                />\\n      </Points>\\n      <Verts>\\n        <DataArray type=\\\"Int64\\\" Name=\\\"connectivity\\\" format=\\\"appended\\\" RangeMin=\\\"\\\"                     RangeMax=\\\"\\\"                     offset=\\\"5388\\\"                />\\n        <DataArray type=\\\"Int64\\\" Name=\\\"offsets\\\" format=\\\"appended\\\" RangeMin=\\\"\\\"                     RangeMax=\\\"\\\"                     offset=\\\"5460\\\"                />\\n      </Verts>\\n      <Lines>\\n        <DataArray type=\\\"Int64\\\" Name=\\\"connectivity\\\" format=\\\"appended\\\" RangeMin=\\\"\\\"                     RangeMax=\\\"\\\"                     offset=\\\"5532\\\"                />\\n        <DataArray type=\\\"Int64\\\" Name=\\\"offsets\\\" format=\\\"appended\\\" RangeMin=\\\"\\\"                     RangeMax=\\\"\\\"                     offset=\\\"7528\\\"                />\\n      </Lines>\\n      <Strips>\\n        <DataArray type=\\\"Int64\\\" Name=\\\"connectivity\\\" format=\\\"appended\\\" RangeMin=\\\"\\\"                     RangeMax=\\\"\\\"                     offset=\\\"9132\\\"                />\\n        <DataArray type=\\\"Int64\\\" Name=\\\"offsets\\\" format=\\\"appended\\\" RangeMin=\\\"\\\"                     RangeMax=\\\"\\\"                     offset=\\\"9148\\\"                />\\n      </Strips>\\n      <Polys>\\n        <DataArray type=\\\"Int64\\\" Name=\\\"connectivity\\\" format=\\\"appended\\\" RangeMin=\\\"\\\"                     RangeMax=\\\"\\\"                     offset=\\\"9164\\\"                />\\n        <DataArray type=\\\"Int64\\\" Name=\\\"offsets\\\" format=\\\"appended\\\" RangeMin=\\\"\\\"                     RangeMax=\\\"\\\"                     offset=\\\"11812\\\"               />\\n      </Polys>\\n    </Piece>\\n  </PolyData>\\n  <AppendedData encoding=\\\"base64\\\">\\n   _AQAAAACAAACwQAAA+QUAAA==eJztlm1QVVUUhik1NK25Zn6B5GiKKWliokTcs0wwPwZ1DCMMtVE0LfkQEEQErjpOYqkpMSWVOmhfguKkKTPA3WvSARwlx9TUlEobScOskMbBzGyfddbWPd5f+qsf+/31wNx77jn7vOtdr5+fkZGRkZGRkZGRkZGRkZGRkZGRkZGRkZGRkZGRkZGRkZGRkZGRkZHR/0fL8N74vr8Dhg0bNmzY8P19j/5Gw4YNGzZs2O8ed0jJZQ+mRdRX2xy0wYOjQlK8Np9ano+9vm8g/uBoLtb49xE2J+Xn4KXIWOJv1yzGg5kriHfdzMA/rn9IbB1PxfWBe4hDXAsw5PAh4mUVc/Gz6+eJN9a/hgs2thJHx07DrBh/eo5tk1/CwmudiZ+qnYCHo3oRF1eNxqLBwcTdwiLw453PELvCQ/GEN5w45tAATIp/gXh3cxDeWjyeuPCrLjit+xTirJ4dsDg0nnjkpH/EqP0ziRsONorgmjnE4V8eEekj3iQO6FYhtj+WSpz80BZRGZdBvGrDW6LpVhbxrbUJorFjDrGVPFBUZecS7/v6ivdcdD7xFleB99lUD3FV/4LqlmsOV/dv7z501uEnOxW7cZzDQ7/41z27jfPdIaER1uqqpcQXgpOsRT2XEL9X9ra1JsW5h3LXNmtmWTpxwYNobVqZTDyi6JiVEf8GcW7Rr1bJkUTitn5+cGLPDOLJFx6G5o6vOJ9f2BWGnJ1M3GFTbwgIHkccemMQrFhlOf+PHg6da8KIJ2x/Hr7pPYR4eWA07Fvbz7lPVwxcLAwgTlwZCyLMRRyV9irU57ZD9gAoD0hvgPJGQ+MCaDlXS9w4Ng1+CCwjPm5lwt5ThcQ7i7NhcNIi4ilxS8F/7Wjidv3yIHlzD8EeBuXh1eUeSAiJ8V4du6Nv9U0PbBzaPrJLZNYm6XmQnndrn3dr17G06xOndc2GwPJciz0P0vPEu99dCFFBuyx1/3+dqyW++Onr8Hf/H4nLv5sFpU80W9o5AHsepOdBOzfi5sVj4M+mvsQhAW5oWvc0cQkOg85RI4mtOQOhtBlAe1/AngfpedDeL3HpyQcgr2Q6aH4AzSfErY9UWWJiCmi+Ih50YJ117HQmcWZDonW+aAlx3dFQa0avXOKuNf7WPG8eaH4G9nyk9DzxfJk3Wy87vFnOxfBUh3lenOdy5oiY5wvY80J6nrhTj89FxY00dc9C3bN8FqGe5UbCFfH4idnq2VE9+54dnTDn55eBPY/S88ScG+ps8fbZRg9H6Xlgz6P0PLDnUXpevTtU7+4TJ8eIOd+APW/nnvIGKm9Iz6DyjPQSKi9Jz6P0vPIeKu+9/1sOHvhlAvH19DycPcxFHFeZj9lNh8nDdp5b7G3O+UiNq+/+f0qdB88MGOS++zqc/7d/dz//rn0/AXdmAbVZQG0WsOXOLKA2C6hmIfGdBKwtbUPnM3fvVJye/qjPeernbJ9/PZ8/57/P+1ozpg+WHX3R5/1y/hNz/hNz/vv4x/YVsq84/318KDNZyEwmllktZFarWRBqFq62LfXWBfn6n/PfZ17kLLjVLBzU5itLmzu5gyy5g4h3anOqz68+1/q8y2e31LPr+RA2sDvEfTTJJ0/0nNHzR+5ikLuYWO5okDv6do5d4ncn3ykk8DvVc4/znzxwSctJPT/1XOX898lh2UlAdhJiO7dTOLdjf8+Hka2V5OHkOg+ctr19rHEr53+1nf9qL6jPh7dWetV11B7h66vOA1rnAa3zwAbuPHz/xBHr58GsSWcEe97Of6Gdg89+1Pemvk/tPVvPe1Z6HrTOA6rz6Pta3+P6ftf3vt4H9J4gO4+lOo/eK/S+ITPZ0jqPpTqP3lv6an2G8191Hq/qPDwXxDwvqvMIrfMI1XnkDhJyBxFz/qvOI1Tnyck4KaZmzSfm/Cfm/Cfm/Ef2PErPE3NuqM6DWudB1XnkLka5i4nljka5o4nbxU/E8T/1QPY8Ss8779fJN2QPoPKA9AYqb8yqSMLnWvarzoNa50Gt86DWeVB1Hs5/wR5G5WHOc+L/AIYM8t4=AQAAAACAAABoKQAAeQAAAA==eJzt2EsKggAYReEm0tOiTMlIySIspP1vz0FnGv9Q0XMn3xruWS1+W+MWUzzhGUussME3LnGDO9zjETPM8YJXvKnqbLzjA1/Yqups/GISeAgsVFWxDnyqquInsFNVVdXJG/WHof+Nqo5H+4Kq/tOeoKqqOn17Obez9w==AQAAAACAAABoKQAAPwAAAA==eJzt1zEKACAMA0ApiP7/xQ7SWQQHoZfl1iwZEm0nHtlJkiQvnZ/0IEmSJFlXv4SsZ+5+kCRJkiRJHlyEox3dAQAAAACAAAAcPgAAygMAAA==eJztmFuIT1EUxpeYEtK8KLkkEfGgqImYOfsBkYhBkRKZSYk0mNwa5iQPKCkm5cElYtLMkLxhzi6FB5IoL64PQ7mUlEfJnvVfa+az938ePLgMa2rq12++jnP2Wfs7O0S5o54fY2NjY2NjY2NjY2NjY2NjY2NjY2NjY2NjY2NjY2NjY2NjY2Nj49/EPuJcfsv9DX7+inv/XziPfN4P+Weet79wbv6v8cZ/lvtwfX5LzP8639+ZjI2N/2Uue67Kz39o9ttnP7jFoYXNvnnYqc7IU93A/f5r67fOKEPrxjT5E4+mF90eMvSyZY+/9LyOPWTo0NadvqPtCHvI0Pq27f5s5QX2kKGbS7b6IcNvsocM7Vi9yc9qecweMtT6sM5vaHnHHjL05PpaP5iIOw8y6OnT0FV+edcQzgDTtGdLfVXDCPbANH7SQj/g9Dj2wNT22fnq+insgWno3Jm+1c9gD0x3xk3ztZfnsAem20cn+l2j57EHpnfHR/muysXsb1VV+vqDK5jBE3i611Th529bw5l7L74UY56sL3Gvp0GTXhZvLm6MM9T1+m7x6s1m9pChBWOvFteONbCHDI1/f7LYcq6RPWTobUdT0Thid2mtejN0++2i4uTHvewhQwfOjCwqJu4rPXtvhp6+v9+58sZ+9pChyVMXdx6+0sweMjzf+q2DTHe+Rhn3Cvpw/UyvH65Zo9dEDveW6b1hHn14rkyfCzmsQ6brENYq07VCH9Y207XFDPrwvjJ9X+EdZfqOkDETZsPBbDidAWTMhNlzMHtOZww5zK2Due3Jhzl3MOc9GfRh7zjYO073CzJmwt50sDed7kdkzIQ97nSPI4cecNoDyKE3nPZG6Ban3dKXD73ktJeQQ4857THk0HtOey90o9Nu7MuHXnXaq8ihh532cOhqp11dzlfPbp8gXL2stv2CMuRrYpZ/K2G5t4xK3a6s989enjf2hF7WKmFZW76OrHnsCb28O84D67vu/s7lMg8u8oRe5idhmT2+DrDOJ3tgnW32MvOxJ/SyjxzsnZhz2Y9JHr3s35hz6YGSL/VAzD9kpFvYS+fEntBLX5XWp5e169hLH8ae0Et/ch5Y+5a99HPsCT1R+f8Dk/5PWL4XCcv3JWH5HiUs3zV9xkKfEVm+iUkevXxndc0LXXNk+UYnefmmJxk5DyQZ9HJ+SFjOJDqTHuazh+U8k+TRyxlJ947X/YKMGTlrJSxns4TlLJewnPe0Nzz0Rlkv50ntJQ+9VNbLeTVhOfdqB3rtQGQ5M9fEefRy3k5YzufVMX8HnaZugg==AQAAAACAAACwQAAA7wQAAA==eJztmVuIVWUYhhcdCCphbqQoQwKZCCOoiEjd69uQgYhREFRERTQRiCDqRCdG7SIIjQhkEAoKo4OIlFB0k+31vVd10YHIoIs05iKDxgYKuokg+ud3ffnMbs92FIKY+QcGXtZee63v8P7vd9hVdUDV6f9udQbzWrfv82717+905/4/b1X+m3NduN7/nkE29D970Ofz2byQ5w7zab53d89ybY7ve97fbbes3tSbxfd9vMvWTH+e8UWrdtqeN65sZvH+X56zYz9tzHh8+TP2x3sTGW858KSNTu/P+INXttn6a45kfOLkFpuZ+jTjk+88YReM/pDxtccetY9O/J7xndsftM8mLvZZ/NgL91pz60jGUyObbGbfVRnvvHq9HX15VcYbD621L1femPG7frMtu+O2jOvHr7dDv1nGl7y+0laMbsh4zbbltvr7uzO+58dL7dfL7vfTvlf23YcPZ7x98uf67a/GMr598pt6/IHNGf+57Gjd3LU14yMjb9WPHN6R8WuH99YvbX0q4xePj9VTk89m/O3XN9UPrZjIePrgX52xC3dlfMXlr3a0YXfG42u/WPfmqX/wJ4HTPb24J323F99Nz2zimeldTbwr2dCEDcm2JmxLNjdhc/KlCV+Sj034mHz38D3FxCMmKVYesUox9Ihhiq1HbFPMPWKecuGRi5Qjjxyl3HnkLuXUI6cp1x65Thzw4EDihgc3Emc8OJO45MGlxDEPjiXueXAvcdKDk4mrHlxNHPbgcOK2B7cT533mhqevw/UO7u/gOTWeX+O9NeypYWcN+2v4VcPfGnEwxMcQN0M8DXE2xN+QF0O+DHk05NeQdwMfDDwx8MfAKwPfDDw08NPAWwOfDTwPvC5wey7iu534bnuO4l11vKs9d2FbHba15zR8qcOX9lyH7xa+tzoQsbKIVasbEVuL2LY6E7mwyEWrS5E7i9y1OmbQN4PuBTcsuNHqZHDJgkutrgb3LLjX6nANfa6h2x3oeadf56vh9WpY/ei750x9xLsEGwTbBJsFXwQfBd+FmAixEmIoxFaIuZALIUdC7oScCrkWOCBwQ+CMwCWBYwL3BE4KXBU4LHBb4LxwFoQzIpwd4UwJZ004g8LZFM6scJaFMy6cfUETBK0QNETQFkFzBC0SNErQLkHTBK0TNFDQRkEzBS0VNFbQXkGTBa0WNFzQdkHzhVog1IhZzvvezfsO4noP9/fwnAbPb/DeBvY0sLOB/Q38auBvgzg44uOImyOejjg74u/IiyNfjjw68uvIu4MPDp44+OPglYNvDh46+OngrYPPDp4Hjt5J6KmEXkvowYTeTOjZhF5O6PGE3k/oCeO8R0yihxR6S6HnFHpRoUcVelehpxV6XaEHFnpjoWcWemmhxxZ6b6EnF3p1oYcXenuh5xdmgb45aCAeNMP8X+ej87HzXOtk/7VumbPKnFXmrDJnlTmrzFnz4CG14z+rlWepe2W+q6oy35X5rsx3Zb5bKvPdgma2YTWq/1qpKaWmlJpSakqpKUu2psy3Myw7saoqO7GyEys7sbITWyo7sfP6/WjY3qr/80H3DZtp5pldSm0Ch0ttKrWp1KZSmxZhbVrQb/6DdloLrFFl31VVZd9V9l1l31X2XYt533WuM0apC+BPqQulLpS6UOrCIqwL5bePqir7pbJfKvulsl9aevulvwFaVs/bAQAAAACAAABQAAAAIgAAAA==eJwtxbcBACAIADAsiP7/sAPJkog2PL28nT4uXz9/BXgALg==AQAAAACAAABQAAAAIgAAAA==eJwtxbcBACAIADA76v8HM5As6a0MTy9vH4evn78TBzAAOA==AQAAAACAAACwMQAAxQUAAA==eJxdxUUAEEQCAEC6u7u7u7u7QUIaURppURqUNGiU7gZRSrpLQJDukgYFFVAB73H7ceYzsSL8X+xwnHDccLxw/HCCcMJwonDicJJw0nCycPJwinDKcKpw6nCacFpOx+k5A2fkTJyZs3BWzsbZOQfn5Fycm/NwXs7H+bkAF+RCXJiLcFEuxsW5BJfkUlyay3BZLsfluQJX5EpcmatwVa7G1bkG1+RaXJvrcF2ux/W5ATfkRtyYm3BTbsbvcHNuwS25Fb/LrbkNt+V23J47cEfuxO9xZ36fP+Au3JW7cXfuwT25F/fmD7kP9+V+3J8H8EAexB/xYP6YP+EhPJSH8XAewSN5FI/mMfwpf8ZjeRyP5wk8kSfx5/wFf8lf8WSewlN5Gk/nGTyTZ/HX4W/Cs8NzwnPD88LzwwvCC3kRL+YlvJSX8XJewSt5Fa/mNbyW1/F6/pY38Hf8PW/kTbyZt/BW/oG38XbewTt5F+/mPbyX9/F+PsAH+RAf5iN8lI/xj3ycT/BJ/olP8Wn+mc/wWT7H5/kCX+RLfJmv8FW+xtf5Bt/kW3yb7/AvfJfv8X1+wA/5ET/mJ/yUf+Xf+Bk/59/5D/6TX/BLfsV/8d/8D7/mN/yW/+UIEf97RI7EkTkKR+VoHJ1jcEyOxbE5DsfleByfE3BCTsSJOQkn5WScnFNwSk7FqTkNp+V0nD6cIZwxnCmcOZwlnDWcLZw9nCOcM5wrnDucJ5w3nC+cP1wgXDBcKFw4XCRcNFwsXDxcIlwyXCpcmstwWS7H5bkCV+RKXJmrcFWuxtW5BtfkWlyb63Bdrsf1uQE35EbcmJtwU27G73BzbsEtuRW/y625DbfldtyeO3BH7sTvcWd+nz/gLtyVu3F37sE9uRf35g+5D/flftyfB/BAHsQf8WD+mD/hITyUh/FwHsEjeRSP5jH8KX/GY3kcj+cJPJEn8ef8BX/JX/FknsJTeRpP5xk8k2fx1/wNz+Y5PJfn8XxewAt5ES/mJbyUl/FyXsEreRWv5jW8ltfxev6WN/B3/D1v5E28mbeEt4Z/CG8Lbw/vCO8M7wrvDu8J7w3vC+8PHwgfDB8KHw4fCR/lY/wjH+cTfJJ/4lN8mn/mM3yWz/F5vsAX+RJf5it8la/xdb7BN/kW3+Y7/Avf5Xt8nx/wQ37Ej/kJP+Vf+Td+xs/5d/6D/+QX/JJf8V/8N//Dr/kNv+V/OUKk/x6RI3FkjsJRORpH5xgck2NxbI7DcTkex+cEnJATcWJOwkk5GSfnFJySU3FqTsNpOR2n5wyckTNxZs7CWTkbZ+ccnJNzcW7Ow3k5H+fnAlyQC3FhLsJFuRgX5xJckktxaS7DZbkcl+cKXJErcWWuwlW5GlcP1wjXDNcK1w7XCdcN1wvXDzcIN+RG3JibcFNuxu9wc27BLbkVv8utuQ235XbcnjtwR+7E73Fnfp8/4C7clbtxd+7BPbkX9+YPuQ/35X7cnwfwQB7EH/Fg/pg/4SE8lIfxcB7BI3kUj+Yx/Cl/xmN5HI/nCTyRJ/Hn/AV/yV/xZJ7CU3kaT+cZPJNn8df8Dc/mOTyX5/F8XsALeREv5iW8lJfxcl7BK3kVr+Y1vJbX8Xr+ljfwd/w9b+RNvJm38Fb+gbfxdt7BO3kX7+Y9vJf38X4+wAf5EB/mI3yUj/GPfJxPhE+GfwqfCp/mn/kMn+VzfJ4v8EW+xJf5Cl/la3ydb/BNvsW3+Q7/wnf5Ht/nB/yQH/FjfsJP+Vf+jZ/xc/6d/+A/+QW/5Ff8F//N//BrfsNv+V+OEPm/R+RIHJmjcFSOxtE5BsfkWByb43BcjsfxOQEn5EScmJNwUk7GyTkFp+RUnJrTcFpOx+k5A2fkTJyZs3BWzsbZOQfn5Fycm/NwXs7H+bkAF+RCXJiLcFEuxsW5BJfkUlyay3BZLsfluQJX5EpcmatwVa7G1bkG1+RaXJvrcF2ux/XDDcINw/8D43n+cw==AQAAAACAAADYGAAAnwQAAA==eJw12FFHIIoChdE53U6SJEmSJEmSJEmSJEmSJEmSkSRJkiRJkiRJkiRJkiRJkiRJkmQkSZIkSZIkSZIkSe7DrLNf1m/YX8CvvwtkEIMZwlCGMZwRjGQUoxnDWMYxnglMZBKTmcJUpjGdGcxkFrOZw1zmMZ8FLGQRi1nCUpaxnBWsZBWrWcPfrGUd69nARjaxmS1sZRvb2cFOdrGbPexlH/s5wEEOcZgjHOUYxznBSU5xmjOc5RznucBFLnGZK1zlGte5wU1ucZs73OUe9/mHBzzkEY95wlOe8ZwXvOQVr3nDW97xng985BOf+cJXvvGdH/zkF7/5w1///CWAgQxiMEMYyjCGM4KRjGI0YxjLOMYzgYlMYjJTmMo0pjODmcxiNnOYyzzms4CFLGIxS1jKMpazgpWsYjVr+Ju1rGM9G9jIJjazha1sYzs72MkudrOHvexjPwc4yCEOc4SjHOM4JzjJKU5zhrOc4zwXuMglLnOFq1zjOje4yS1uc4e73OM+//CAhzziMU94yjOe84KXvOI1b3jLO97zgY984jNf+Mo3vvODn/ziN3/4KwAMZBCDGcJQhjGcEYxkFKMZw1jGMZ4JTGQSk5nCVKYxnRnMZBazmcNc5jGfBSxkEYtZwlKWsZwVrGQVq1nD36xlHevZwEY2sZktbGUb29nBTnaxmz3sZR/7OcBBDnGYIxzlGMc5wUlOcZoznOUc57nARS5xmStc5RrXucFNbnGbO9zlHvf5hwc85BGPecJTnvGcF7zkFa95w1ve8Z4PfOQTn/nCV77xnR/85Be/+cNf//tLAAMZxGCGMJRhDGcEIxnFaMYwlnGMZwITmcRkpjCVaUxnBjOZxWzmMJd5zGcBC1nEYpawlGUsZwUrWcVq1vA3a1nHejawkU1sZgtb2cZ2drCTXexmD3vZx34OcJBDHOYIRznGcU5wklOc5gxnOcd5LnCRS1zmCle5xnVucJNb3OYOd7nHff7hAQ95xGOe8JRnPOcFL3nFa97wlne85wMf+cRnvvCVb3znBz/5xW/+8L/DH8BABjGYIQxlGMMZwUhGMZoxjGUc45nARCYxmSlMZRrTmcFMZjGbOcxlHvNZwEIWsZglLGUZy1nBSlaxmjX8zVrWsZ4NbGQTm9nCVraxnR3sZBe72cNe9rGfAxzkEIc5wlGOcZwTnOQUpznDWc5xngtc5BKXucJVrnGdG9zkFre5w13ucZ9/eMBDHvGYJzzlGc95wUte8Zo3vOUd7/nARz7xmS985Rvf+cFPfvGbP/z1718CGMggBjOEoQxjOCMYyShGM4axjGM8E5jIJCYzhalMYzozmMksZjOHucxjPgtYyCIWs4SlLGM5K1jJKlazhr9ZyzrWs4GNbGIzW9jKNrazg53sYjd72Ms+9nOAgxziMEc4yjGOc4KTnOI0ZzjLOc5zgYtc4jJXuMo1rnODm9ziNne4yz3u8w8PeMgjHvOEpzzjOS94ySte84a3vOM9H/jIJz7zha984zs/+MkvfvOH/4X+AAYyiMEMYSjDGM4IRjKK0YxhLOMYzwQmMonJTGEq05jODGYyi/8HW7GILA==AAAAAACAAAAAAAAAAAAAAACAAAAAAAAAAQAAAACAAADAMAAArgcAAA==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AQAAAACAAABAEAAARQMAAA==eJw111PDEAYAQNFsLBtbtu1aWLZt27bdsm3btm3btvbwnd2X8xtu0EABhWBohmNERmY0xmQcxuefTMxkTMk0TM9MzMoczM18LMjCLMYSLM1yrMgqrM5arMsGbMxmbMk2bM9O7Moe7M1+HMghHM5RHMsJnMSpnMHZnMeFXMLlXMW13MDN3Mad3MP9PMSjPMHTPMeLvMLrvMW7fMDHfMaXfMP3/MSv/MHfDBI4wOAMxbCMwEiMyhiMzXhMyERMyhRMzXTMyCzMzlzMywL8m0VZnKVYlhVYmdVYk3VYn43YlC3Ymu3YkV3Ynb3YlwM4mMM4kmM4nhM5hdM5i3O5gIu5jCu5huu5iVu5g7u5jwd5hMd5imd5gZd5jTd5h/f5iE/5gq/5jh/5hd/5i4GDBBiMIRmG4fkHozA6YzEuE/AvJmFypmJaZmBmZmNO5mF+FmIR/sOSLMPyrMSqrMHarMeGbMLmbMW27MDO7Mae7MP+HMShHMHRHMd/OZnTOJNzOJ+LuJQruJrruJFbuJ27uJcHeJjHeJJneJ6XeJU3eJv3+JBP+Jyv+JYf+Jnf+JOBgoIhGJrhGJGRGY0xGYfx+ScTMxlTMg3TMxOzMgdzMx8LsjCLsQRLsxwrsgqrsxbrsgEbsxlbsg3bsxO7sgd7sx8HcgiHcxTHcgIncSpncDbncSGXcDlXcS03cDO3cSf3cD8P8ShP8DTP8SKv8Dpv8S4f8DGf8SXf8D0/8St/8DeDBAswOEMxLCMwEqMyBmMzHhMyEZMyBVMzHTMyC7MzF/OyAP9mURZnKZZlBVZmNdZkHdZnIzZlC7ZmO3ZkF3ZnL/blAA7mMI7kGI7nRE7hdM7iXC7gYi7jSq7hem7iVu7gbu7jQR7hcZ7iWV7gZV7jTd7hfT7iU77ga77jR37hd/5i4OABBmNIhmF4/sEojM5YjMsE/ItJmJypmJYZmJnZmJN5mJ+FWIT/sCTLsDwrsSprsDbrsSGbsDlbsS07sDO7sSf7sD8HcShHcDTH8V9O5jTO5BzO5yIu5Qqu5jpu5BZu5y7u5QEe5jGe5Bme5yVe5Q3e5j0+5BM+5yu+5Qd+5jf+5P/DH5QhGJrhGJGRGY0x+R9B7wSw\\n  </AppendedData>\\n</VTKFile>\\n\", \"color\": [1, 0.8, 0, 1], \"position\": [0, 0, 0], \"orientation\": [0, 0, 0]}];\n    render(data, parent_element, 0.5);\n});\n",
      "text/plain": [
       "<cadquery.cq.Workplane at 0x7f208ac944c0>"
      ]
     },
     "execution_count": 10,
     "metadata": {},
     "output_type": "execute_result"
    }
   ],
   "source": [
    "circle_wire = Wire.makeCircle(1, Vector(0, 0, 0), Vector(0, 0, 1))\n",
    "box = Workplane().box(10, 10, 10).newObject([circle_wire])\n",
    "box = (\n",
    "    box.toPending().cutThruAll()\n",
    ")\n",
    "box"
   ]
  },
  {
   "cell_type": "code",
   "execution_count": 11,
   "metadata": {},
   "outputs": [
    {
     "name": "stdout",
     "output_type": "stream",
     "text": [
      "<class 'cadquery.occ_impl.shapes.Solid'>\n",
      "<class 'OCP.TopoDS.TopoDS_Solid'>\n"
     ]
    }
   ],
   "source": [
    "box = Solid.makeBox(10,5,5)\n",
    "print(type(box))\n",
    "\n",
    "box = Solid.makeBox(10,5,5).wrapped\n",
    "print(type(box))"
   ]
  },
  {
   "cell_type": "code",
   "execution_count": 12,
   "metadata": {},
   "outputs": [
    {
     "name": "stdout",
     "output_type": "stream",
     "text": [
      "<class 'OCP.TopoDS.TopoDS_Solid'>\n"
     ]
    }
   ],
   "source": [
    "from OCP.BRepPrimAPI import BRepPrimAPI_MakeBox\n",
    "\n",
    "occt_box = BRepPrimAPI_MakeBox(5,5,5).Solid()\n",
    "print(type(occt_box))"
   ]
  },
  {
   "cell_type": "code",
   "execution_count": 13,
   "metadata": {},
   "outputs": [
    {
     "name": "stdout",
     "output_type": "stream",
     "text": [
      "<class 'cadquery.occ_impl.shapes.Solid'>\n"
     ]
    }
   ],
   "source": [
    "direct_api_box = Solid(occt_box)\n",
    "print(type(direct_api_box))"
   ]
  },
  {
   "cell_type": "code",
   "execution_count": 14,
   "metadata": {},
   "outputs": [
    {
     "name": "stdout",
     "output_type": "stream",
     "text": [
      "Workplane object at 0x7f1f9446f310:\n",
      "  parent: Workplane object at 0x7f1f94480ee0\n",
      "  plane: 0)):\n",
      "    origin: (0.5, 2.7755575615628914e-17, 1.214306433183765e-17)\n",
      "    z direction: (1.0, 0.0, -0.0)\n",
      "  objects: [<cadquery.occ_impl.shapes.Compound object at 0x7f1f9446f6a0>]\n",
      "  modelling context: CQContext object at 0x7f1f98cf0940:\n",
      "    pendingWires: []\n",
      "    pendingEdges: []\n",
      "    tags: {'base': <cadquery.cq.Workplane object at 0x7f1f98cf0790>}\n"
     ]
    }
   ],
   "source": [
    "\n",
    "def tidy_repr(obj):\n",
    "    \"\"\"Shortens a default repr string\"\"\"\n",
    "    return repr(obj).split(\".\")[-1].rstrip(\">\")\n",
    "\n",
    "\n",
    "def _ctx_str(self):\n",
    "    return (\n",
    "        tidy_repr(self)\n",
    "        + \":\\n\"\n",
    "        + f\"    pendingWires: {self.pendingWires}\\n\"\n",
    "        + f\"    pendingEdges: {self.pendingEdges}\\n\"\n",
    "        + f\"    tags: {self.tags}\"\n",
    "    )\n",
    "\n",
    "\n",
    "cq.cq.CQContext.__str__ = _ctx_str\n",
    "\n",
    "\n",
    "def _plane_str(self):\n",
    "    return (\n",
    "        tidy_repr(self)\n",
    "        + \":\\n\"\n",
    "        + f\"    origin: {self.origin.toTuple()}\\n\"\n",
    "        + f\"    z direction: {self.zDir.toTuple()}\"\n",
    "    )\n",
    "\n",
    "\n",
    "cq.occ_impl.geom.Plane.__str__ = _plane_str\n",
    "\n",
    "\n",
    "def _wp_str(self):\n",
    "    out = tidy_repr(self) + \":\\n\"\n",
    "    out += f\"  parent: {tidy_repr(self.parent)}\\n\" if self.parent else \"  no parent\\n\"\n",
    "    out += f\"  plane: {self.plane}\\n\"\n",
    "    out += f\"  objects: {self.objects}\\n\"\n",
    "    out += f\"  modelling context: {self.ctx}\"\n",
    "    return out\n",
    "\n",
    "\n",
    "cq.Workplane.__str__ = _wp_str\n",
    "\n",
    "part = (\n",
    "    cq.Workplane()\n",
    "    .box(1, 1, 1)\n",
    "    .tag(\"base\")\n",
    "    .wires(\">Z\")\n",
    "    .toPending()\n",
    "    .translate((0.1, 0.1, 1.0))\n",
    "    .toPending()\n",
    "    .loft()\n",
    "    .faces(\">>X\", tag=\"base\")\n",
    "    .workplane(centerOption=\"CenterOfMass\")\n",
    "    .circle(0.2)\n",
    "    .extrude(1)\n",
    ")\n",
    "print(part)"
   ]
  },
  {
   "cell_type": "code",
   "execution_count": 15,
   "metadata": {},
   "outputs": [
    {
     "name": "stdout",
     "output_type": "stream",
     "text": [
      "Workplane object at 0x7f1f98ced340:\n",
      "  no parent\n",
      "  plane: 0)):\n",
      "    origin: (0.0, 0.0, 0.0)\n",
      "    z direction: (0.0, 0.0, 1.0)\n",
      "  objects: []\n",
      "  modelling context: CQContext object at 0x7f1f98cf0d00:\n",
      "    pendingWires: []\n",
      "    pendingEdges: []\n",
      "    tags: {}\n"
     ]
    }
   ],
   "source": [
    "part = cq.Workplane()\n",
    "print(part)"
   ]
  },
  {
   "cell_type": "code",
   "execution_count": 16,
   "metadata": {},
   "outputs": [
    {
     "name": "stdout",
     "output_type": "stream",
     "text": [
      "Workplane object at 0x7f1f98ced430:\n",
      "  parent: Workplane object at 0x7f1f98ced340\n",
      "  plane: 0)):\n",
      "    origin: (0.0, 0.0, 0.0)\n",
      "    z direction: (0.0, 0.0, 1.0)\n",
      "  objects: [<cadquery.occ_impl.shapes.Solid object at 0x7f1f98d71340>]\n",
      "  modelling context: CQContext object at 0x7f1f98cf0d00:\n",
      "    pendingWires: []\n",
      "    pendingEdges: []\n",
      "    tags: {}\n"
     ]
    }
   ],
   "source": [
    "part = part.box(1, 1, 1)\n",
    "print(part)"
   ]
  },
  {
   "cell_type": "code",
   "execution_count": 17,
   "metadata": {},
   "outputs": [
    {
     "name": "stdout",
     "output_type": "stream",
     "text": [
      "Workplane object at 0x7f1f98ced430:\n",
      "  parent: Workplane object at 0x7f1f98ced340\n",
      "  plane: 0)):\n",
      "    origin: (0.0, 0.0, 0.0)\n",
      "    z direction: (0.0, 0.0, 1.0)\n",
      "  objects: [<cadquery.occ_impl.shapes.Solid object at 0x7f1f98d71340>]\n",
      "  modelling context: CQContext object at 0x7f1f98cf0d00:\n",
      "    pendingWires: []\n",
      "    pendingEdges: []\n",
      "    tags: {'base': <cadquery.cq.Workplane object at 0x7f1f98ced430>}\n"
     ]
    }
   ],
   "source": [
    "part = part.tag(\"base\")\n",
    "print(part)"
   ]
  },
  {
   "cell_type": "code",
   "execution_count": 18,
   "metadata": {},
   "outputs": [
    {
     "name": "stdout",
     "output_type": "stream",
     "text": [
      "Workplane object at 0x7f1f98ced0a0:\n",
      "  parent: Workplane object at 0x7f1f98ced430\n",
      "  plane: 0)):\n",
      "    origin: (0.0, 0.0, 0.0)\n",
      "    z direction: (0.0, 0.0, 1.0)\n",
      "  objects: [<cadquery.occ_impl.shapes.Face object at 0x7f1f98cede80>]\n",
      "  modelling context: CQContext object at 0x7f1f98cf0d00:\n",
      "    pendingWires: []\n",
      "    pendingEdges: []\n",
      "    tags: {'base': <cadquery.cq.Workplane object at 0x7f1f98ced430>}\n"
     ]
    }
   ],
   "source": [
    "part = part.faces(\">>Z\")\n",
    "print(part)"
   ]
  },
  {
   "cell_type": "code",
   "execution_count": 19,
   "metadata": {},
   "outputs": [
    {
     "name": "stdout",
     "output_type": "stream",
     "text": [
      "Workplane object at 0x7f1f98cded00:\n",
      "  parent: Workplane object at 0x7f1f98ced0a0\n",
      "  plane: 0)):\n",
      "    origin: (0.0, 0.0, 0.0)\n",
      "    z direction: (0.0, 0.0, 1.0)\n",
      "  objects: [<cadquery.occ_impl.shapes.Wire object at 0x7f1f98cde910>]\n",
      "  modelling context: CQContext object at 0x7f1f98cf0d00:\n",
      "    pendingWires: []\n",
      "    pendingEdges: []\n",
      "    tags: {'base': <cadquery.cq.Workplane object at 0x7f1f98ced430>}\n"
     ]
    }
   ],
   "source": [
    "part = part.wires()\n",
    "print(part)"
   ]
  },
  {
   "cell_type": "code",
   "execution_count": 20,
   "metadata": {},
   "outputs": [
    {
     "name": "stdout",
     "output_type": "stream",
     "text": [
      "Workplane object at 0x7f1f98cded00:\n",
      "  parent: Workplane object at 0x7f1f98ced0a0\n",
      "  plane: 0)):\n",
      "    origin: (0.0, 0.0, 0.0)\n",
      "    z direction: (0.0, 0.0, 1.0)\n",
      "  objects: [<cadquery.occ_impl.shapes.Wire object at 0x7f1f98cde910>]\n",
      "  modelling context: CQContext object at 0x7f1f98cf0d00:\n",
      "    pendingWires: [<cadquery.occ_impl.shapes.Wire object at 0x7f1f98cde910>]\n",
      "    pendingEdges: []\n",
      "    tags: {'base': <cadquery.cq.Workplane object at 0x7f1f98ced430>}\n"
     ]
    }
   ],
   "source": [
    "part = part.toPending()\n",
    "print(part)"
   ]
  },
  {
   "cell_type": "code",
   "execution_count": 21,
   "metadata": {},
   "outputs": [
    {
     "name": "stdout",
     "output_type": "stream",
     "text": [
      "Workplane object at 0x7f1f98cedf10:\n",
      "  parent: Workplane object at 0x7f1f98cded00\n",
      "  plane: 0)):\n",
      "    origin: (0.0, 0.0, 0.0)\n",
      "    z direction: (0.0, 0.0, 1.0)\n",
      "  objects: [<cadquery.occ_impl.shapes.Wire object at 0x7f1f98ced670>]\n",
      "  modelling context: CQContext object at 0x7f1f98cf0d00:\n",
      "    pendingWires: [<cadquery.occ_impl.shapes.Wire object at 0x7f1f98cde910>]\n",
      "    pendingEdges: []\n",
      "    tags: {'base': <cadquery.cq.Workplane object at 0x7f1f98ced430>}\n"
     ]
    }
   ],
   "source": [
    "part = part.translate((0.1, 0.1, 1.0))\n",
    "print(part)"
   ]
  },
  {
   "cell_type": "code",
   "execution_count": 22,
   "metadata": {},
   "outputs": [],
   "source": [
    "part = part.toPending()"
   ]
  },
  {
   "cell_type": "code",
   "execution_count": 23,
   "metadata": {},
   "outputs": [
    {
     "name": "stdout",
     "output_type": "stream",
     "text": [
      "Workplane object at 0x7f1f98cedf10:\n",
      "  parent: Workplane object at 0x7f1f98cded00\n",
      "  plane: 0)):\n",
      "    origin: (0.0, 0.0, 0.0)\n",
      "    z direction: (0.0, 0.0, 1.0)\n",
      "  objects: [<cadquery.occ_impl.shapes.Wire object at 0x7f1f98ced670>]\n",
      "  modelling context: CQContext object at 0x7f1f98cf0d00:\n",
      "    pendingWires: [<cadquery.occ_impl.shapes.Wire object at 0x7f1f98cde910>, <cadquery.occ_impl.shapes.Wire object at 0x7f1f98ced670>]\n",
      "    pendingEdges: []\n",
      "    tags: {'base': <cadquery.cq.Workplane object at 0x7f1f98ced430>}\n"
     ]
    }
   ],
   "source": [
    "print(part)"
   ]
  },
  {
   "cell_type": "code",
   "execution_count": 24,
   "metadata": {},
   "outputs": [
    {
     "name": "stdout",
     "output_type": "stream",
     "text": [
      "Workplane object at 0x7f208ac94a30:\n",
      "  parent: Workplane object at 0x7f1f98cedf10\n",
      "  plane: 0)):\n",
      "    origin: (0.0, 0.0, 0.0)\n",
      "    z direction: (0.0, 0.0, 1.0)\n",
      "  objects: [<cadquery.occ_impl.shapes.Compound object at 0x7f1f98cde880>]\n",
      "  modelling context: CQContext object at 0x7f1f98cf0d00:\n",
      "    pendingWires: []\n",
      "    pendingEdges: []\n",
      "    tags: {'base': <cadquery.cq.Workplane object at 0x7f1f98ced430>}\n"
     ]
    }
   ],
   "source": [
    "part = part.loft()\n",
    "print(part)"
   ]
  },
  {
   "cell_type": "code",
   "execution_count": 25,
   "metadata": {},
   "outputs": [
    {
     "data": {
      "text/plain": [
       "1"
      ]
     },
     "execution_count": 25,
     "metadata": {},
     "output_type": "execute_result"
    }
   ],
   "source": [
    "a_compound = part.findSolid()\n",
    "a_list_of_solids = a_compound.Solids()\n",
    "len(a_list_of_solids)"
   ]
  },
  {
   "cell_type": "code",
   "execution_count": 26,
   "metadata": {},
   "outputs": [
    {
     "name": "stdout",
     "output_type": "stream",
     "text": [
      "Workplane object at 0x7f1f98ced6a0:\n",
      "  parent: Workplane object at 0x7f208ac94a30\n",
      "  plane: 0)):\n",
      "    origin: (0.0, 0.0, 0.0)\n",
      "    z direction: (0.0, 0.0, 1.0)\n",
      "  objects: [<cadquery.occ_impl.shapes.Face object at 0x7f1f98cedac0>]\n",
      "  modelling context: CQContext object at 0x7f1f98cf0d00:\n",
      "    pendingWires: []\n",
      "    pendingEdges: []\n",
      "    tags: {'base': <cadquery.cq.Workplane object at 0x7f1f98ced430>}\n"
     ]
    }
   ],
   "source": [
    "part = part.faces(\">>X\", tag=\"base\")\n",
    "print(part)"
   ]
  },
  {
   "cell_type": "code",
   "execution_count": 27,
   "metadata": {},
   "outputs": [
    {
     "name": "stdout",
     "output_type": "stream",
     "text": [
      "Workplane object at 0x7f1f98cf0820:\n",
      "  parent: Workplane object at 0x7f1f98ced6a0\n",
      "  plane: 0)):\n",
      "    origin: (0.5, 0.0, 0.0)\n",
      "    z direction: (1.0, 0.0, -0.0)\n",
      "  objects: []\n",
      "  modelling context: CQContext object at 0x7f1f98cf0d00:\n",
      "    pendingWires: []\n",
      "    pendingEdges: []\n",
      "    tags: {'base': <cadquery.cq.Workplane object at 0x7f1f98ced430>}\n"
     ]
    }
   ],
   "source": [
    "part = part.workplane()\n",
    "print(part)"
   ]
  },
  {
   "cell_type": "code",
   "execution_count": 28,
   "metadata": {},
   "outputs": [
    {
     "name": "stdout",
     "output_type": "stream",
     "text": [
      "Workplane object at 0x7f1f98cf01f0:\n",
      "  parent: Workplane object at 0x7f1f98cf0820\n",
      "  plane: 0)):\n",
      "    origin: (0.5, 0.0, 0.0)\n",
      "    z direction: (1.0, 0.0, -0.0)\n",
      "  objects: [<cadquery.occ_impl.shapes.Wire object at 0x7f208ac7b4c0>]\n",
      "  modelling context: CQContext object at 0x7f1f98cf0d00:\n",
      "    pendingWires: [<cadquery.occ_impl.shapes.Wire object at 0x7f1f98cf08e0>]\n",
      "    pendingEdges: []\n",
      "    tags: {'base': <cadquery.cq.Workplane object at 0x7f1f98ced430>}\n"
     ]
    }
   ],
   "source": [
    "part = part.circle(0.2)\n",
    "print(part)"
   ]
  },
  {
   "cell_type": "code",
   "execution_count": 29,
   "metadata": {},
   "outputs": [
    {
     "name": "stdout",
     "output_type": "stream",
     "text": [
      "Workplane object at 0x7f208aaee1f0:\n",
      "  parent: Workplane object at 0x7f1f98cf01f0\n",
      "  plane: 0)):\n",
      "    origin: (0.5, 0.0, 0.0)\n",
      "    z direction: (1.0, 0.0, -0.0)\n",
      "  objects: [<cadquery.occ_impl.shapes.Compound object at 0x7f208ac80640>]\n",
      "  modelling context: CQContext object at 0x7f1f98cf0d00:\n",
      "    pendingWires: []\n",
      "    pendingEdges: []\n",
      "    tags: {'base': <cadquery.cq.Workplane object at 0x7f1f98ced430>}\n"
     ]
    }
   ],
   "source": [
    "part = part.extrude(1, clean=False)\n",
    "print(part)"
   ]
  },
  {
   "cell_type": "code",
   "execution_count": 30,
   "metadata": {},
   "outputs": [
    {
     "data": {
      "application/javascript": "\n\nfunction render(data, parent_element, ratio){\n    \n    // Initial setup\n    const renderWindow = vtk.Rendering.Core.vtkRenderWindow.newInstance();\n    const renderer = vtk.Rendering.Core.vtkRenderer.newInstance({ background: [1, 1, 1 ] });\n    renderWindow.addRenderer(renderer);\n        \n    // iterate over all children children\n    for (var el of data){ \n        var trans = el.position;\n        var rot = el.orientation;\n        var rgba = el.color;\n        var shape = el.shape;\n        \n        // load the inline data\n        var reader = vtk.IO.XML.vtkXMLPolyDataReader.newInstance();\n        const textEncoder = new TextEncoder();\n        reader.parseAsArrayBuffer(textEncoder.encode(shape));\n\n        // setup actor,mapper and add\n        const mapper = vtk.Rendering.Core.vtkMapper.newInstance();\n        mapper.setInputConnection(reader.getOutputPort());\n        mapper.setResolveCoincidentTopologyToPolygonOffset();\n        mapper.setResolveCoincidentTopologyPolygonOffsetParameters(0.9,20);\n\n        const actor = vtk.Rendering.Core.vtkActor.newInstance();\n        actor.setMapper(mapper);\n\n        // set color and position\n        actor.getProperty().setColor(rgba.slice(0,3));\n        actor.getProperty().setOpacity(rgba[3]);\n        \n        actor.rotateZ(rot[2]*180/Math.PI);\n        actor.rotateY(rot[1]*180/Math.PI);\n        actor.rotateX(rot[0]*180/Math.PI);\n        \n        actor.setPosition(trans);\n\n        renderer.addActor(actor);\n\n    };\n    \n    renderer.resetCamera();\n    \n    const openglRenderWindow = vtk.Rendering.OpenGL.vtkRenderWindow.newInstance();\n    renderWindow.addView(openglRenderWindow);\n\n    // Add output to the \"parent element\"\n    var container;\n    var dims;\n    \n    if(typeof(parent_element.appendChild) !== \"undefined\"){\n        container = document.createElement(\"div\");\n        parent_element.appendChild(container);\n        dims = parent_element.getBoundingClientRect();\n    }else{\n        container = parent_element.append(\"<div/>\").children(\"div:last-child\").get(0);\n        dims = parent_element.get(0).getBoundingClientRect();\n    };\n\n    openglRenderWindow.setContainer(container);\n    \n    // handle size\n    if (ratio){\n        openglRenderWindow.setSize(dims.width, dims.width*ratio);\n    }else{\n        openglRenderWindow.setSize(dims.width, dims.height);\n    };\n    \n    // Interaction setup\n    const interact_style = vtk.Interaction.Style.vtkInteractorStyleManipulator.newInstance();\n\n    const manips = {\n        rot: vtk.Interaction.Manipulators.vtkMouseCameraTrackballRotateManipulator.newInstance(),\n        pan: vtk.Interaction.Manipulators.vtkMouseCameraTrackballPanManipulator.newInstance(),\n        zoom1: vtk.Interaction.Manipulators.vtkMouseCameraTrackballZoomManipulator.newInstance(),\n        zoom2: vtk.Interaction.Manipulators.vtkMouseCameraTrackballZoomManipulator.newInstance(),\n        roll: vtk.Interaction.Manipulators.vtkMouseCameraTrackballRollManipulator.newInstance(),\n    };\n\n    manips.zoom1.setControl(true);\n    manips.zoom2.setScrollEnabled(true);\n    manips.roll.setShift(true);\n    manips.pan.setButton(2);\n\n    for (var k in manips){\n        interact_style.addMouseManipulator(manips[k]);\n    };\n\n    const interactor = vtk.Rendering.Core.vtkRenderWindowInteractor.newInstance();\n    interactor.setView(openglRenderWindow);\n    interactor.initialize();\n    interactor.bindEvents(container);\n    interactor.setInteractorStyle(interact_style);\n\n    // Orientation marker\n\n    const axes = vtk.Rendering.Core.vtkAnnotatedCubeActor.newInstance();\n    axes.setXPlusFaceProperty({text: '+X'});\n    axes.setXMinusFaceProperty({text: '-X'});\n    axes.setYPlusFaceProperty({text: '+Y'});\n    axes.setYMinusFaceProperty({text: '-Y'});\n    axes.setZPlusFaceProperty({text: '+Z'});\n    axes.setZMinusFaceProperty({text: '-Z'});\n\n    const orientationWidget = vtk.Interaction.Widgets.vtkOrientationMarkerWidget.newInstance({\n        actor: axes,\n        interactor: interactor });\n    orientationWidget.setEnabled(true);\n    orientationWidget.setViewportCorner(vtk.Interaction.Widgets.vtkOrientationMarkerWidget.Corners.BOTTOM_LEFT);\n    orientationWidget.setViewportSize(0.2);\n\n};\n\n\nnew Promise(\n  function(resolve, reject)\n  {\n    if (typeof(require) !== \"undefined\" ){\n        require.config({\n         \"paths\": {\"vtk\": \"https://unpkg.com/vtk\"},\n        });\n        require([\"vtk\"], resolve, reject);\n    } else if ( typeof(vtk) === \"undefined\" ){\n        var script = document.createElement(\"script\");\n    \tscript.onload = resolve;\n    \tscript.onerror = reject;\n    \tscript.src = \"https://unpkg.com/vtk.js\";\n    \tdocument.head.appendChild(script);\n    } else { resolve() };\n }\n).then(() => {\n    var parent_element = element;\n    var data = [{\"shape\": \"<?xml version=\\\"1.0\\\"?>\\n<VTKFile type=\\\"PolyData\\\" version=\\\"0.1\\\" byte_order=\\\"LittleEndian\\\" header_type=\\\"UInt32\\\" compressor=\\\"vtkZLibDataCompressor\\\">\\n  <PolyData>\\n    <Piece NumberOfPoints=\\\"104\\\"                  NumberOfVerts=\\\"8\\\"                    NumberOfLines=\\\"36\\\"                   NumberOfStrips=\\\"0\\\"                    NumberOfPolys=\\\"12\\\"                  >\\n      <PointData Normals=\\\"Normals\\\">\\n        <DataArray type=\\\"Float32\\\" Name=\\\"Normals\\\" NumberOfComponents=\\\"3\\\" format=\\\"appended\\\" RangeMin=\\\"0\\\"                    RangeMax=\\\"1\\\"                    offset=\\\"0\\\"                   />\\n      </PointData>\\n      <CellData Normals=\\\"Normals\\\">\\n        <DataArray type=\\\"Int64\\\" IdType=\\\"1\\\" Name=\\\"SUBSHAPE_IDS\\\" format=\\\"appended\\\" RangeMin=\\\"4\\\"                    RangeMax=\\\"34\\\"                   offset=\\\"60\\\"                  />\\n        <DataArray type=\\\"Int64\\\" IdType=\\\"1\\\" Name=\\\"MESH_TYPES\\\" format=\\\"appended\\\" RangeMin=\\\"2\\\"                    RangeMax=\\\"7\\\"                    offset=\\\"184\\\"                 />\\n        <DataArray type=\\\"Float32\\\" Name=\\\"Normals\\\" NumberOfComponents=\\\"3\\\" format=\\\"appended\\\" RangeMin=\\\"1\\\"                    RangeMax=\\\"1\\\"                    offset=\\\"240\\\"                 />\\n      </CellData>\\n      <Points>\\n        <DataArray type=\\\"Float32\\\" Name=\\\"Points\\\" NumberOfComponents=\\\"3\\\" format=\\\"appended\\\" RangeMin=\\\"15\\\"                   RangeMax=\\\"15\\\"                   offset=\\\"320\\\"                 />\\n      </Points>\\n      <Verts>\\n        <DataArray type=\\\"Int64\\\" Name=\\\"connectivity\\\" format=\\\"appended\\\" RangeMin=\\\"\\\"                     RangeMax=\\\"\\\"                     offset=\\\"520\\\"                 />\\n        <DataArray type=\\\"Int64\\\" Name=\\\"offsets\\\" format=\\\"appended\\\" RangeMin=\\\"\\\"                     RangeMax=\\\"\\\"                     offset=\\\"584\\\"                 />\\n      </Verts>\\n      <Lines>\\n        <DataArray type=\\\"Int64\\\" Name=\\\"connectivity\\\" format=\\\"appended\\\" RangeMin=\\\"\\\"                     RangeMax=\\\"\\\"                     offset=\\\"648\\\"                 />\\n        <DataArray type=\\\"Int64\\\" Name=\\\"offsets\\\" format=\\\"appended\\\" RangeMin=\\\"\\\"                     RangeMax=\\\"\\\"                     offset=\\\"848\\\"                 />\\n      </Lines>\\n      <Strips>\\n        <DataArray type=\\\"Int64\\\" Name=\\\"connectivity\\\" format=\\\"appended\\\" RangeMin=\\\"\\\"                     RangeMax=\\\"\\\"                     offset=\\\"984\\\"                 />\\n        <DataArray type=\\\"Int64\\\" Name=\\\"offsets\\\" format=\\\"appended\\\" RangeMin=\\\"\\\"                     RangeMax=\\\"\\\"                     offset=\\\"1000\\\"                />\\n      </Strips>\\n      <Polys>\\n        <DataArray type=\\\"Int64\\\" Name=\\\"connectivity\\\" format=\\\"appended\\\" RangeMin=\\\"\\\"                     RangeMax=\\\"\\\"                     offset=\\\"1016\\\"                />\\n        <DataArray type=\\\"Int64\\\" Name=\\\"offsets\\\" format=\\\"appended\\\" RangeMin=\\\"\\\"                     RangeMax=\\\"\\\"                     offset=\\\"1140\\\"                />\\n      </Polys>\\n    </Piece>\\n  </PolyData>\\n  <AppendedData encoding=\\\"base64\\\">\\n   _AQAAAACAAADgBAAAGwAAAA==eJxjYBgFo2AUDF3QsJ9Etj1p7KFtBwD8OxfpAQAAAACAAADAAQAASQAAAA==eJyFzrsOQEAABVGFeBOPtSsI4v8/UmH6uc0p75TZvwob7HDCGQNGLLDGFnscccEVE+544IU35uIgbuIpPuIrWq/12N8Hem0Eiw==AQAAAACAAADAAQAAFgAAAA==eJxjYoAAJjJp1lEaL81OYxoA2KABGQ==AQAAAACAAACgAgAAKAAAAA==eJxjYGiwZ4CDUfYou2E/GrsBgrGqb8ChB1ldA5oefPZguAsAH38vSQ==AQAAAACAAADgBAAAgwAAAA==eJzdkssJwDAMQz1KR4k27SjpZoESqFBl0w/00EPAGBHJz45Yttjf2uKo+6xBfcw+SA/Sg/Qgvf6pXq3w0r5m6yaDZmtFNu3rLJof4WdhL83mZmHfv/LJfCtuGQfHM8tZcb7DrfJ9eiduj46/28sbbuqV3UPG88v7v8rZMTxxG7RB99E=AQAAAACAAABAAAAAHgAAAA==eJxjYIAARijNBKWZoTQLlGaF0mxQmh1KAwAC4AAdAQAAAACAAABAAAAAHgAAAA==eJxjZIAAJijNDKVZoDQrlGaD0uxQmgNKAwAEAAAlAQAAAACAAABAAgAAgwAAAA==eJwtxcdCAQAAAFBHIwmRERIZZZYdpYyU0f//jYP3Li8YuAg57IivHPW1Y75x3AknfeuU075zxlnnnPe9Cy665AeX/eiKq35yzXU33PSzX9xy2x133XPfr37zwEOPPPbEU8/87rkX/vCnl/7yt1dee+Otf7zzr/+898FHn/zvMyt2DD0=AQAAAACAAAAgAQAAUgAAAA==eJwtxdEGgwAAAMDJJJNJkkkyM0kyk8kkk0n6/y/qobuXC06Hs0NHvjj21YlTZ859c+HSle9++OnajVt3fvnt3h8P/nr05J9n/7149eYdEH4FNQ==AAAAAACAAAAAAAAAAAAAAACAAAAAAAAAAQAAAACAAAAgAQAASgAAAA==eJxdybkVgDAMBFFKRFwGAzbmcv8dEDBKVsl/mrXmvw5bNOxlH3HASbr/AVeccZEeZc+44ybd/4QXHlikn7JXfPCW7v+LHyMhDN8=AQAAAACAAABgAAAAKAAAAA==eJxjZoAANijNCaV5oDQ/lBaC0qJQWgJKS0NpOSitCKVVoDQAIoAA6w==\\n  </AppendedData>\\n</VTKFile>\\n\", \"color\": [1.0, 1.0, 1.0, 1.0], \"position\": [-10.0, 0.0, 5.0], \"orientation\": [0.0, -0.0, 0.0]}, {\"shape\": \"<?xml version=\\\"1.0\\\"?>\\n<VTKFile type=\\\"PolyData\\\" version=\\\"0.1\\\" byte_order=\\\"LittleEndian\\\" header_type=\\\"UInt32\\\" compressor=\\\"vtkZLibDataCompressor\\\">\\n  <PolyData>\\n    <Piece NumberOfPoints=\\\"104\\\"                  NumberOfVerts=\\\"8\\\"                    NumberOfLines=\\\"36\\\"                   NumberOfStrips=\\\"0\\\"                    NumberOfPolys=\\\"12\\\"                  >\\n      <PointData Normals=\\\"Normals\\\">\\n        <DataArray type=\\\"Float32\\\" Name=\\\"Normals\\\" NumberOfComponents=\\\"3\\\" format=\\\"appended\\\" RangeMin=\\\"0\\\"                    RangeMax=\\\"1\\\"                    offset=\\\"0\\\"                   />\\n      </PointData>\\n      <CellData Normals=\\\"Normals\\\">\\n        <DataArray type=\\\"Int64\\\" IdType=\\\"1\\\" Name=\\\"SUBSHAPE_IDS\\\" format=\\\"appended\\\" RangeMin=\\\"4\\\"                    RangeMax=\\\"34\\\"                   offset=\\\"60\\\"                  />\\n        <DataArray type=\\\"Int64\\\" IdType=\\\"1\\\" Name=\\\"MESH_TYPES\\\" format=\\\"appended\\\" RangeMin=\\\"2\\\"                    RangeMax=\\\"7\\\"                    offset=\\\"184\\\"                 />\\n        <DataArray type=\\\"Float32\\\" Name=\\\"Normals\\\" NumberOfComponents=\\\"3\\\" format=\\\"appended\\\" RangeMin=\\\"1\\\"                    RangeMax=\\\"1\\\"                    offset=\\\"240\\\"                 />\\n      </CellData>\\n      <Points>\\n        <DataArray type=\\\"Float32\\\" Name=\\\"Points\\\" NumberOfComponents=\\\"3\\\" format=\\\"appended\\\" RangeMin=\\\"12.247448714\\\"         RangeMax=\\\"12.247448714\\\"         offset=\\\"320\\\"                 />\\n      </Points>\\n      <Verts>\\n        <DataArray type=\\\"Int64\\\" Name=\\\"connectivity\\\" format=\\\"appended\\\" RangeMin=\\\"\\\"                     RangeMax=\\\"\\\"                     offset=\\\"520\\\"                 />\\n        <DataArray type=\\\"Int64\\\" Name=\\\"offsets\\\" format=\\\"appended\\\" RangeMin=\\\"\\\"                     RangeMax=\\\"\\\"                     offset=\\\"584\\\"                 />\\n      </Verts>\\n      <Lines>\\n        <DataArray type=\\\"Int64\\\" Name=\\\"connectivity\\\" format=\\\"appended\\\" RangeMin=\\\"\\\"                     RangeMax=\\\"\\\"                     offset=\\\"648\\\"                 />\\n        <DataArray type=\\\"Int64\\\" Name=\\\"offsets\\\" format=\\\"appended\\\" RangeMin=\\\"\\\"                     RangeMax=\\\"\\\"                     offset=\\\"848\\\"                 />\\n      </Lines>\\n      <Strips>\\n        <DataArray type=\\\"Int64\\\" Name=\\\"connectivity\\\" format=\\\"appended\\\" RangeMin=\\\"\\\"                     RangeMax=\\\"\\\"                     offset=\\\"984\\\"                 />\\n        <DataArray type=\\\"Int64\\\" Name=\\\"offsets\\\" format=\\\"appended\\\" RangeMin=\\\"\\\"                     RangeMax=\\\"\\\"                     offset=\\\"1000\\\"                />\\n      </Strips>\\n      <Polys>\\n        <DataArray type=\\\"Int64\\\" Name=\\\"connectivity\\\" format=\\\"appended\\\" RangeMin=\\\"\\\"                     RangeMax=\\\"\\\"                     offset=\\\"1016\\\"                />\\n        <DataArray type=\\\"Int64\\\" Name=\\\"offsets\\\" format=\\\"appended\\\" RangeMin=\\\"\\\"                     RangeMax=\\\"\\\"                     offset=\\\"1140\\\"                />\\n      </Polys>\\n    </Piece>\\n  </PolyData>\\n  <AppendedData encoding=\\\"base64\\\">\\n   _AQAAAACAAADgBAAAGwAAAA==eJxjYBgFo2AUDF3QsJ9Etj1p7KFtBwD8OxfpAQAAAACAAADAAQAASQAAAA==eJyFzrsOQEAABVGFeBOPtSsI4v8/UmH6uc0p75TZvwob7HDCGQNGLLDGFnscccEVE+544IU35uIgbuIpPuIrWq/12N8Hem0Eiw==AQAAAACAAADAAQAAFgAAAA==eJxjYoAAJjJp1lEaL81OYxoA2KABGQ==AQAAAACAAACgAgAAKAAAAA==eJxjYGiwZ4CDUfYou2E/GrsBgrGqb8ChB1ldA5oefPZguAsAH38vSQ==AQAAAACAAADgBAAAgwAAAA==eJzdkssJwDAMQz1KR1E27SjNZoESqFBl0w/00EPAGBHJz45Yt9jf0uKo+6xBfcw+SA/Sg/Qgvf6pXq3w0r5m6yaDZmtFNu3rLJof4WdhL83mZmHfv/LJfCtuGQfHM8tZcb7DrfJ9eiduj46/28sbbuqV3UPG88v7v8rZMTxxGxtpK3g=AQAAAACAAABAAAAAHgAAAA==eJxjYIAARijNBKWZoTQLlGaF0mxQmh1KAwAC4AAdAQAAAACAAABAAAAAHgAAAA==eJxjZIAAJijNDKVZoDQrlGaD0uxQmgNKAwAEAAAlAQAAAACAAABAAgAAgwAAAA==eJwtxcdCAQAAAFBHIwmRERIZZZYdpYyU0f//jYP3Li8YuAg57IivHPW1Y75x3AknfeuU075zxlnnnPe9Cy665AeX/eiKq35yzXU33PSzX9xy2x133XPfr37zwEOPPPbEU8/87rkX/vCnl/7yt1dee+Otf7zzr/+898FHn/zvMyt2DD0=AQAAAACAAAAgAQAAUgAAAA==eJwtxdEGgwAAAMDJJJNJkkkyM0kyk8kkk0n6/y/qobuXC06Hs0NHvjj21YlTZ859c+HSle9++OnajVt3fvnt3h8P/nr05J9n/7149eYdEH4FNQ==AAAAAACAAAAAAAAAAAAAAACAAAAAAAAAAQAAAACAAAAgAQAASgAAAA==eJxdybkVgDAMBFFKRFwGAzbmcv8dEDBKVsl/mrXmvw5bNOxlH3HASbr/AVeccZEeZc+44ybd/4QXHlikn7JXfPCW7v+LHyMhDN8=AQAAAACAAABgAAAAKAAAAA==eJxjZoAANijNCaV5oDQ/lBaC0qJQWgJKS0NpOSitCKVVoDQAIoAA6w==\\n  </AppendedData>\\n</VTKFile>\\n\", \"color\": [0.0, 0.0, 1.0, 0.5], \"position\": [5.0, -5.0, 10.0], \"orientation\": [0.0, -0.0, 0.0]}, {\"shape\": \"<?xml version=\\\"1.0\\\"?>\\n<VTKFile type=\\\"PolyData\\\" version=\\\"0.1\\\" byte_order=\\\"LittleEndian\\\" header_type=\\\"UInt32\\\" compressor=\\\"vtkZLibDataCompressor\\\">\\n  <PolyData>\\n    <Piece NumberOfPoints=\\\"104\\\"                  NumberOfVerts=\\\"8\\\"                    NumberOfLines=\\\"36\\\"                   NumberOfStrips=\\\"0\\\"                    NumberOfPolys=\\\"12\\\"                  >\\n      <PointData Normals=\\\"Normals\\\">\\n        <DataArray type=\\\"Float32\\\" Name=\\\"Normals\\\" NumberOfComponents=\\\"3\\\" format=\\\"appended\\\" RangeMin=\\\"0\\\"                    RangeMax=\\\"1\\\"                    offset=\\\"0\\\"                   />\\n      </PointData>\\n      <CellData Normals=\\\"Normals\\\">\\n        <DataArray type=\\\"Int64\\\" IdType=\\\"1\\\" Name=\\\"SUBSHAPE_IDS\\\" format=\\\"appended\\\" RangeMin=\\\"4\\\"                    RangeMax=\\\"34\\\"                   offset=\\\"60\\\"                  />\\n        <DataArray type=\\\"Int64\\\" IdType=\\\"1\\\" Name=\\\"MESH_TYPES\\\" format=\\\"appended\\\" RangeMin=\\\"2\\\"                    RangeMax=\\\"7\\\"                    offset=\\\"184\\\"                 />\\n        <DataArray type=\\\"Float32\\\" Name=\\\"Normals\\\" NumberOfComponents=\\\"3\\\" format=\\\"appended\\\" RangeMin=\\\"1\\\"                    RangeMax=\\\"1\\\"                    offset=\\\"240\\\"                 />\\n      </CellData>\\n      <Points>\\n        <DataArray type=\\\"Float32\\\" Name=\\\"Points\\\" NumberOfComponents=\\\"3\\\" format=\\\"appended\\\" RangeMin=\\\"16.583123952\\\"         RangeMax=\\\"16.583123952\\\"         offset=\\\"320\\\"                 />\\n      </Points>\\n      <Verts>\\n        <DataArray type=\\\"Int64\\\" Name=\\\"connectivity\\\" format=\\\"appended\\\" RangeMin=\\\"\\\"                     RangeMax=\\\"\\\"                     offset=\\\"520\\\"                 />\\n        <DataArray type=\\\"Int64\\\" Name=\\\"offsets\\\" format=\\\"appended\\\" RangeMin=\\\"\\\"                     RangeMax=\\\"\\\"                     offset=\\\"584\\\"                 />\\n      </Verts>\\n      <Lines>\\n        <DataArray type=\\\"Int64\\\" Name=\\\"connectivity\\\" format=\\\"appended\\\" RangeMin=\\\"\\\"                     RangeMax=\\\"\\\"                     offset=\\\"648\\\"                 />\\n        <DataArray type=\\\"Int64\\\" Name=\\\"offsets\\\" format=\\\"appended\\\" RangeMin=\\\"\\\"                     RangeMax=\\\"\\\"                     offset=\\\"848\\\"                 />\\n      </Lines>\\n      <Strips>\\n        <DataArray type=\\\"Int64\\\" Name=\\\"connectivity\\\" format=\\\"appended\\\" RangeMin=\\\"\\\"                     RangeMax=\\\"\\\"                     offset=\\\"984\\\"                 />\\n        <DataArray type=\\\"Int64\\\" Name=\\\"offsets\\\" format=\\\"appended\\\" RangeMin=\\\"\\\"                     RangeMax=\\\"\\\"                     offset=\\\"1000\\\"                />\\n      </Strips>\\n      <Polys>\\n        <DataArray type=\\\"Int64\\\" Name=\\\"connectivity\\\" format=\\\"appended\\\" RangeMin=\\\"\\\"                     RangeMax=\\\"\\\"                     offset=\\\"1016\\\"                />\\n        <DataArray type=\\\"Int64\\\" Name=\\\"offsets\\\" format=\\\"appended\\\" RangeMin=\\\"\\\"                     RangeMax=\\\"\\\"                     offset=\\\"1140\\\"                />\\n      </Polys>\\n    </Piece>\\n  </PolyData>\\n  <AppendedData encoding=\\\"base64\\\">\\n   _AQAAAACAAADgBAAAGwAAAA==eJxjYBgFo2AUDF3QsJ9Etj1p7KFtBwD8OxfpAQAAAACAAADAAQAASQAAAA==eJyFzrsOQEAABVGFeBOPtSsI4v8/UmH6uc0p75TZvwob7HDCGQNGLLDGFnscccEVE+544IU35uIgbuIpPuIrWq/12N8Hem0Eiw==AQAAAACAAADAAQAAFgAAAA==eJxjYoAAJjJp1lEaL81OYxoA2KABGQ==AQAAAACAAACgAgAAKAAAAA==eJxjYGiwZ4CDUfYou2E/GrsBgrGqb8ChB1ldA5oefPZguAsAH38vSQ==AQAAAACAAADgBAAAgwAAAA==eJzdkssJwDAMQz2aslFH6ijNZoESqFBl0w/00EPAGBHJz45Yt9jf0uKo+6xBfcw+SA/Sg/Qgvf6pXq3w0r5m6yaDZmtFNu3rLJof4WdhL83mZmHfv/LJfCtuGQfHM8tZcb7DrfJ9eiduj46/28sbbuqV3UPG88v7v8rZMTxxG9X7S/g=AQAAAACAAABAAAAAHgAAAA==eJxjYIAARijNBKWZoTQLlGaF0mxQmh1KAwAC4AAdAQAAAACAAABAAAAAHgAAAA==eJxjZIAAJijNDKVZoDQrlGaD0uxQmgNKAwAEAAAlAQAAAACAAABAAgAAgwAAAA==eJwtxcdCAQAAAFBHIwmRERIZZZYdpYyU0f//jYP3Li8YuAg57IivHPW1Y75x3AknfeuU075zxlnnnPe9Cy665AeX/eiKq35yzXU33PSzX9xy2x133XPfr37zwEOPPPbEU8/87rkX/vCnl/7yt1dee+Otf7zzr/+898FHn/zvMyt2DD0=AQAAAACAAAAgAQAAUgAAAA==eJwtxdEGgwAAAMDJJJNJkkkyM0kyk8kkk0n6/y/qobuXC06Hs0NHvjj21YlTZ859c+HSle9++OnajVt3fvnt3h8P/nr05J9n/7149eYdEH4FNQ==AAAAAACAAAAAAAAAAAAAAACAAAAAAAAAAQAAAACAAAAgAQAASgAAAA==eJxdybkVgDAMBFFKRFwGAzbmcv8dEDBKVsl/mrXmvw5bNOxlH3HASbr/AVeccZEeZc+44ybd/4QXHlikn7JXfPCW7v+LHyMhDN8=AQAAAACAAABgAAAAKAAAAA==eJxjZoAANijNCaV5oDQ/lBaC0qJQWgJKS0NpOSitCKVVoDQAIoAA6w==\\n  </AppendedData>\\n</VTKFile>\\n\", \"color\": [1.0, 0.0, 0.0, 1.0], \"position\": [-15.0, -5.0, 25.0], \"orientation\": [0.0, -0.0, 0.0]}];\n    render(data, parent_element, 0.5);\n});\n",
      "text/plain": [
       "<cadquery.assembly.Assembly at 0x7f1f98cf0430>"
      ]
     },
     "execution_count": 30,
     "metadata": {},
     "output_type": "execute_result"
    }
   ],
   "source": [
    "from cadquery import *\n",
    "\n",
    "w = 10\n",
    "d = 10\n",
    "h = 10\n",
    "\n",
    "part1 = Workplane().box(2 * w, 2 * d, h)\n",
    "part2 = Workplane().box(w, d, 2 * h)\n",
    "part3 = Workplane().box(w, d, 3 * h)\n",
    "\n",
    "assy = (\n",
    "    Assembly(part1, loc=Location(Vector(-w, 0, h / 2)))\n",
    "    .add(\n",
    "        part2, loc=Location(Vector(1.5 * w, -0.5 * d, h / 2)), color=Color(0, 0, 1, 0.5)\n",
    "    )\n",
    "    .add(part3, loc=Location(Vector(-0.5 * w, -0.5 * d, 2 * h)), color=Color(\"red\"))\n",
    ")\n",
    "assy"
   ]
  },
  {
   "cell_type": "code",
   "execution_count": 31,
   "metadata": {},
   "outputs": [
    {
     "data": {
      "application/javascript": "\n\nfunction render(data, parent_element, ratio){\n    \n    // Initial setup\n    const renderWindow = vtk.Rendering.Core.vtkRenderWindow.newInstance();\n    const renderer = vtk.Rendering.Core.vtkRenderer.newInstance({ background: [1, 1, 1 ] });\n    renderWindow.addRenderer(renderer);\n        \n    // iterate over all children children\n    for (var el of data){ \n        var trans = el.position;\n        var rot = el.orientation;\n        var rgba = el.color;\n        var shape = el.shape;\n        \n        // load the inline data\n        var reader = vtk.IO.XML.vtkXMLPolyDataReader.newInstance();\n        const textEncoder = new TextEncoder();\n        reader.parseAsArrayBuffer(textEncoder.encode(shape));\n\n        // setup actor,mapper and add\n        const mapper = vtk.Rendering.Core.vtkMapper.newInstance();\n        mapper.setInputConnection(reader.getOutputPort());\n        mapper.setResolveCoincidentTopologyToPolygonOffset();\n        mapper.setResolveCoincidentTopologyPolygonOffsetParameters(0.9,20);\n\n        const actor = vtk.Rendering.Core.vtkActor.newInstance();\n        actor.setMapper(mapper);\n\n        // set color and position\n        actor.getProperty().setColor(rgba.slice(0,3));\n        actor.getProperty().setOpacity(rgba[3]);\n        \n        actor.rotateZ(rot[2]*180/Math.PI);\n        actor.rotateY(rot[1]*180/Math.PI);\n        actor.rotateX(rot[0]*180/Math.PI);\n        \n        actor.setPosition(trans);\n\n        renderer.addActor(actor);\n\n    };\n    \n    renderer.resetCamera();\n    \n    const openglRenderWindow = vtk.Rendering.OpenGL.vtkRenderWindow.newInstance();\n    renderWindow.addView(openglRenderWindow);\n\n    // Add output to the \"parent element\"\n    var container;\n    var dims;\n    \n    if(typeof(parent_element.appendChild) !== \"undefined\"){\n        container = document.createElement(\"div\");\n        parent_element.appendChild(container);\n        dims = parent_element.getBoundingClientRect();\n    }else{\n        container = parent_element.append(\"<div/>\").children(\"div:last-child\").get(0);\n        dims = parent_element.get(0).getBoundingClientRect();\n    };\n\n    openglRenderWindow.setContainer(container);\n    \n    // handle size\n    if (ratio){\n        openglRenderWindow.setSize(dims.width, dims.width*ratio);\n    }else{\n        openglRenderWindow.setSize(dims.width, dims.height);\n    };\n    \n    // Interaction setup\n    const interact_style = vtk.Interaction.Style.vtkInteractorStyleManipulator.newInstance();\n\n    const manips = {\n        rot: vtk.Interaction.Manipulators.vtkMouseCameraTrackballRotateManipulator.newInstance(),\n        pan: vtk.Interaction.Manipulators.vtkMouseCameraTrackballPanManipulator.newInstance(),\n        zoom1: vtk.Interaction.Manipulators.vtkMouseCameraTrackballZoomManipulator.newInstance(),\n        zoom2: vtk.Interaction.Manipulators.vtkMouseCameraTrackballZoomManipulator.newInstance(),\n        roll: vtk.Interaction.Manipulators.vtkMouseCameraTrackballRollManipulator.newInstance(),\n    };\n\n    manips.zoom1.setControl(true);\n    manips.zoom2.setScrollEnabled(true);\n    manips.roll.setShift(true);\n    manips.pan.setButton(2);\n\n    for (var k in manips){\n        interact_style.addMouseManipulator(manips[k]);\n    };\n\n    const interactor = vtk.Rendering.Core.vtkRenderWindowInteractor.newInstance();\n    interactor.setView(openglRenderWindow);\n    interactor.initialize();\n    interactor.bindEvents(container);\n    interactor.setInteractorStyle(interact_style);\n\n    // Orientation marker\n\n    const axes = vtk.Rendering.Core.vtkAnnotatedCubeActor.newInstance();\n    axes.setXPlusFaceProperty({text: '+X'});\n    axes.setXMinusFaceProperty({text: '-X'});\n    axes.setYPlusFaceProperty({text: '+Y'});\n    axes.setYMinusFaceProperty({text: '-Y'});\n    axes.setZPlusFaceProperty({text: '+Z'});\n    axes.setZMinusFaceProperty({text: '-Z'});\n\n    const orientationWidget = vtk.Interaction.Widgets.vtkOrientationMarkerWidget.newInstance({\n        actor: axes,\n        interactor: interactor });\n    orientationWidget.setEnabled(true);\n    orientationWidget.setViewportCorner(vtk.Interaction.Widgets.vtkOrientationMarkerWidget.Corners.BOTTOM_LEFT);\n    orientationWidget.setViewportSize(0.2);\n\n};\n\n\nnew Promise(\n  function(resolve, reject)\n  {\n    if (typeof(require) !== \"undefined\" ){\n        require.config({\n         \"paths\": {\"vtk\": \"https://unpkg.com/vtk\"},\n        });\n        require([\"vtk\"], resolve, reject);\n    } else if ( typeof(vtk) === \"undefined\" ){\n        var script = document.createElement(\"script\");\n    \tscript.onload = resolve;\n    \tscript.onerror = reject;\n    \tscript.src = \"https://unpkg.com/vtk.js\";\n    \tdocument.head.appendChild(script);\n    } else { resolve() };\n }\n).then(() => {\n    var parent_element = element;\n    var data = [{\"shape\": \"<?xml version=\\\"1.0\\\"?>\\n<VTKFile type=\\\"PolyData\\\" version=\\\"0.1\\\" byte_order=\\\"LittleEndian\\\" header_type=\\\"UInt32\\\" compressor=\\\"vtkZLibDataCompressor\\\">\\n  <PolyData>\\n    <Piece NumberOfPoints=\\\"104\\\"                  NumberOfVerts=\\\"8\\\"                    NumberOfLines=\\\"36\\\"                   NumberOfStrips=\\\"0\\\"                    NumberOfPolys=\\\"12\\\"                  >\\n      <PointData Normals=\\\"Normals\\\">\\n        <DataArray type=\\\"Float32\\\" Name=\\\"Normals\\\" NumberOfComponents=\\\"3\\\" format=\\\"appended\\\" RangeMin=\\\"0\\\"                    RangeMax=\\\"1\\\"                    offset=\\\"0\\\"                   />\\n      </PointData>\\n      <CellData Normals=\\\"Normals\\\">\\n        <DataArray type=\\\"Int64\\\" IdType=\\\"1\\\" Name=\\\"SUBSHAPE_IDS\\\" format=\\\"appended\\\" RangeMin=\\\"4\\\"                    RangeMax=\\\"34\\\"                   offset=\\\"60\\\"                  />\\n        <DataArray type=\\\"Int64\\\" IdType=\\\"1\\\" Name=\\\"MESH_TYPES\\\" format=\\\"appended\\\" RangeMin=\\\"2\\\"                    RangeMax=\\\"7\\\"                    offset=\\\"184\\\"                 />\\n        <DataArray type=\\\"Float32\\\" Name=\\\"Normals\\\" NumberOfComponents=\\\"3\\\" format=\\\"appended\\\" RangeMin=\\\"1\\\"                    RangeMax=\\\"1\\\"                    offset=\\\"240\\\"                 />\\n      </CellData>\\n      <Points>\\n        <DataArray type=\\\"Float32\\\" Name=\\\"Points\\\" NumberOfComponents=\\\"3\\\" format=\\\"appended\\\" RangeMin=\\\"15\\\"                   RangeMax=\\\"15\\\"                   offset=\\\"320\\\"                 />\\n      </Points>\\n      <Verts>\\n        <DataArray type=\\\"Int64\\\" Name=\\\"connectivity\\\" format=\\\"appended\\\" RangeMin=\\\"\\\"                     RangeMax=\\\"\\\"                     offset=\\\"520\\\"                 />\\n        <DataArray type=\\\"Int64\\\" Name=\\\"offsets\\\" format=\\\"appended\\\" RangeMin=\\\"\\\"                     RangeMax=\\\"\\\"                     offset=\\\"584\\\"                 />\\n      </Verts>\\n      <Lines>\\n        <DataArray type=\\\"Int64\\\" Name=\\\"connectivity\\\" format=\\\"appended\\\" RangeMin=\\\"\\\"                     RangeMax=\\\"\\\"                     offset=\\\"648\\\"                 />\\n        <DataArray type=\\\"Int64\\\" Name=\\\"offsets\\\" format=\\\"appended\\\" RangeMin=\\\"\\\"                     RangeMax=\\\"\\\"                     offset=\\\"848\\\"                 />\\n      </Lines>\\n      <Strips>\\n        <DataArray type=\\\"Int64\\\" Name=\\\"connectivity\\\" format=\\\"appended\\\" RangeMin=\\\"\\\"                     RangeMax=\\\"\\\"                     offset=\\\"984\\\"                 />\\n        <DataArray type=\\\"Int64\\\" Name=\\\"offsets\\\" format=\\\"appended\\\" RangeMin=\\\"\\\"                     RangeMax=\\\"\\\"                     offset=\\\"1000\\\"                />\\n      </Strips>\\n      <Polys>\\n        <DataArray type=\\\"Int64\\\" Name=\\\"connectivity\\\" format=\\\"appended\\\" RangeMin=\\\"\\\"                     RangeMax=\\\"\\\"                     offset=\\\"1016\\\"                />\\n        <DataArray type=\\\"Int64\\\" Name=\\\"offsets\\\" format=\\\"appended\\\" RangeMin=\\\"\\\"                     RangeMax=\\\"\\\"                     offset=\\\"1140\\\"                />\\n      </Polys>\\n    </Piece>\\n  </PolyData>\\n  <AppendedData encoding=\\\"base64\\\">\\n   _AQAAAACAAADgBAAAGwAAAA==eJxjYBgFo2AUDF3QsJ9Etj1p7KFtBwD8OxfpAQAAAACAAADAAQAASQAAAA==eJyFzrsOQEAABVGFeBOPtSsI4v8/UmH6uc0p75TZvwob7HDCGQNGLLDGFnscccEVE+544IU35uIgbuIpPuIrWq/12N8Hem0Eiw==AQAAAACAAADAAQAAFgAAAA==eJxjYoAAJjJp1lEaL81OYxoA2KABGQ==AQAAAACAAACgAgAAKAAAAA==eJxjYGiwZ4CDUfYou2E/GrsBgrGqb8ChB1ldA5oefPZguAsAH38vSQ==AQAAAACAAADgBAAAgwAAAA==eJzdkssJwDAMQz1KR4k27SjpZoESqFBl0w/00EPAGBHJz45Yttjf2uKo+6xBfcw+SA/Sg/Qgvf6pXq3w0r5m6yaDZmtFNu3rLJof4WdhL83mZmHfv/LJfCtuGQfHM8tZcb7DrfJ9eiduj46/28sbbuqV3UPG88v7v8rZMTxxG7RB99E=AQAAAACAAABAAAAAHgAAAA==eJxjYIAARijNBKWZoTQLlGaF0mxQmh1KAwAC4AAdAQAAAACAAABAAAAAHgAAAA==eJxjZIAAJijNDKVZoDQrlGaD0uxQmgNKAwAEAAAlAQAAAACAAABAAgAAgwAAAA==eJwtxcdCAQAAAFBHIwmRERIZZZYdpYyU0f//jYP3Li8YuAg57IivHPW1Y75x3AknfeuU075zxlnnnPe9Cy665AeX/eiKq35yzXU33PSzX9xy2x133XPfr37zwEOPPPbEU8/87rkX/vCnl/7yt1dee+Otf7zzr/+898FHn/zvMyt2DD0=AQAAAACAAAAgAQAAUgAAAA==eJwtxdEGgwAAAMDJJJNJkkkyM0kyk8kkk0n6/y/qobuXC06Hs0NHvjj21YlTZ859c+HSle9++OnajVt3fvnt3h8P/nr05J9n/7149eYdEH4FNQ==AAAAAACAAAAAAAAAAAAAAACAAAAAAAAAAQAAAACAAAAgAQAASgAAAA==eJxdybkVgDAMBFFKRFwGAzbmcv8dEDBKVsl/mrXmvw5bNOxlH3HASbr/AVeccZEeZc+44ybd/4QXHlikn7JXfPCW7v+LHyMhDN8=AQAAAACAAABgAAAAKAAAAA==eJxjZoAANijNCaV5oDQ/lBaC0qJQWgJKS0NpOSitCKVVoDQAIoAA6w==\\n  </AppendedData>\\n</VTKFile>\\n\", \"color\": [1.0, 1.0, 1.0, 1.0], \"position\": [-10.0, 0.0, 5.0], \"orientation\": [0.0, -0.0, 0.0]}, {\"shape\": \"<?xml version=\\\"1.0\\\"?>\\n<VTKFile type=\\\"PolyData\\\" version=\\\"0.1\\\" byte_order=\\\"LittleEndian\\\" header_type=\\\"UInt32\\\" compressor=\\\"vtkZLibDataCompressor\\\">\\n  <PolyData>\\n    <Piece NumberOfPoints=\\\"104\\\"                  NumberOfVerts=\\\"8\\\"                    NumberOfLines=\\\"36\\\"                   NumberOfStrips=\\\"0\\\"                    NumberOfPolys=\\\"12\\\"                  >\\n      <PointData Normals=\\\"Normals\\\">\\n        <DataArray type=\\\"Float32\\\" Name=\\\"Normals\\\" NumberOfComponents=\\\"3\\\" format=\\\"appended\\\" RangeMin=\\\"0\\\"                    RangeMax=\\\"1\\\"                    offset=\\\"0\\\"                   />\\n      </PointData>\\n      <CellData Normals=\\\"Normals\\\">\\n        <DataArray type=\\\"Int64\\\" IdType=\\\"1\\\" Name=\\\"SUBSHAPE_IDS\\\" format=\\\"appended\\\" RangeMin=\\\"4\\\"                    RangeMax=\\\"34\\\"                   offset=\\\"60\\\"                  />\\n        <DataArray type=\\\"Int64\\\" IdType=\\\"1\\\" Name=\\\"MESH_TYPES\\\" format=\\\"appended\\\" RangeMin=\\\"2\\\"                    RangeMax=\\\"7\\\"                    offset=\\\"184\\\"                 />\\n        <DataArray type=\\\"Float32\\\" Name=\\\"Normals\\\" NumberOfComponents=\\\"3\\\" format=\\\"appended\\\" RangeMin=\\\"1\\\"                    RangeMax=\\\"1\\\"                    offset=\\\"240\\\"                 />\\n      </CellData>\\n      <Points>\\n        <DataArray type=\\\"Float32\\\" Name=\\\"Points\\\" NumberOfComponents=\\\"3\\\" format=\\\"appended\\\" RangeMin=\\\"12.247448714\\\"         RangeMax=\\\"12.247448714\\\"         offset=\\\"320\\\"                 />\\n      </Points>\\n      <Verts>\\n        <DataArray type=\\\"Int64\\\" Name=\\\"connectivity\\\" format=\\\"appended\\\" RangeMin=\\\"\\\"                     RangeMax=\\\"\\\"                     offset=\\\"520\\\"                 />\\n        <DataArray type=\\\"Int64\\\" Name=\\\"offsets\\\" format=\\\"appended\\\" RangeMin=\\\"\\\"                     RangeMax=\\\"\\\"                     offset=\\\"584\\\"                 />\\n      </Verts>\\n      <Lines>\\n        <DataArray type=\\\"Int64\\\" Name=\\\"connectivity\\\" format=\\\"appended\\\" RangeMin=\\\"\\\"                     RangeMax=\\\"\\\"                     offset=\\\"648\\\"                 />\\n        <DataArray type=\\\"Int64\\\" Name=\\\"offsets\\\" format=\\\"appended\\\" RangeMin=\\\"\\\"                     RangeMax=\\\"\\\"                     offset=\\\"848\\\"                 />\\n      </Lines>\\n      <Strips>\\n        <DataArray type=\\\"Int64\\\" Name=\\\"connectivity\\\" format=\\\"appended\\\" RangeMin=\\\"\\\"                     RangeMax=\\\"\\\"                     offset=\\\"984\\\"                 />\\n        <DataArray type=\\\"Int64\\\" Name=\\\"offsets\\\" format=\\\"appended\\\" RangeMin=\\\"\\\"                     RangeMax=\\\"\\\"                     offset=\\\"1000\\\"                />\\n      </Strips>\\n      <Polys>\\n        <DataArray type=\\\"Int64\\\" Name=\\\"connectivity\\\" format=\\\"appended\\\" RangeMin=\\\"\\\"                     RangeMax=\\\"\\\"                     offset=\\\"1016\\\"                />\\n        <DataArray type=\\\"Int64\\\" Name=\\\"offsets\\\" format=\\\"appended\\\" RangeMin=\\\"\\\"                     RangeMax=\\\"\\\"                     offset=\\\"1140\\\"                />\\n      </Polys>\\n    </Piece>\\n  </PolyData>\\n  <AppendedData encoding=\\\"base64\\\">\\n   _AQAAAACAAADgBAAAGwAAAA==eJxjYBgFo2AUDF3QsJ9Etj1p7KFtBwD8OxfpAQAAAACAAADAAQAASQAAAA==eJyFzrsOQEAABVGFeBOPtSsI4v8/UmH6uc0p75TZvwob7HDCGQNGLLDGFnscccEVE+544IU35uIgbuIpPuIrWq/12N8Hem0Eiw==AQAAAACAAADAAQAAFgAAAA==eJxjYoAAJjJp1lEaL81OYxoA2KABGQ==AQAAAACAAACgAgAAKAAAAA==eJxjYGiwZ4CDUfYou2E/GrsBgrGqb8ChB1ldA5oefPZguAsAH38vSQ==AQAAAACAAADgBAAAgwAAAA==eJzdkssJwDAMQz1KR1E27SjNZoESqFBl0w/00EPAGBHJz45Yt9jf0uKo+6xBfcw+SA/Sg/Qgvf6pXq3w0r5m6yaDZmtFNu3rLJof4WdhL83mZmHfv/LJfCtuGQfHM8tZcb7DrfJ9eiduj46/28sbbuqV3UPG88v7v8rZMTxxGxtpK3g=AQAAAACAAABAAAAAHgAAAA==eJxjYIAARijNBKWZoTQLlGaF0mxQmh1KAwAC4AAdAQAAAACAAABAAAAAHgAAAA==eJxjZIAAJijNDKVZoDQrlGaD0uxQmgNKAwAEAAAlAQAAAACAAABAAgAAgwAAAA==eJwtxcdCAQAAAFBHIwmRERIZZZYdpYyU0f//jYP3Li8YuAg57IivHPW1Y75x3AknfeuU075zxlnnnPe9Cy665AeX/eiKq35yzXU33PSzX9xy2x133XPfr37zwEOPPPbEU8/87rkX/vCnl/7yt1dee+Otf7zzr/+898FHn/zvMyt2DD0=AQAAAACAAAAgAQAAUgAAAA==eJwtxdEGgwAAAMDJJJNJkkkyM0kyk8kkk0n6/y/qobuXC06Hs0NHvjj21YlTZ859c+HSle9++OnajVt3fvnt3h8P/nr05J9n/7149eYdEH4FNQ==AAAAAACAAAAAAAAAAAAAAACAAAAAAAAAAQAAAACAAAAgAQAASgAAAA==eJxdybkVgDAMBFFKRFwGAzbmcv8dEDBKVsl/mrXmvw5bNOxlH3HASbr/AVeccZEeZc+44ybd/4QXHlikn7JXfPCW7v+LHyMhDN8=AQAAAACAAABgAAAAKAAAAA==eJxjZoAANijNCaV5oDQ/lBaC0qJQWgJKS0NpOSitCKVVoDQAIoAA6w==\\n  </AppendedData>\\n</VTKFile>\\n\", \"color\": [0.0, 0.0, 1.0, 0.5], \"position\": [4.999999999999999, -4.999999999999999, 10.0], \"orientation\": [-2.941176470590151e-18, -3.786531912534905e-29, 2.941176470589559e-18]}, {\"shape\": \"<?xml version=\\\"1.0\\\"?>\\n<VTKFile type=\\\"PolyData\\\" version=\\\"0.1\\\" byte_order=\\\"LittleEndian\\\" header_type=\\\"UInt32\\\" compressor=\\\"vtkZLibDataCompressor\\\">\\n  <PolyData>\\n    <Piece NumberOfPoints=\\\"104\\\"                  NumberOfVerts=\\\"8\\\"                    NumberOfLines=\\\"36\\\"                   NumberOfStrips=\\\"0\\\"                    NumberOfPolys=\\\"12\\\"                  >\\n      <PointData Normals=\\\"Normals\\\">\\n        <DataArray type=\\\"Float32\\\" Name=\\\"Normals\\\" NumberOfComponents=\\\"3\\\" format=\\\"appended\\\" RangeMin=\\\"0\\\"                    RangeMax=\\\"1\\\"                    offset=\\\"0\\\"                   />\\n      </PointData>\\n      <CellData Normals=\\\"Normals\\\">\\n        <DataArray type=\\\"Int64\\\" IdType=\\\"1\\\" Name=\\\"SUBSHAPE_IDS\\\" format=\\\"appended\\\" RangeMin=\\\"4\\\"                    RangeMax=\\\"34\\\"                   offset=\\\"60\\\"                  />\\n        <DataArray type=\\\"Int64\\\" IdType=\\\"1\\\" Name=\\\"MESH_TYPES\\\" format=\\\"appended\\\" RangeMin=\\\"2\\\"                    RangeMax=\\\"7\\\"                    offset=\\\"184\\\"                 />\\n        <DataArray type=\\\"Float32\\\" Name=\\\"Normals\\\" NumberOfComponents=\\\"3\\\" format=\\\"appended\\\" RangeMin=\\\"1\\\"                    RangeMax=\\\"1\\\"                    offset=\\\"240\\\"                 />\\n      </CellData>\\n      <Points>\\n        <DataArray type=\\\"Float32\\\" Name=\\\"Points\\\" NumberOfComponents=\\\"3\\\" format=\\\"appended\\\" RangeMin=\\\"16.583123952\\\"         RangeMax=\\\"16.583123952\\\"         offset=\\\"320\\\"                 />\\n      </Points>\\n      <Verts>\\n        <DataArray type=\\\"Int64\\\" Name=\\\"connectivity\\\" format=\\\"appended\\\" RangeMin=\\\"\\\"                     RangeMax=\\\"\\\"                     offset=\\\"520\\\"                 />\\n        <DataArray type=\\\"Int64\\\" Name=\\\"offsets\\\" format=\\\"appended\\\" RangeMin=\\\"\\\"                     RangeMax=\\\"\\\"                     offset=\\\"584\\\"                 />\\n      </Verts>\\n      <Lines>\\n        <DataArray type=\\\"Int64\\\" Name=\\\"connectivity\\\" format=\\\"appended\\\" RangeMin=\\\"\\\"                     RangeMax=\\\"\\\"                     offset=\\\"648\\\"                 />\\n        <DataArray type=\\\"Int64\\\" Name=\\\"offsets\\\" format=\\\"appended\\\" RangeMin=\\\"\\\"                     RangeMax=\\\"\\\"                     offset=\\\"848\\\"                 />\\n      </Lines>\\n      <Strips>\\n        <DataArray type=\\\"Int64\\\" Name=\\\"connectivity\\\" format=\\\"appended\\\" RangeMin=\\\"\\\"                     RangeMax=\\\"\\\"                     offset=\\\"984\\\"                 />\\n        <DataArray type=\\\"Int64\\\" Name=\\\"offsets\\\" format=\\\"appended\\\" RangeMin=\\\"\\\"                     RangeMax=\\\"\\\"                     offset=\\\"1000\\\"                />\\n      </Strips>\\n      <Polys>\\n        <DataArray type=\\\"Int64\\\" Name=\\\"connectivity\\\" format=\\\"appended\\\" RangeMin=\\\"\\\"                     RangeMax=\\\"\\\"                     offset=\\\"1016\\\"                />\\n        <DataArray type=\\\"Int64\\\" Name=\\\"offsets\\\" format=\\\"appended\\\" RangeMin=\\\"\\\"                     RangeMax=\\\"\\\"                     offset=\\\"1140\\\"                />\\n      </Polys>\\n    </Piece>\\n  </PolyData>\\n  <AppendedData encoding=\\\"base64\\\">\\n   _AQAAAACAAADgBAAAGwAAAA==eJxjYBgFo2AUDF3QsJ9Etj1p7KFtBwD8OxfpAQAAAACAAADAAQAASQAAAA==eJyFzrsOQEAABVGFeBOPtSsI4v8/UmH6uc0p75TZvwob7HDCGQNGLLDGFnscccEVE+544IU35uIgbuIpPuIrWq/12N8Hem0Eiw==AQAAAACAAADAAQAAFgAAAA==eJxjYoAAJjJp1lEaL81OYxoA2KABGQ==AQAAAACAAACgAgAAKAAAAA==eJxjYGiwZ4CDUfYou2E/GrsBgrGqb8ChB1ldA5oefPZguAsAH38vSQ==AQAAAACAAADgBAAAgwAAAA==eJzdkssJwDAMQz2aslFH6ijNZoESqFBl0w/00EPAGBHJz45Yt9jf0uKo+6xBfcw+SA/Sg/Qgvf6pXq3w0r5m6yaDZmtFNu3rLJof4WdhL83mZmHfv/LJfCtuGQfHM8tZcb7DrfJ9eiduj46/28sbbuqV3UPG88v7v8rZMTxxG9X7S/g=AQAAAACAAABAAAAAHgAAAA==eJxjYIAARijNBKWZoTQLlGaF0mxQmh1KAwAC4AAdAQAAAACAAABAAAAAHgAAAA==eJxjZIAAJijNDKVZoDQrlGaD0uxQmgNKAwAEAAAlAQAAAACAAABAAgAAgwAAAA==eJwtxcdCAQAAAFBHIwmRERIZZZYdpYyU0f//jYP3Li8YuAg57IivHPW1Y75x3AknfeuU075zxlnnnPe9Cy665AeX/eiKq35yzXU33PSzX9xy2x133XPfr37zwEOPPPbEU8/87rkX/vCnl/7yt1dee+Otf7zzr/+898FHn/zvMyt2DD0=AQAAAACAAAAgAQAAUgAAAA==eJwtxdEGgwAAAMDJJJNJkkkyM0kyk8kkk0n6/y/qobuXC06Hs0NHvjj21YlTZ859c+HSle9++OnajVt3fvnt3h8P/nr05J9n/7149eYdEH4FNQ==AAAAAACAAAAAAAAAAAAAAACAAAAAAAAAAQAAAACAAAAgAQAASgAAAA==eJxdybkVgDAMBFFKRFwGAzbmcv8dEDBKVsl/mrXmvw5bNOxlH3HASbr/AVeccZEeZc+44ybd/4QXHlikn7JXfPCW7v+LHyMhDN8=AQAAAACAAABgAAAAKAAAAA==eJxjZoAANijNCaV5oDQ/lBaC0qJQWgJKS0NpOSitCKVVoDQAIoAA6w==\\n  </AppendedData>\\n</VTKFile>\\n\", \"color\": [1.0, 0.0, 0.0, 1.0], \"position\": [-14.999999999999996, -4.999999999999999, 25.0], \"orientation\": [-5.8823530507613644e-18, 2.0588233999372666e-17, -2.941176440259435e-18]}];\n    render(data, parent_element, 0.5);\n});\n",
      "text/plain": [
       "<cadquery.assembly.Assembly at 0x7f1f98cde310>"
      ]
     },
     "execution_count": 31,
     "metadata": {},
     "output_type": "execute_result"
    }
   ],
   "source": [
    "from cadquery import *\n",
    "\n",
    "w = 10\n",
    "d = 10\n",
    "h = 10\n",
    "\n",
    "part1 = Workplane().box(2 * w, 2 * d, h)\n",
    "part2 = Workplane().box(w, d, 2 * h)\n",
    "part3 = Workplane().box(w, d, 3 * h)\n",
    "\n",
    "assy = (\n",
    "    Assembly(part1, name=\"part1\", loc=Location(Vector(-w, 0, h / 2)))\n",
    "    .add(part2, name=\"part2\", color=Color(0, 0, 1, 0.5))\n",
    "    .add(part3, name=\"part3\", color=Color(\"red\"))\n",
    "    .constrain(\"part1@faces@>Z\", \"part3@faces@<Z\", \"Axis\")\n",
    "    .constrain(\"part1@faces@>Z\", \"part2@faces@<Z\", \"Axis\")\n",
    "    .constrain(\"part1@faces@>Y\", \"part3@faces@<Y\", \"Axis\")\n",
    "    .constrain(\"part1@faces@>Y\", \"part2@faces@<Y\", \"Axis\")\n",
    "    .constrain(\"part1@vertices@>(-1,-1,1)\", \"part3@vertices@>(-1,-1,-1)\", \"Point\")\n",
    "    .constrain(\"part1@vertices@>(1,-1,-1)\", \"part2@vertices@>(-1,-1,-1)\", \"Point\")\n",
    "    .solve()\n",
    ")\n",
    "assy"
   ]
  },
  {
   "cell_type": "code",
   "execution_count": 32,
   "metadata": {},
   "outputs": [
    {
     "data": {
      "application/javascript": "\n\nfunction render(data, parent_element, ratio){\n    \n    // Initial setup\n    const renderWindow = vtk.Rendering.Core.vtkRenderWindow.newInstance();\n    const renderer = vtk.Rendering.Core.vtkRenderer.newInstance({ background: [1, 1, 1 ] });\n    renderWindow.addRenderer(renderer);\n        \n    // iterate over all children children\n    for (var el of data){ \n        var trans = el.position;\n        var rot = el.orientation;\n        var rgba = el.color;\n        var shape = el.shape;\n        \n        // load the inline data\n        var reader = vtk.IO.XML.vtkXMLPolyDataReader.newInstance();\n        const textEncoder = new TextEncoder();\n        reader.parseAsArrayBuffer(textEncoder.encode(shape));\n\n        // setup actor,mapper and add\n        const mapper = vtk.Rendering.Core.vtkMapper.newInstance();\n        mapper.setInputConnection(reader.getOutputPort());\n        mapper.setResolveCoincidentTopologyToPolygonOffset();\n        mapper.setResolveCoincidentTopologyPolygonOffsetParameters(0.9,20);\n\n        const actor = vtk.Rendering.Core.vtkActor.newInstance();\n        actor.setMapper(mapper);\n\n        // set color and position\n        actor.getProperty().setColor(rgba.slice(0,3));\n        actor.getProperty().setOpacity(rgba[3]);\n        \n        actor.rotateZ(rot[2]*180/Math.PI);\n        actor.rotateY(rot[1]*180/Math.PI);\n        actor.rotateX(rot[0]*180/Math.PI);\n        \n        actor.setPosition(trans);\n\n        renderer.addActor(actor);\n\n    };\n    \n    renderer.resetCamera();\n    \n    const openglRenderWindow = vtk.Rendering.OpenGL.vtkRenderWindow.newInstance();\n    renderWindow.addView(openglRenderWindow);\n\n    // Add output to the \"parent element\"\n    var container;\n    var dims;\n    \n    if(typeof(parent_element.appendChild) !== \"undefined\"){\n        container = document.createElement(\"div\");\n        parent_element.appendChild(container);\n        dims = parent_element.getBoundingClientRect();\n    }else{\n        container = parent_element.append(\"<div/>\").children(\"div:last-child\").get(0);\n        dims = parent_element.get(0).getBoundingClientRect();\n    };\n\n    openglRenderWindow.setContainer(container);\n    \n    // handle size\n    if (ratio){\n        openglRenderWindow.setSize(dims.width, dims.width*ratio);\n    }else{\n        openglRenderWindow.setSize(dims.width, dims.height);\n    };\n    \n    // Interaction setup\n    const interact_style = vtk.Interaction.Style.vtkInteractorStyleManipulator.newInstance();\n\n    const manips = {\n        rot: vtk.Interaction.Manipulators.vtkMouseCameraTrackballRotateManipulator.newInstance(),\n        pan: vtk.Interaction.Manipulators.vtkMouseCameraTrackballPanManipulator.newInstance(),\n        zoom1: vtk.Interaction.Manipulators.vtkMouseCameraTrackballZoomManipulator.newInstance(),\n        zoom2: vtk.Interaction.Manipulators.vtkMouseCameraTrackballZoomManipulator.newInstance(),\n        roll: vtk.Interaction.Manipulators.vtkMouseCameraTrackballRollManipulator.newInstance(),\n    };\n\n    manips.zoom1.setControl(true);\n    manips.zoom2.setScrollEnabled(true);\n    manips.roll.setShift(true);\n    manips.pan.setButton(2);\n\n    for (var k in manips){\n        interact_style.addMouseManipulator(manips[k]);\n    };\n\n    const interactor = vtk.Rendering.Core.vtkRenderWindowInteractor.newInstance();\n    interactor.setView(openglRenderWindow);\n    interactor.initialize();\n    interactor.bindEvents(container);\n    interactor.setInteractorStyle(interact_style);\n\n    // Orientation marker\n\n    const axes = vtk.Rendering.Core.vtkAnnotatedCubeActor.newInstance();\n    axes.setXPlusFaceProperty({text: '+X'});\n    axes.setXMinusFaceProperty({text: '-X'});\n    axes.setYPlusFaceProperty({text: '+Y'});\n    axes.setYMinusFaceProperty({text: '-Y'});\n    axes.setZPlusFaceProperty({text: '+Z'});\n    axes.setZMinusFaceProperty({text: '-Z'});\n\n    const orientationWidget = vtk.Interaction.Widgets.vtkOrientationMarkerWidget.newInstance({\n        actor: axes,\n        interactor: interactor });\n    orientationWidget.setEnabled(true);\n    orientationWidget.setViewportCorner(vtk.Interaction.Widgets.vtkOrientationMarkerWidget.Corners.BOTTOM_LEFT);\n    orientationWidget.setViewportSize(0.2);\n\n};\n\n\nnew Promise(\n  function(resolve, reject)\n  {\n    if (typeof(require) !== \"undefined\" ){\n        require.config({\n         \"paths\": {\"vtk\": \"https://unpkg.com/vtk\"},\n        });\n        require([\"vtk\"], resolve, reject);\n    } else if ( typeof(vtk) === \"undefined\" ){\n        var script = document.createElement(\"script\");\n    \tscript.onload = resolve;\n    \tscript.onerror = reject;\n    \tscript.src = \"https://unpkg.com/vtk.js\";\n    \tdocument.head.appendChild(script);\n    } else { resolve() };\n }\n).then(() => {\n    var parent_element = element;\n    var data = [{\"shape\": \"<?xml version=\\\"1.0\\\"?>\\n<VTKFile type=\\\"PolyData\\\" version=\\\"0.1\\\" byte_order=\\\"LittleEndian\\\" header_type=\\\"UInt32\\\" compressor=\\\"vtkZLibDataCompressor\\\">\\n  <PolyData>\\n    <Piece NumberOfPoints=\\\"104\\\"                  NumberOfVerts=\\\"8\\\"                    NumberOfLines=\\\"36\\\"                   NumberOfStrips=\\\"0\\\"                    NumberOfPolys=\\\"12\\\"                  >\\n      <PointData Normals=\\\"Normals\\\">\\n        <DataArray type=\\\"Float32\\\" Name=\\\"Normals\\\" NumberOfComponents=\\\"3\\\" format=\\\"appended\\\" RangeMin=\\\"0\\\"                    RangeMax=\\\"1\\\"                    offset=\\\"0\\\"                   />\\n      </PointData>\\n      <CellData Normals=\\\"Normals\\\">\\n        <DataArray type=\\\"Int64\\\" IdType=\\\"1\\\" Name=\\\"SUBSHAPE_IDS\\\" format=\\\"appended\\\" RangeMin=\\\"4\\\"                    RangeMax=\\\"34\\\"                   offset=\\\"60\\\"                  />\\n        <DataArray type=\\\"Int64\\\" IdType=\\\"1\\\" Name=\\\"MESH_TYPES\\\" format=\\\"appended\\\" RangeMin=\\\"2\\\"                    RangeMax=\\\"7\\\"                    offset=\\\"184\\\"                 />\\n        <DataArray type=\\\"Float32\\\" Name=\\\"Normals\\\" NumberOfComponents=\\\"3\\\" format=\\\"appended\\\" RangeMin=\\\"1\\\"                    RangeMax=\\\"1\\\"                    offset=\\\"240\\\"                 />\\n      </CellData>\\n      <Points>\\n        <DataArray type=\\\"Float32\\\" Name=\\\"Points\\\" NumberOfComponents=\\\"3\\\" format=\\\"appended\\\" RangeMin=\\\"15\\\"                   RangeMax=\\\"15\\\"                   offset=\\\"320\\\"                 />\\n      </Points>\\n      <Verts>\\n        <DataArray type=\\\"Int64\\\" Name=\\\"connectivity\\\" format=\\\"appended\\\" RangeMin=\\\"\\\"                     RangeMax=\\\"\\\"                     offset=\\\"520\\\"                 />\\n        <DataArray type=\\\"Int64\\\" Name=\\\"offsets\\\" format=\\\"appended\\\" RangeMin=\\\"\\\"                     RangeMax=\\\"\\\"                     offset=\\\"584\\\"                 />\\n      </Verts>\\n      <Lines>\\n        <DataArray type=\\\"Int64\\\" Name=\\\"connectivity\\\" format=\\\"appended\\\" RangeMin=\\\"\\\"                     RangeMax=\\\"\\\"                     offset=\\\"648\\\"                 />\\n        <DataArray type=\\\"Int64\\\" Name=\\\"offsets\\\" format=\\\"appended\\\" RangeMin=\\\"\\\"                     RangeMax=\\\"\\\"                     offset=\\\"848\\\"                 />\\n      </Lines>\\n      <Strips>\\n        <DataArray type=\\\"Int64\\\" Name=\\\"connectivity\\\" format=\\\"appended\\\" RangeMin=\\\"\\\"                     RangeMax=\\\"\\\"                     offset=\\\"984\\\"                 />\\n        <DataArray type=\\\"Int64\\\" Name=\\\"offsets\\\" format=\\\"appended\\\" RangeMin=\\\"\\\"                     RangeMax=\\\"\\\"                     offset=\\\"1000\\\"                />\\n      </Strips>\\n      <Polys>\\n        <DataArray type=\\\"Int64\\\" Name=\\\"connectivity\\\" format=\\\"appended\\\" RangeMin=\\\"\\\"                     RangeMax=\\\"\\\"                     offset=\\\"1016\\\"                />\\n        <DataArray type=\\\"Int64\\\" Name=\\\"offsets\\\" format=\\\"appended\\\" RangeMin=\\\"\\\"                     RangeMax=\\\"\\\"                     offset=\\\"1140\\\"                />\\n      </Polys>\\n    </Piece>\\n  </PolyData>\\n  <AppendedData encoding=\\\"base64\\\">\\n   _AQAAAACAAADgBAAAGwAAAA==eJxjYBgFo2AUDF3QsJ9Etj1p7KFtBwD8OxfpAQAAAACAAADAAQAASQAAAA==eJyFzrsOQEAABVGFeBOPtSsI4v8/UmH6uc0p75TZvwob7HDCGQNGLLDGFnscccEVE+544IU35uIgbuIpPuIrWq/12N8Hem0Eiw==AQAAAACAAADAAQAAFgAAAA==eJxjYoAAJjJp1lEaL81OYxoA2KABGQ==AQAAAACAAACgAgAAKAAAAA==eJxjYGiwZ4CDUfYou2E/GrsBgrGqb8ChB1ldA5oefPZguAsAH38vSQ==AQAAAACAAADgBAAAgwAAAA==eJzdkssJwDAMQz1KR4k27SjpZoESqFBl0w/00EPAGBHJz45Yttjf2uKo+6xBfcw+SA/Sg/Qgvf6pXq3w0r5m6yaDZmtFNu3rLJof4WdhL83mZmHfv/LJfCtuGQfHM8tZcb7DrfJ9eiduj46/28sbbuqV3UPG88v7v8rZMTxxG7RB99E=AQAAAACAAABAAAAAHgAAAA==eJxjYIAARijNBKWZoTQLlGaF0mxQmh1KAwAC4AAdAQAAAACAAABAAAAAHgAAAA==eJxjZIAAJijNDKVZoDQrlGaD0uxQmgNKAwAEAAAlAQAAAACAAABAAgAAgwAAAA==eJwtxcdCAQAAAFBHIwmRERIZZZYdpYyU0f//jYP3Li8YuAg57IivHPW1Y75x3AknfeuU075zxlnnnPe9Cy665AeX/eiKq35yzXU33PSzX9xy2x133XPfr37zwEOPPPbEU8/87rkX/vCnl/7yt1dee+Otf7zzr/+898FHn/zvMyt2DD0=AQAAAACAAAAgAQAAUgAAAA==eJwtxdEGgwAAAMDJJJNJkkkyM0kyk8kkk0n6/y/qobuXC06Hs0NHvjj21YlTZ859c+HSle9++OnajVt3fvnt3h8P/nr05J9n/7149eYdEH4FNQ==AAAAAACAAAAAAAAAAAAAAACAAAAAAAAAAQAAAACAAAAgAQAASgAAAA==eJxdybkVgDAMBFFKRFwGAzbmcv8dEDBKVsl/mrXmvw5bNOxlH3HASbr/AVeccZEeZc+44ybd/4QXHlikn7JXfPCW7v+LHyMhDN8=AQAAAACAAABgAAAAKAAAAA==eJxjZoAANijNCaV5oDQ/lBaC0qJQWgJKS0NpOSitCKVVoDQAIoAA6w==\\n  </AppendedData>\\n</VTKFile>\\n\", \"color\": [1.0, 1.0, 1.0, 1.0], \"position\": [-10.0, 0.0, 5.0], \"orientation\": [0.0, -0.0, 0.0]}, {\"shape\": \"<?xml version=\\\"1.0\\\"?>\\n<VTKFile type=\\\"PolyData\\\" version=\\\"0.1\\\" byte_order=\\\"LittleEndian\\\" header_type=\\\"UInt32\\\" compressor=\\\"vtkZLibDataCompressor\\\">\\n  <PolyData>\\n    <Piece NumberOfPoints=\\\"104\\\"                  NumberOfVerts=\\\"8\\\"                    NumberOfLines=\\\"36\\\"                   NumberOfStrips=\\\"0\\\"                    NumberOfPolys=\\\"12\\\"                  >\\n      <PointData Normals=\\\"Normals\\\">\\n        <DataArray type=\\\"Float32\\\" Name=\\\"Normals\\\" NumberOfComponents=\\\"3\\\" format=\\\"appended\\\" RangeMin=\\\"0\\\"                    RangeMax=\\\"1\\\"                    offset=\\\"0\\\"                   />\\n      </PointData>\\n      <CellData Normals=\\\"Normals\\\">\\n        <DataArray type=\\\"Int64\\\" IdType=\\\"1\\\" Name=\\\"SUBSHAPE_IDS\\\" format=\\\"appended\\\" RangeMin=\\\"4\\\"                    RangeMax=\\\"34\\\"                   offset=\\\"60\\\"                  />\\n        <DataArray type=\\\"Int64\\\" IdType=\\\"1\\\" Name=\\\"MESH_TYPES\\\" format=\\\"appended\\\" RangeMin=\\\"2\\\"                    RangeMax=\\\"7\\\"                    offset=\\\"184\\\"                 />\\n        <DataArray type=\\\"Float32\\\" Name=\\\"Normals\\\" NumberOfComponents=\\\"3\\\" format=\\\"appended\\\" RangeMin=\\\"1\\\"                    RangeMax=\\\"1\\\"                    offset=\\\"240\\\"                 />\\n      </CellData>\\n      <Points>\\n        <DataArray type=\\\"Float32\\\" Name=\\\"Points\\\" NumberOfComponents=\\\"3\\\" format=\\\"appended\\\" RangeMin=\\\"12.247448714\\\"         RangeMax=\\\"12.247448714\\\"         offset=\\\"320\\\"                 />\\n      </Points>\\n      <Verts>\\n        <DataArray type=\\\"Int64\\\" Name=\\\"connectivity\\\" format=\\\"appended\\\" RangeMin=\\\"\\\"                     RangeMax=\\\"\\\"                     offset=\\\"520\\\"                 />\\n        <DataArray type=\\\"Int64\\\" Name=\\\"offsets\\\" format=\\\"appended\\\" RangeMin=\\\"\\\"                     RangeMax=\\\"\\\"                     offset=\\\"584\\\"                 />\\n      </Verts>\\n      <Lines>\\n        <DataArray type=\\\"Int64\\\" Name=\\\"connectivity\\\" format=\\\"appended\\\" RangeMin=\\\"\\\"                     RangeMax=\\\"\\\"                     offset=\\\"648\\\"                 />\\n        <DataArray type=\\\"Int64\\\" Name=\\\"offsets\\\" format=\\\"appended\\\" RangeMin=\\\"\\\"                     RangeMax=\\\"\\\"                     offset=\\\"848\\\"                 />\\n      </Lines>\\n      <Strips>\\n        <DataArray type=\\\"Int64\\\" Name=\\\"connectivity\\\" format=\\\"appended\\\" RangeMin=\\\"\\\"                     RangeMax=\\\"\\\"                     offset=\\\"984\\\"                 />\\n        <DataArray type=\\\"Int64\\\" Name=\\\"offsets\\\" format=\\\"appended\\\" RangeMin=\\\"\\\"                     RangeMax=\\\"\\\"                     offset=\\\"1000\\\"                />\\n      </Strips>\\n      <Polys>\\n        <DataArray type=\\\"Int64\\\" Name=\\\"connectivity\\\" format=\\\"appended\\\" RangeMin=\\\"\\\"                     RangeMax=\\\"\\\"                     offset=\\\"1016\\\"                />\\n        <DataArray type=\\\"Int64\\\" Name=\\\"offsets\\\" format=\\\"appended\\\" RangeMin=\\\"\\\"                     RangeMax=\\\"\\\"                     offset=\\\"1140\\\"                />\\n      </Polys>\\n    </Piece>\\n  </PolyData>\\n  <AppendedData encoding=\\\"base64\\\">\\n   _AQAAAACAAADgBAAAGwAAAA==eJxjYBgFo2AUDF3QsJ9Etj1p7KFtBwD8OxfpAQAAAACAAADAAQAASQAAAA==eJyFzrsOQEAABVGFeBOPtSsI4v8/UmH6uc0p75TZvwob7HDCGQNGLLDGFnscccEVE+544IU35uIgbuIpPuIrWq/12N8Hem0Eiw==AQAAAACAAADAAQAAFgAAAA==eJxjYoAAJjJp1lEaL81OYxoA2KABGQ==AQAAAACAAACgAgAAKAAAAA==eJxjYGiwZ4CDUfYou2E/GrsBgrGqb8ChB1ldA5oefPZguAsAH38vSQ==AQAAAACAAADgBAAAgwAAAA==eJzdkssJwDAMQz1KR1E27SjNZoESqFBl0w/00EPAGBHJz45Yt9jf0uKo+6xBfcw+SA/Sg/Qgvf6pXq3w0r5m6yaDZmtFNu3rLJof4WdhL83mZmHfv/LJfCtuGQfHM8tZcb7DrfJ9eiduj46/28sbbuqV3UPG88v7v8rZMTxxGxtpK3g=AQAAAACAAABAAAAAHgAAAA==eJxjYIAARijNBKWZoTQLlGaF0mxQmh1KAwAC4AAdAQAAAACAAABAAAAAHgAAAA==eJxjZIAAJijNDKVZoDQrlGaD0uxQmgNKAwAEAAAlAQAAAACAAABAAgAAgwAAAA==eJwtxcdCAQAAAFBHIwmRERIZZZYdpYyU0f//jYP3Li8YuAg57IivHPW1Y75x3AknfeuU075zxlnnnPe9Cy665AeX/eiKq35yzXU33PSzX9xy2x133XPfr37zwEOPPPbEU8/87rkX/vCnl/7yt1dee+Otf7zzr/+898FHn/zvMyt2DD0=AQAAAACAAAAgAQAAUgAAAA==eJwtxdEGgwAAAMDJJJNJkkkyM0kyk8kkk0n6/y/qobuXC06Hs0NHvjj21YlTZ859c+HSle9++OnajVt3fvnt3h8P/nr05J9n/7149eYdEH4FNQ==AAAAAACAAAAAAAAAAAAAAACAAAAAAAAAAQAAAACAAAAgAQAASgAAAA==eJxdybkVgDAMBFFKRFwGAzbmcv8dEDBKVsl/mrXmvw5bNOxlH3HASbr/AVeccZEeZc+44ybd/4QXHlikn7JXfPCW7v+LHyMhDN8=AQAAAACAAABgAAAAKAAAAA==eJxjZoAANijNCaV5oDQ/lBaC0qJQWgJKS0NpOSitCKVVoDQAIoAA6w==\\n  </AppendedData>\\n</VTKFile>\\n\", \"color\": [0.0, 0.0, 1.0, 0.5], \"position\": [4.999999999999999, -4.999999999999999, 10.0], \"orientation\": [-2.941176470590151e-18, -3.786531912534905e-29, 2.941176470589559e-18]}, {\"shape\": \"<?xml version=\\\"1.0\\\"?>\\n<VTKFile type=\\\"PolyData\\\" version=\\\"0.1\\\" byte_order=\\\"LittleEndian\\\" header_type=\\\"UInt32\\\" compressor=\\\"vtkZLibDataCompressor\\\">\\n  <PolyData>\\n    <Piece NumberOfPoints=\\\"104\\\"                  NumberOfVerts=\\\"8\\\"                    NumberOfLines=\\\"36\\\"                   NumberOfStrips=\\\"0\\\"                    NumberOfPolys=\\\"12\\\"                  >\\n      <PointData Normals=\\\"Normals\\\">\\n        <DataArray type=\\\"Float32\\\" Name=\\\"Normals\\\" NumberOfComponents=\\\"3\\\" format=\\\"appended\\\" RangeMin=\\\"0\\\"                    RangeMax=\\\"1\\\"                    offset=\\\"0\\\"                   />\\n      </PointData>\\n      <CellData Normals=\\\"Normals\\\">\\n        <DataArray type=\\\"Int64\\\" IdType=\\\"1\\\" Name=\\\"SUBSHAPE_IDS\\\" format=\\\"appended\\\" RangeMin=\\\"4\\\"                    RangeMax=\\\"34\\\"                   offset=\\\"60\\\"                  />\\n        <DataArray type=\\\"Int64\\\" IdType=\\\"1\\\" Name=\\\"MESH_TYPES\\\" format=\\\"appended\\\" RangeMin=\\\"2\\\"                    RangeMax=\\\"7\\\"                    offset=\\\"184\\\"                 />\\n        <DataArray type=\\\"Float32\\\" Name=\\\"Normals\\\" NumberOfComponents=\\\"3\\\" format=\\\"appended\\\" RangeMin=\\\"1\\\"                    RangeMax=\\\"1\\\"                    offset=\\\"240\\\"                 />\\n      </CellData>\\n      <Points>\\n        <DataArray type=\\\"Float32\\\" Name=\\\"Points\\\" NumberOfComponents=\\\"3\\\" format=\\\"appended\\\" RangeMin=\\\"16.583123952\\\"         RangeMax=\\\"16.583123952\\\"         offset=\\\"320\\\"                 />\\n      </Points>\\n      <Verts>\\n        <DataArray type=\\\"Int64\\\" Name=\\\"connectivity\\\" format=\\\"appended\\\" RangeMin=\\\"\\\"                     RangeMax=\\\"\\\"                     offset=\\\"520\\\"                 />\\n        <DataArray type=\\\"Int64\\\" Name=\\\"offsets\\\" format=\\\"appended\\\" RangeMin=\\\"\\\"                     RangeMax=\\\"\\\"                     offset=\\\"584\\\"                 />\\n      </Verts>\\n      <Lines>\\n        <DataArray type=\\\"Int64\\\" Name=\\\"connectivity\\\" format=\\\"appended\\\" RangeMin=\\\"\\\"                     RangeMax=\\\"\\\"                     offset=\\\"648\\\"                 />\\n        <DataArray type=\\\"Int64\\\" Name=\\\"offsets\\\" format=\\\"appended\\\" RangeMin=\\\"\\\"                     RangeMax=\\\"\\\"                     offset=\\\"848\\\"                 />\\n      </Lines>\\n      <Strips>\\n        <DataArray type=\\\"Int64\\\" Name=\\\"connectivity\\\" format=\\\"appended\\\" RangeMin=\\\"\\\"                     RangeMax=\\\"\\\"                     offset=\\\"984\\\"                 />\\n        <DataArray type=\\\"Int64\\\" Name=\\\"offsets\\\" format=\\\"appended\\\" RangeMin=\\\"\\\"                     RangeMax=\\\"\\\"                     offset=\\\"1000\\\"                />\\n      </Strips>\\n      <Polys>\\n        <DataArray type=\\\"Int64\\\" Name=\\\"connectivity\\\" format=\\\"appended\\\" RangeMin=\\\"\\\"                     RangeMax=\\\"\\\"                     offset=\\\"1016\\\"                />\\n        <DataArray type=\\\"Int64\\\" Name=\\\"offsets\\\" format=\\\"appended\\\" RangeMin=\\\"\\\"                     RangeMax=\\\"\\\"                     offset=\\\"1140\\\"                />\\n      </Polys>\\n    </Piece>\\n  </PolyData>\\n  <AppendedData encoding=\\\"base64\\\">\\n   _AQAAAACAAADgBAAAGwAAAA==eJxjYBgFo2AUDF3QsJ9Etj1p7KFtBwD8OxfpAQAAAACAAADAAQAASQAAAA==eJyFzrsOQEAABVGFeBOPtSsI4v8/UmH6uc0p75TZvwob7HDCGQNGLLDGFnscccEVE+544IU35uIgbuIpPuIrWq/12N8Hem0Eiw==AQAAAACAAADAAQAAFgAAAA==eJxjYoAAJjJp1lEaL81OYxoA2KABGQ==AQAAAACAAACgAgAAKAAAAA==eJxjYGiwZ4CDUfYou2E/GrsBgrGqb8ChB1ldA5oefPZguAsAH38vSQ==AQAAAACAAADgBAAAgwAAAA==eJzdkssJwDAMQz2aslFH6ijNZoESqFBl0w/00EPAGBHJz45Yt9jf0uKo+6xBfcw+SA/Sg/Qgvf6pXq3w0r5m6yaDZmtFNu3rLJof4WdhL83mZmHfv/LJfCtuGQfHM8tZcb7DrfJ9eiduj46/28sbbuqV3UPG88v7v8rZMTxxG9X7S/g=AQAAAACAAABAAAAAHgAAAA==eJxjYIAARijNBKWZoTQLlGaF0mxQmh1KAwAC4AAdAQAAAACAAABAAAAAHgAAAA==eJxjZIAAJijNDKVZoDQrlGaD0uxQmgNKAwAEAAAlAQAAAACAAABAAgAAgwAAAA==eJwtxcdCAQAAAFBHIwmRERIZZZYdpYyU0f//jYP3Li8YuAg57IivHPW1Y75x3AknfeuU075zxlnnnPe9Cy665AeX/eiKq35yzXU33PSzX9xy2x133XPfr37zwEOPPPbEU8/87rkX/vCnl/7yt1dee+Otf7zzr/+898FHn/zvMyt2DD0=AQAAAACAAAAgAQAAUgAAAA==eJwtxdEGgwAAAMDJJJNJkkkyM0kyk8kkk0n6/y/qobuXC06Hs0NHvjj21YlTZ859c+HSle9++OnajVt3fvnt3h8P/nr05J9n/7149eYdEH4FNQ==AAAAAACAAAAAAAAAAAAAAACAAAAAAAAAAQAAAACAAAAgAQAASgAAAA==eJxdybkVgDAMBFFKRFwGAzbmcv8dEDBKVsl/mrXmvw5bNOxlH3HASbr/AVeccZEeZc+44ybd/4QXHlikn7JXfPCW7v+LHyMhDN8=AQAAAACAAABgAAAAKAAAAA==eJxjZoAANijNCaV5oDQ/lBaC0qJQWgJKS0NpOSitCKVVoDQAIoAA6w==\\n  </AppendedData>\\n</VTKFile>\\n\", \"color\": [1.0, 0.0, 0.0, 1.0], \"position\": [-14.999999999999996, -4.999999999999999, 25.0], \"orientation\": [-5.8823530507613644e-18, 2.0588233999372666e-17, -2.941176440259435e-18]}];\n    render(data, parent_element, 0.5);\n});\n",
      "text/plain": [
       "<cadquery.assembly.Assembly at 0x7f1f94487a30>"
      ]
     },
     "execution_count": 32,
     "metadata": {},
     "output_type": "execute_result"
    }
   ],
   "source": [
    "from cadquery import *\n",
    "\n",
    "w = 10\n",
    "d = 10\n",
    "h = 10\n",
    "\n",
    "part1 = Workplane().box(2 * w, 2 * d, h)\n",
    "part2 = Workplane().box(w, d, 2 * h)\n",
    "part3 = Workplane().box(w, d, 3 * h)\n",
    "\n",
    "part1.faces(\">Z\").edges(\"<X\").vertices(\"<Y\").tag(\"pt1\")\n",
    "part1.faces(\">X\").edges(\"<Z\").vertices(\"<Y\").tag(\"pt2\")\n",
    "part3.faces(\"<Z\").edges(\"<X\").vertices(\"<Y\").tag(\"pt1\")\n",
    "part2.faces(\"<X\").edges(\"<Z\").vertices(\"<Y\").tag(\"pt2\")\n",
    "\n",
    "assy1 = (\n",
    "    Assembly(part1, name=\"part1\", loc=Location(Vector(-w, 0, h / 2)))\n",
    "    .add(part2, name=\"part2\", color=Color(0, 0, 1, 0.5))\n",
    "    .add(part3, name=\"part3\", color=Color(\"red\"))\n",
    "    .constrain(\"part1@faces@>Z\", \"part3@faces@<Z\", \"Axis\")\n",
    "    .constrain(\"part1@faces@>Z\", \"part2@faces@<Z\", \"Axis\")\n",
    "    .constrain(\"part1@faces@>Y\", \"part3@faces@<Y\", \"Axis\")\n",
    "    .constrain(\"part1@faces@>Y\", \"part2@faces@<Y\", \"Axis\")\n",
    "    .constrain(\"part1?pt1\", \"part3?pt1\", \"Point\")\n",
    "    .constrain(\"part1?pt2\", \"part2?pt2\", \"Point\")\n",
    "    .solve()\n",
    ")\n",
    "assy1"
   ]
  },
  {
   "cell_type": "code",
   "execution_count": null,
   "metadata": {},
   "outputs": [],
   "source": []
  }
 ],
 "metadata": {
  "kernelspec": {
   "display_name": "cadquery-env",
   "language": "python",
   "name": "python3"
  },
  "language_info": {
   "codemirror_mode": {
    "name": "ipython",
    "version": 3
   },
   "file_extension": ".py",
   "mimetype": "text/x-python",
   "name": "python",
   "nbconvert_exporter": "python",
   "pygments_lexer": "ipython3",
   "version": "3.9.21"
  }
 },
 "nbformat": 4,
 "nbformat_minor": 2
}
